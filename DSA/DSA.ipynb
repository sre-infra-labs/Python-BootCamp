{
 "cells": [
  {
   "cell_type": "markdown",
   "id": "05d225dd-cf5b-4ffa-b7cc-647520071171",
   "metadata": {},
   "source": [
    "# DBA\n",
    "\n",
    "- [Youtube - Data Structures and Algorithms using Python by CampusX](https://www.youtube.com/watch?v=f9Aje_cN_CY)\n",
    "- [PythonTutor - Code Visualizer](https://pythontutor.com/render.html#mode=display)"
   ]
  },
  {
   "cell_type": "code",
   "execution_count": null,
   "id": "e8b812c8-18d1-4058-858f-b7128c348419",
   "metadata": {},
   "outputs": [],
   "source": []
  }
 ],
 "metadata": {
  "kernelspec": {
   "display_name": "Python 3 (ipykernel)",
   "language": "python",
   "name": "python3"
  },
  "language_info": {
   "codemirror_mode": {
    "name": "ipython",
    "version": 3
   },
   "file_extension": ".py",
   "mimetype": "text/x-python",
   "name": "python",
   "nbconvert_exporter": "python",
   "pygments_lexer": "ipython3",
   "version": "3.12.7"
  }
 },
 "nbformat": 4,
 "nbformat_minor": 5
}
