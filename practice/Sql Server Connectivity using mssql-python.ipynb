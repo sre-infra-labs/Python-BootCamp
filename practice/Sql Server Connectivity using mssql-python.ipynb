{
 "cells": [
  {
   "cell_type": "markdown",
   "id": "f87a0fd1-2c12-4f4a-a463-be83e9471d2d",
   "metadata": {},
   "source": [
    "# mssql-python "
   ]
  },
  {
   "cell_type": "code",
   "execution_count": 3,
   "id": "d7e7da6d-dd6b-4a34-96a8-ffe028ea209b",
   "metadata": {},
   "outputs": [
    {
     "name": "stdout",
     "output_type": "stream",
     "text": [
      "env: MSSQLPASSWORD=yourstrongpassword\n"
     ]
    }
   ],
   "source": [
    "%env MSSQLPASSWORD=yourstrongpassword"
   ]
  },
  {
   "cell_type": "code",
   "execution_count": 4,
   "id": "2e20b413-ba2d-4c84-9de8-92047d85264b",
   "metadata": {},
   "outputs": [
    {
     "name": "stdout",
     "output_type": "stream",
     "text": [
      "yourstrongpassword\n",
      "SERVER=localhost;DATABASE=StackOverflow2013;UID=sa;PWD=yourstrongpassword;Encrypt=yes;\n"
     ]
    },
    {
     "ename": "AttributeError",
     "evalue": "module 'mssql_python' has no attribute 'connect'",
     "output_type": "error",
     "traceback": [
      "\u001b[0;31m---------------------------------------------------------------------------\u001b[0m",
      "\u001b[0;31mAttributeError\u001b[0m                            Traceback (most recent call last)",
      "Cell \u001b[0;32mIn[4], line 10\u001b[0m\n\u001b[1;32m      8\u001b[0m connection_string \u001b[38;5;241m=\u001b[39m \u001b[38;5;124mf\u001b[39m\u001b[38;5;124m\"\u001b[39m\u001b[38;5;124mSERVER=localhost;DATABASE=StackOverflow2013;UID=sa;PWD=\u001b[39m\u001b[38;5;132;01m{\u001b[39;00mMSSQLPASSWORD\u001b[38;5;132;01m}\u001b[39;00m\u001b[38;5;124m;Encrypt=yes;\u001b[39m\u001b[38;5;124m\"\u001b[39m\n\u001b[1;32m      9\u001b[0m \u001b[38;5;28mprint\u001b[39m(connection_string)\n\u001b[0;32m---> 10\u001b[0m connection \u001b[38;5;241m=\u001b[39m \u001b[43mmssql_python\u001b[49m\u001b[38;5;241;43m.\u001b[39;49m\u001b[43mconnect\u001b[49m(connection_string)\n\u001b[1;32m     12\u001b[0m \u001b[38;5;66;03m# Execute a query\u001b[39;00m\n\u001b[1;32m     13\u001b[0m cursor \u001b[38;5;241m=\u001b[39m connection\u001b[38;5;241m.\u001b[39mcursor()\n",
      "\u001b[0;31mAttributeError\u001b[0m: module 'mssql_python' has no attribute 'connect'"
     ]
    }
   ],
   "source": [
    "import mssql_python\n",
    "import os\n",
    "\n",
    "# Establish a connection\n",
    "# Specify connection string\n",
    "MSSQLPASSWORD = os.getenv(\"MSSQLPASSWORD\")\n",
    "print(MSSQLPASSWORD)\n",
    "connection_string = f\"SERVER=localhost;DATABASE=StackOverflow2013;UID=sa;PWD={MSSQLPASSWORD};Encrypt=yes;\"\n",
    "print(connection_string)\n",
    "connection = mssql_python.connect(connection_string)\n",
    " \n",
    "# Execute a query\n",
    "cursor = connection.cursor()\n",
    "cursor.execute(\"select top 10 Id, DisplayName, Location from dbo.Users;\")\n",
    "rows = cursor.fetchall()\n",
    " \n",
    "for row in rows:\n",
    "    print(row)\n",
    " \n",
    "# Close the connection\n",
    "connection.close()\n",
    " "
   ]
  },
  {
   "cell_type": "code",
   "execution_count": null,
   "id": "1f8b683a-ef90-419b-999c-6ea3db41a941",
   "metadata": {},
   "outputs": [],
   "source": [
    "! hostnamectl"
   ]
  },
  {
   "cell_type": "code",
   "execution_count": null,
   "id": "ff6b7673-d3cf-4945-a7bd-4541d78093d9",
   "metadata": {},
   "outputs": [],
   "source": [
    "! python --version"
   ]
  },
  {
   "cell_type": "code",
   "execution_count": null,
   "id": "61f18049-957e-43a9-bfd7-0fafa806f906",
   "metadata": {},
   "outputs": [],
   "source": []
  }
 ],
 "metadata": {
  "kernelspec": {
   "display_name": "Python 3 (ipykernel)",
   "language": "python",
   "name": "python3"
  },
  "language_info": {
   "codemirror_mode": {
    "name": "ipython",
    "version": 3
   },
   "file_extension": ".py",
   "mimetype": "text/x-python",
   "name": "python",
   "nbconvert_exporter": "python",
   "pygments_lexer": "ipython3",
   "version": "3.12.2"
  }
 },
 "nbformat": 4,
 "nbformat_minor": 5
}
