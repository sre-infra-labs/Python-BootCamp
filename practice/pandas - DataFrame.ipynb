{
 "cells": [
  {
   "cell_type": "markdown",
   "id": "ead060c8-c019-4bfe-85a4-aa403b2abf88",
   "metadata": {},
   "source": [
    "# Pandas DataFrame\n",
    "\n",
    "### Tutorials\n",
    "- [datacamp blog](https://www.datacamp.com/tutorial/pandas-tutorial-dataframe-python)\n",
    "- [Youtube - Python Pandas Tutorial 2: Dataframe Basics](https://www.youtube.com/watch?v=F6kmIpWWEdU)\n",
    "\n",
    "### Docs\n",
    "https://pandas.pydata.org/docs/reference/frame.html"
   ]
  },
  {
   "cell_type": "markdown",
   "id": "f11ebf6d-8539-4584-951d-0bbb0cbb6b5b",
   "metadata": {},
   "source": [
    "## Different ways of Creating DataFrame"
   ]
  },
  {
   "cell_type": "code",
   "execution_count": null,
   "id": "769b0b8e-a729-4cd2-a700-9e91244511e5",
   "metadata": {},
   "outputs": [],
   "source": [
    "# Iterating over Columns \n",
    "columns = list(df)\n",
    "\n",
    "for c in columns:\n",
    "    print(c)\n",
    "\n",
    "print ('***********************')\n",
    "\n",
    "# get all columns for row index 2\n",
    "for col in columns:\n",
    "    print(df[col][2])"
   ]
  },
  {
   "cell_type": "code",
   "execution_count": 5,
   "id": "ae4fcc78-610a-4bac-a67d-c2b9cfc89cc9",
   "metadata": {},
   "outputs": [
    {
     "name": "stdout",
     "output_type": "stream",
     "text": [
      "Method 01: From CSV File => \n",
      "        day  temperature  windspeed  event\n",
      "0  1/1/2017           32          6   Rain\n",
      "1  1/2/2017           35          7  Sunny\n",
      "2  1/3/2017           28          2   Snow\n",
      "3  1/4/2017           24          7   Snow\n",
      "4  1/5/2017           32          4   Rain\n",
      "5  1/6/2017           31          2  Sunny\n",
      "\n",
      "----------\n",
      "\n",
      "Method 02: From Excel => \n",
      "        day  temperature  windspeed  event\n",
      "0  1/1/2017           32          6   Rain\n",
      "1  1/2/2017           35          7  Sunny\n",
      "2  1/3/2017           28          2   Snow\n",
      "3  1/4/2017           24          7   Snow\n",
      "4  1/5/2017           32          4   Rain\n",
      "5  1/6/2017           31          2  Sunny\n",
      "\n",
      "----------\n",
      "\n",
      "Method 03: From Python Dictionary of columns => \n",
      "        day  temperature  windspeed  event\n",
      "0  1/1/2017           32          6   Rain\n",
      "1  1/2/2017           35          7  Sunny\n",
      "2  1/3/2017           28          2   Snow\n",
      "3  1/4/2017           24          7   Snow\n",
      "4  1/5/2017           32          4   Rain\n",
      "5  1/6/2017           31          2  Sunny\n",
      "\n",
      "----------\n",
      "\n",
      "Method 04: From Python list of rows in dictionary form => \n",
      "        day  temperature  windspeed  event\n",
      "0  1/1/2017           32          6   Rain\n",
      "1  1/2/2017           35          7  Sunny\n",
      "2  1/3/2017           28          2   Snow\n",
      "3  1/4/2017           24          7   Snow\n",
      "4  1/5/2017           32          4   Rain\n",
      "5  1/6/2017           31          2  Sunny\n",
      "\n",
      "----------\n",
      "\n",
      "Method 05: From tuples list => \n",
      "        day  temperature  windspeed  event\n",
      "0  1/1/2017           32          6   Rain\n",
      "1  1/2/2017           35          7  Sunny\n",
      "2  1/3/2017           28          2   Snow\n",
      "3  1/4/2017           24          7   Snow\n",
      "4  1/5/2017           32          4   Rain\n",
      "5  1/6/2017           31          2  Sunny\n",
      "\n",
      "----------\n",
      "\n",
      "Method 06: Create shell dataframe, and then populate rows => \n",
      "  Initially empty dataframe..\n",
      "Empty DataFrame\n",
      "Columns: [day, temperature, windspeed, event]\n",
      "Index: []\n",
      "  DataFrame after populating from tuple list: \n",
      "        day  temperature  windspeed  event\n",
      "0  1/1/2017           32          6   Rain\n",
      "1  1/2/2017           35          7  Sunny\n",
      "2  1/3/2017           28          2   Snow\n",
      "3  1/4/2017           24          7   Snow\n",
      "4  1/5/2017           32          4   Rain\n",
      "5  1/6/2017           31          2  Sunny\n",
      "\n",
      "----------\n",
      "\n"
     ]
    }
   ],
   "source": [
    "import pandas as pd\n",
    "\n",
    "# Method 01: From CSV File\n",
    "df_csv = pd.read_csv(\"weather_data.csv\")\n",
    "print(f\"Method 01: From CSV File => \")\n",
    "print(df_csv)\n",
    "print(f\"\\n{'-'*10}\\n\")\n",
    "\n",
    "# Method 02: From Excel\n",
    "df_excel = pd.read_excel(\"weather_data.xlsx\")\n",
    "print(f\"Method 02: From Excel => \")\n",
    "print(df_excel)\n",
    "print(f\"\\n{'-'*10}\\n\")\n",
    "\n",
    "# Method 03: From Python Dictionary of columns\n",
    "weather_data = {\n",
    "    'day': ['1/1/2017', '1/2/2017', '1/3/2017', '1/4/2017', '1/5/2017', '1/6/2017'],\n",
    "    'temperature': [32, 35, 28, 24, 32, 31],\n",
    "    'windspeed': [6, 7, 2, 7, 4, 2],\n",
    "    'event': ['Rain', 'Sunny', 'Snow', 'Snow', 'Rain', 'Sunny']\n",
    "}\n",
    "df_dict = pd.DataFrame(weather_data)\n",
    "print(f\"Method 03: From Python Dictionary of columns => \")\n",
    "print(df_dict)\n",
    "print(f\"\\n{'-'*10}\\n\")\n",
    "\n",
    "# Method 04: From Python list of rows in dictionary form\n",
    "weather_data = [\n",
    "    {'day': '1/1/2017', 'temperature': 32, 'windspeed': 6, 'event': 'Rain'},\n",
    "    {'day': '1/2/2017', 'temperature': 35, 'windspeed': 7, 'event': 'Sunny'},\n",
    "    {'day': '1/3/2017', 'temperature': 28, 'windspeed': 2, 'event': 'Snow'},\n",
    "    {'day': '1/4/2017', 'temperature': 24, 'windspeed': 7, 'event': 'Snow'},\n",
    "    {'day': '1/5/2017', 'temperature': 32, 'windspeed': 4, 'event': 'Rain'},\n",
    "    {'day': '1/6/2017', 'temperature': 31, 'windspeed': 2, 'event': 'Sunny'}\n",
    "]\n",
    "df_dict2 = pd.DataFrame(weather_data)\n",
    "print(f\"Method 04: From Python list of rows in dictionary form => \")\n",
    "print(df_dict2)\n",
    "print(f\"\\n{'-'*10}\\n\")\n",
    "\n",
    "# Method 05: From tuples list\n",
    "weather_data = [\n",
    "    ('1/1/2017', 32, 6, 'Rain'),\n",
    "    ('1/2/2017', 35, 7, 'Sunny'),\n",
    "    ('1/3/2017', 28, 2, 'Snow'),\n",
    "    ('1/4/2017', 24, 7, 'Snow'),\n",
    "    ('1/5/2017', 32, 4, 'Rain'),\n",
    "    ('1/6/2017', 31, 2, 'Sunny')\n",
    "]\n",
    "df_tuple = pd.DataFrame(weather_data, columns=['day','temperature','windspeed','event'])\n",
    "print(f\"Method 05: From tuples list => \")\n",
    "print(df_tuple)\n",
    "print(f\"\\n{'-'*10}\\n\")\n",
    "\n",
    "# Method 06: Create shell dataframe, and then populate rows\n",
    "# df_shell = pd.DataFrame()\n",
    "df_shell = pd.DataFrame(columns=['day','temperature','windspeed','event'])\n",
    "print(f\"Method 06: Create shell dataframe, and then populate rows => \")\n",
    "print(f\"  Initially empty dataframe..\")\n",
    "print(df_shell)\n",
    "weather_data = [\n",
    "    ('1/1/2017', 32, 6, 'Rain'),\n",
    "    ('1/2/2017', 35, 7, 'Sunny'),\n",
    "    ('1/3/2017', 28, 2, 'Snow'),\n",
    "    ('1/4/2017', 24, 7, 'Snow'),\n",
    "    ('1/5/2017', 32, 4, 'Rain'),\n",
    "    ('1/6/2017', 31, 2, 'Sunny')\n",
    "]\n",
    "# populate data\n",
    "for row in weather_data:\n",
    "    df_shell.loc[len(df_shell)] = row\n",
    "print(f\"  DataFrame after populating from tuple list: \")\n",
    "print(df_shell)\n",
    "print(f\"\\n{'-'*10}\\n\")\n",
    "\n",
    "# Method 07: From database query result\n",
    "  # https://github.com/imajaydwivedi/SQLMonitor/blob/dev/Alerting/SmaAlertPackage/CommonFunctions/get_pandas_dataframe.py\n",
    "def get_pandas_dataframe(pyodbc_query_resultset, index_col=''):\n",
    "    if len(pyodbc_query_resultset) == 0:\n",
    "        raise Exception(f\"No data in passed resulset.\")\n",
    "    else:\n",
    "        df_columns = [column[0] for column in pyodbc_query_resultset[0].cursor_description]\n",
    "        #df_results = pd.DataFrame.from_records(pyodbc_query_resultset, columns=df_columns)\n",
    "\n",
    "        if index_col != '':\n",
    "            #df_results.set_index(index_col, inplace=True) # not working\n",
    "            #print('setting specific index')\n",
    "            index = df_columns.index(index_col)\n",
    "            index_values = [row[index] for row in pyodbc_query_resultset]\n",
    "            df_results = pd.DataFrame.from_records(pyodbc_query_resultset, index=index_values, columns=df_columns)\n",
    "        else:\n",
    "            df_results = pd.DataFrame.from_records(pyodbc_query_resultset, columns=df_columns)\n",
    "\n",
    "    return df_results"
   ]
  },
  {
   "cell_type": "markdown",
   "id": "f6e52539-3c96-4fd5-9b89-f403ce61b117",
   "metadata": {},
   "source": [
    "## Retrieve columns & values from DataFrame for Manipulations"
   ]
  },
  {
   "cell_type": "code",
   "execution_count": 6,
   "id": "664ec1d9-34a7-42e0-8642-c0c34ca74aaf",
   "metadata": {},
   "outputs": [
    {
     "ename": "NameError",
     "evalue": "name 'df' is not defined",
     "output_type": "error",
     "traceback": [
      "\u001b[0;31m---------------------------------------------------------------------------\u001b[0m",
      "\u001b[0;31mNameError\u001b[0m                                 Traceback (most recent call last)",
      "Cell \u001b[0;32mIn[6], line 11\u001b[0m\n\u001b[1;32m      9\u001b[0m row_list \u001b[38;5;241m=\u001b[39m \u001b[38;5;28mlist\u001b[39m()\n\u001b[1;32m     10\u001b[0m \u001b[38;5;28;01mfor\u001b[39;00m col \u001b[38;5;129;01min\u001b[39;00m columns:\n\u001b[0;32m---> 11\u001b[0m     val \u001b[38;5;241m=\u001b[39m \u001b[43mdf\u001b[49m[col][r]\n\u001b[1;32m     12\u001b[0m     \u001b[38;5;66;03m# Convert NumPy scaler to Python type\u001b[39;00m\n\u001b[1;32m     13\u001b[0m     \u001b[38;5;28;01mif\u001b[39;00m \u001b[38;5;28mhasattr\u001b[39m(val, \u001b[38;5;124m'\u001b[39m\u001b[38;5;124mitem\u001b[39m\u001b[38;5;124m'\u001b[39m):\n",
      "\u001b[0;31mNameError\u001b[0m: name 'df' is not defined"
     ]
    }
   ],
   "source": [
    "# get column names\n",
    "columns = list(df_excel.columns)\n",
    "\n",
    "# get shape. (row, col)\n",
    "row_count, col_count = df_excel.shape\n",
    "\n",
    "# print rows as tuple\n",
    "for r in range(0,row_count):\n",
    "    row_list = list()\n",
    "    for col in columns:\n",
    "        val = df[col][r]\n",
    "        # Convert NumPy scaler to Python type\n",
    "        if hasattr(val, 'item'):\n",
    "            val = val.item()\n",
    "        row_list.append(val)\n",
    "    print(tuple(row_list))\n",
    "    # print(f'\\n')"
   ]
  },
  {
   "cell_type": "code",
   "execution_count": 7,
   "id": "b1b95ee7-9760-402d-9d7e-f7bfe6aca8b3",
   "metadata": {},
   "outputs": [
    {
     "name": "stdout",
     "output_type": "stream",
     "text": [
      "{'day': '1/1/2017', 'temperature': 32, 'windspeed': 6, 'event': 'Rain'}\n",
      "{'day': '1/2/2017', 'temperature': 35, 'windspeed': 7, 'event': 'Sunny'}\n",
      "{'day': '1/3/2017', 'temperature': 28, 'windspeed': 2, 'event': 'Snow'}\n",
      "{'day': '1/4/2017', 'temperature': 24, 'windspeed': 7, 'event': 'Snow'}\n",
      "{'day': '1/5/2017', 'temperature': 32, 'windspeed': 4, 'event': 'Rain'}\n",
      "{'day': '1/6/2017', 'temperature': 31, 'windspeed': 2, 'event': 'Sunny'}\n"
     ]
    }
   ],
   "source": [
    "# get column names\n",
    "columns = list(df_excel.columns)\n",
    "\n",
    "# get shape. (row, col)\n",
    "row_count, col_count = df_excel.shape\n",
    "\n",
    "# print rows at dict\n",
    "for r in range(row_count):\n",
    "    row_dict = dict()\n",
    "    for col in columns:\n",
    "        val = df_excel[col][r]\n",
    "        # Convert NumPy scalar to Python type\n",
    "        if hasattr(val, 'item'):\n",
    "            val = val.item()\n",
    "        row_dict[col] = val\n",
    "    print(row_dict)\n",
    "    # print('\\n')"
   ]
  },
  {
   "cell_type": "markdown",
   "id": "367a3b5c-aabd-43d2-b974-56f7c1eeba6e",
   "metadata": {},
   "source": [
    "# Concepts"
   ]
  },
  {
   "cell_type": "code",
   "execution_count": 65,
   "id": "aa497588-3cad-4e45-b3e0-91368c0a83f0",
   "metadata": {},
   "outputs": [
    {
     "name": "stdout",
     "output_type": "stream",
     "text": [
      "  sql_instance disk_volume  used_pct     state\n",
      "0        srv01         c:\\     75.68   Warning\n",
      "1        srv01         d:\\     77.34   Warning\n",
      "2        srv01         e:\\     85.74  Critical\n",
      "3        srv02         d:\\     90.21  Critical\n"
     ]
    }
   ],
   "source": [
    "import pandas as pd\n",
    " \n",
    "# intialise data of lists.\n",
    "data = {'sql_instance':['srv01', 'srv01', 'srv01', 'srv02'],\n",
    "        'disk_volume':['c:\\\\', 'd:\\\\', 'e:\\\\', 'd:\\\\'],\n",
    "        'used_pct':[75.68, 77.34, 85.74, 90.21],\n",
    "        'state': ['Warning', 'Warning', 'Critical', 'Critical']\n",
    "       }\n",
    " \n",
    "# Create DataFrame\n",
    "df = pd.DataFrame(data)\n",
    "#df.style.set_caption(\"[Alert-DiskSpace] - 2 Warning - 2 Critical\")\n",
    "df.style.set_caption(\"Some Caption\").set_table_styles([{\n",
    "    'selector': 'caption',\n",
    "    'props': [\n",
    "        ('color', 'red'),\n",
    "        ('font-size', '16px')\n",
    "    ]\n",
    "}])\n",
    "# Print the output.\n",
    "print(df)"
   ]
  },
  {
   "cell_type": "code",
   "execution_count": 45,
   "id": "596991d3-a313-4862-8ffe-eb1bf3727ed1",
   "metadata": {},
   "outputs": [
    {
     "name": "stdout",
     "output_type": "stream",
     "text": [
      "\n",
      "DataFrame sorted by 'used_pct' (desc) and 'sql_instance' (asc):\n",
      "  sql_instance disk_volume  used_pct     state\n",
      "3        srv02         d:\\     90.21  Critical\n",
      "2        srv01         e:\\     85.74  Critical\n",
      "1        srv01         d:\\     77.34   Warning\n",
      "0        srv01         c:\\     75.68   Warning\n"
     ]
    }
   ],
   "source": [
    "# If you want to sort in descending order for a specific column, you can specify `ascending=False`:\n",
    "# For example, to sort 'alert_count' in descending order while 'created_time' is ascending:\n",
    "df_sorted_custom = df.sort_values(by=['used_pct', 'sql_instance'], ascending=[False, True])\n",
    "\n",
    "print(\"\\nDataFrame sorted by 'used_pct' (desc) and 'sql_instance' (asc):\")\n",
    "print(df_sorted_custom)"
   ]
  },
  {
   "cell_type": "markdown",
   "id": "4079ad66-c3ec-4ba2-b29a-77c43f6223d5",
   "metadata": {},
   "source": [
    "## Get column `sql_instance` into a list"
   ]
  },
  {
   "cell_type": "code",
   "execution_count": 46,
   "id": "e0f9b4a4-68e0-460d-8e0d-cc91e3b74031",
   "metadata": {},
   "outputs": [
    {
     "data": {
      "text/plain": [
       "['srv01', 'srv01', 'srv01', 'srv02']"
      ]
     },
     "execution_count": 46,
     "metadata": {},
     "output_type": "execute_result"
    }
   ],
   "source": [
    "df[\"sql_instance\"].tolist()"
   ]
  },
  {
   "cell_type": "markdown",
   "id": "ed317829-6876-4850-be27-42a937f74b6f",
   "metadata": {},
   "source": [
    "## Perform JOIN Operation"
   ]
  },
  {
   "cell_type": "code",
   "execution_count": 47,
   "id": "018ba69c-959c-45de-a750-9194e3c94259",
   "metadata": {},
   "outputs": [
    {
     "name": "stdout",
     "output_type": "stream",
     "text": [
      "df_sql_servers: \n",
      "  sql_server\n",
      "0      srv01\n",
      "1      srv02\n",
      "2      srv03\n",
      "\n",
      "\n",
      "df_sql_instances: \n",
      "  sql_instance\n",
      "0        srv01\n",
      "1        srv02\n",
      "2        srv03\n",
      "\n",
      "\n",
      "df_disk_info: \n",
      "  sql_instance disk_volume  used_pct     state\n",
      "0        srv01         c:\\     75.68   Warning\n",
      "1        srv01         d:\\     77.34   Warning\n",
      "2        srv01         e:\\     85.74  Critical\n",
      "3        srv02         d:\\     90.21  Critical\n"
     ]
    }
   ],
   "source": [
    "import pandas as pd\n",
    "\n",
    "all_sql_instance = ['srv01','srv02','srv03']\n",
    "\n",
    "df_sql_servers = pd.DataFrame({'sql_server': all_sql_instance})\n",
    "df_sql_instances = pd.DataFrame({'sql_instance': all_sql_instance})\n",
    "df_disk_info = df.copy()\n",
    "\n",
    "print(f\"df_sql_servers: \\n{df_sql_servers}\")\n",
    "print(f\"\\n\")\n",
    "print(f\"df_sql_instances: \\n{df_sql_instances}\")\n",
    "print(f\"\\n\")\n",
    "print(f\"df_disk_info: \\n{df_disk_info}\")"
   ]
  },
  {
   "cell_type": "markdown",
   "id": "2976a4db-aa04-48c8-ad47-ccf3c6bd7ecd",
   "metadata": {},
   "source": [
    "### Same join column_name"
   ]
  },
  {
   "cell_type": "code",
   "execution_count": 50,
   "id": "7e021b47-cd65-4cf0-b98d-e7d31e0eb25b",
   "metadata": {},
   "outputs": [
    {
     "name": "stdout",
     "output_type": "stream",
     "text": [
      "df_joined: \n",
      "  sql_instance disk_volume  used_pct     state\n",
      "0        srv01         c:\\     75.68   Warning\n",
      "1        srv01         d:\\     77.34   Warning\n",
      "2        srv01         e:\\     85.74  Critical\n",
      "3        srv02         d:\\     90.21  Critical\n",
      "4        srv03         NaN       NaN       NaN\n",
      "\n",
      "df_joined => \n",
      "  sql_instance disk_volume  used_pct\n",
      "0        srv01         c:\\     75.68\n",
      "1        srv01         d:\\     77.34\n",
      "2        srv01         e:\\     85.74\n",
      "3        srv02         d:\\     90.21\n",
      "4        srv03         NaN       NaN\n",
      "\n",
      "df_missing => \n",
      "  sql_instance disk_volume  used_pct\n",
      "4        srv03         NaN       NaN\n",
      "\n",
      "List of missing servers: ['srv03']\n"
     ]
    }
   ],
   "source": [
    "df_joined = df_sql_instances.merge(\n",
    "        df_disk_info[['sql_instance','disk_volume','used_pct','state']],\n",
    "        how='left',\n",
    "        on='sql_instance'\n",
    ")\n",
    "\n",
    "print(f\"df_joined: \\n{df_joined}\\n\")\n",
    "\n",
    "# drop a column\n",
    "df_joined.drop(columns=['state'], inplace=True)\n",
    "print(f\"df_joined => \\n{df_joined}\\n\")\n",
    "\n",
    "# get missing rows only\n",
    "df_missing = df_joined[df_joined['disk_volume'].isna()]\n",
    "print(f\"df_missing => \\n{df_missing}\\n\")\n",
    "\n",
    "# get missing sql_instance list\n",
    "print(f\"List of missing servers: {df_missing[\"sql_instance\"].tolist()}\")"
   ]
  },
  {
   "cell_type": "markdown",
   "id": "ea4519af-d507-4883-b3ec-12194a40001a",
   "metadata": {},
   "source": [
    "### Different join column_name"
   ]
  },
  {
   "cell_type": "code",
   "execution_count": 55,
   "id": "d206356a-8a20-4d77-bcc3-b15153ccaf57",
   "metadata": {},
   "outputs": [
    {
     "name": "stdout",
     "output_type": "stream",
     "text": [
      "df_joined: \n",
      "  sql_server sql_instance disk_volume  used_pct\n",
      "0      srv01        srv01         c:\\     75.68\n",
      "1      srv01        srv01         d:\\     77.34\n",
      "2      srv01        srv01         e:\\     85.74\n",
      "3      srv02        srv02         d:\\     90.21\n",
      "4      srv03          NaN         NaN       NaN\n",
      "\n",
      "df_joined => \n",
      "  sql_server disk_volume  used_pct\n",
      "0      srv01         c:\\     75.68\n",
      "1      srv01         d:\\     77.34\n",
      "2      srv01         e:\\     85.74\n",
      "3      srv02         d:\\     90.21\n",
      "4      srv03         NaN       NaN\n",
      "\n",
      "df_missing => \n",
      "  sql_server disk_volume  used_pct\n",
      "4      srv03         NaN       NaN\n",
      "\n",
      "List of missing sql_servers: ['srv03']\n"
     ]
    }
   ],
   "source": [
    "df_joined = df_sql_servers.merge(\n",
    "        df_disk_info[['sql_instance','disk_volume','used_pct']],\n",
    "        how='left',\n",
    "        left_on='sql_server',\n",
    "        right_on='sql_instance'\n",
    ")\n",
    "\n",
    "#df_joined[['sql_server','disk_volume','used_pct']]\n",
    "print(f\"df_joined: \\n{df_joined}\\n\")\n",
    "\n",
    "# drop a column\n",
    "df_joined.drop(columns=['sql_instance'], inplace=True)\n",
    "print(f\"df_joined => \\n{df_joined}\\n\")\n",
    "\n",
    "# get missing rows only\n",
    "df_missing = df_joined[df_joined['disk_volume'].isna()]\n",
    "print(f\"df_missing => \\n{df_missing}\\n\")\n",
    "\n",
    "# get missing sql_instance list\n",
    "print(f\"List of missing sql_servers: {df_missing[\"sql_server\"].tolist()}\")"
   ]
  },
  {
   "cell_type": "code",
   "execution_count": 20,
   "id": "a0c9fe1d-49d2-4a26-a518-3b1f5a3e8ca0",
   "metadata": {},
   "outputs": [
    {
     "data": {
      "text/plain": [
       "sql_instance       srv02\n",
       "disk_volume          d:\\\n",
       "used_pct           90.21\n",
       "state           Critical\n",
       "Name: 3, dtype: object"
      ]
     },
     "execution_count": 20,
     "metadata": {},
     "output_type": "execute_result"
    }
   ],
   "source": [
    "df.iloc[3]"
   ]
  },
  {
   "cell_type": "code",
   "execution_count": 18,
   "id": "aa945164-09c6-4255-b1ad-e579dcfc340e",
   "metadata": {},
   "outputs": [
    {
     "name": "stdout",
     "output_type": "stream",
     "text": [
      "0 sql_instance      srv01\n",
      "disk_volume         c:\\\n",
      "used_pct          75.68\n",
      "state           Warning\n",
      "Name: 0, dtype: object\n",
      "\n",
      "1 sql_instance      srv01\n",
      "disk_volume         d:\\\n",
      "used_pct          77.34\n",
      "state           Warning\n",
      "Name: 1, dtype: object\n",
      "\n",
      "2 sql_instance       srv01\n",
      "disk_volume          e:\\\n",
      "used_pct           85.74\n",
      "state           Critical\n",
      "Name: 2, dtype: object\n",
      "\n",
      "3 sql_instance       srv02\n",
      "disk_volume          d:\\\n",
      "used_pct           90.21\n",
      "state           Critical\n",
      "Name: 3, dtype: object\n",
      "\n"
     ]
    }
   ],
   "source": [
    "# Iterating over rows and columns \n",
    "for col_name, col_value in df.iterrows():\n",
    "    print(col_name, col_value)\n",
    "    print()"
   ]
  },
  {
   "cell_type": "code",
   "execution_count": 22,
   "id": "347e7ed1-f9df-4c24-a0ea-9ab47fb58b2c",
   "metadata": {},
   "outputs": [
    {
     "name": "stdout",
     "output_type": "stream",
     "text": [
      "sql_instance\n",
      "disk_volume\n",
      "used_pct\n",
      "state\n",
      "***********************\n",
      "srv01\n",
      "e:\\\n",
      "85.74\n",
      "Critical\n"
     ]
    }
   ],
   "source": [
    "# Iterating over Columns \n",
    "columns = list(df)\n",
    "\n",
    "for c in columns:\n",
    "    print(c)\n",
    "\n",
    "print ('***********************')\n",
    "\n",
    "# get all columns for row index 2\n",
    "for col in columns:\n",
    "    print(df[col][2])"
   ]
  },
  {
   "cell_type": "code",
   "execution_count": 29,
   "id": "88122332-9d0d-4c9d-9e52-68f627e8a091",
   "metadata": {},
   "outputs": [
    {
     "data": {
      "text/plain": [
       "['sql_instance', 'disk_volume', 'used_pct', 'state']"
      ]
     },
     "execution_count": 29,
     "metadata": {},
     "output_type": "execute_result"
    }
   ],
   "source": [
    "[col for col in df.columns]\n",
    "#list(df)"
   ]
  },
  {
   "cell_type": "code",
   "execution_count": 49,
   "id": "aa496b16-76c2-48b0-bcb6-eed528cfe733",
   "metadata": {},
   "outputs": [
    {
     "data": {
      "text/html": [
       "<div>\n",
       "<style scoped>\n",
       "    .dataframe tbody tr th:only-of-type {\n",
       "        vertical-align: middle;\n",
       "    }\n",
       "\n",
       "    .dataframe tbody tr th {\n",
       "        vertical-align: top;\n",
       "    }\n",
       "\n",
       "    .dataframe thead th {\n",
       "        text-align: right;\n",
       "    }\n",
       "</style>\n",
       "<table border=\"1\" class=\"dataframe\">\n",
       "  <thead>\n",
       "    <tr style=\"text-align: right;\">\n",
       "      <th></th>\n",
       "      <th>sql_instance</th>\n",
       "      <th>disk_volume</th>\n",
       "      <th>used_pct</th>\n",
       "      <th>state</th>\n",
       "    </tr>\n",
       "  </thead>\n",
       "  <tbody>\n",
       "    <tr>\n",
       "      <th>2</th>\n",
       "      <td>srv01</td>\n",
       "      <td>e:\\</td>\n",
       "      <td>85.74</td>\n",
       "      <td>Critical</td>\n",
       "    </tr>\n",
       "  </tbody>\n",
       "</table>\n",
       "</div>"
      ],
      "text/plain": [
       "  sql_instance disk_volume  used_pct     state\n",
       "2        srv01         e:\\     85.74  Critical"
      ]
     },
     "execution_count": 49,
     "metadata": {},
     "output_type": "execute_result"
    }
   ],
   "source": [
    "# Query data\n",
    "df.query('sql_instance == \"srv01\" and state == \"Critical\"')"
   ]
  },
  {
   "cell_type": "code",
   "execution_count": 66,
   "id": "c8a090b5-6334-4cb8-b7c5-85e45333f904",
   "metadata": {},
   "outputs": [
    {
     "data": {
      "text/html": [
       "<div>\n",
       "<style scoped>\n",
       "    .dataframe tbody tr th:only-of-type {\n",
       "        vertical-align: middle;\n",
       "    }\n",
       "\n",
       "    .dataframe tbody tr th {\n",
       "        vertical-align: top;\n",
       "    }\n",
       "\n",
       "    .dataframe thead th {\n",
       "        text-align: right;\n",
       "    }\n",
       "</style>\n",
       "<table border=\"1\" class=\"dataframe\">\n",
       "  <thead>\n",
       "    <tr style=\"text-align: right;\">\n",
       "      <th></th>\n",
       "      <th>sql_instance</th>\n",
       "      <th>disk_volume</th>\n",
       "      <th>used_pct</th>\n",
       "      <th>state</th>\n",
       "    </tr>\n",
       "  </thead>\n",
       "  <tbody>\n",
       "    <tr>\n",
       "      <th>2</th>\n",
       "      <td>srv01</td>\n",
       "      <td>e:\\</td>\n",
       "      <td>85.74</td>\n",
       "      <td>Critical</td>\n",
       "    </tr>\n",
       "  </tbody>\n",
       "</table>\n",
       "</div>"
      ],
      "text/plain": [
       "  sql_instance disk_volume  used_pct     state\n",
       "2        srv01         e:\\     85.74  Critical"
      ]
     },
     "execution_count": 66,
     "metadata": {},
     "output_type": "execute_result"
    }
   ],
   "source": [
    "# Filter data\n",
    "df.where( (df['sql_instance']=='srv01') & (df['state']=='Critical') ).dropna()"
   ]
  },
  {
   "cell_type": "code",
   "execution_count": 65,
   "id": "f9dd3210-75cb-4741-91fb-8279b5b7c6d6",
   "metadata": {},
   "outputs": [
    {
     "name": "stdout",
     "output_type": "stream",
     "text": [
      "row_count = 1\n",
      "(2, sql_instance       srv01\n",
      "disk_volume          e:\\\n",
      "used_pct           85.74\n",
      "state           Critical\n",
      "Name: 2, dtype: object)\n"
     ]
    }
   ],
   "source": [
    "# Filter data\n",
    "rows_filtered = df.where( (df['sql_instance']=='srv01') & (df['state']=='Critical') ).dropna()\n",
    "\n",
    "row_count = len(rows_filtered)\n",
    "print(f\"row_count = {row_count}\")\n",
    "if row_count > 0:\n",
    "    for row in rows_filtered.iterrows():\n",
    "        print(row)\n",
    "else:\n",
    "    print('No rows found.')"
   ]
  },
  {
   "cell_type": "code",
   "execution_count": 82,
   "id": "74c1a301-8acf-4b32-96dd-25395fd93066",
   "metadata": {},
   "outputs": [
    {
     "data": {
      "text/plain": [
       "0    False\n",
       "1    False\n",
       "2     True\n",
       "3     True\n",
       "Name: state, dtype: bool"
      ]
     },
     "execution_count": 82,
     "metadata": {},
     "output_type": "execute_result"
    }
   ],
   "source": [
    "df['state'] == 'Critical'"
   ]
  },
  {
   "cell_type": "code",
   "execution_count": 12,
   "id": "bd64407a-afb8-4fd9-8864-1c1acfd8601d",
   "metadata": {},
   "outputs": [
    {
     "data": {
      "text/plain": [
       "0     Warning\n",
       "1     Warning\n",
       "2    Critical\n",
       "3    Critical\n",
       "Name: state, dtype: object"
      ]
     },
     "execution_count": 12,
     "metadata": {},
     "output_type": "execute_result"
    }
   ],
   "source": [
    "df.state"
   ]
  },
  {
   "cell_type": "markdown",
   "id": "c44f2978-9e7d-45f5-b83c-00107885125d",
   "metadata": {},
   "source": [
    "# Concatenate or Merge DataFrames with Different number of Columns"
   ]
  },
  {
   "cell_type": "code",
   "execution_count": 67,
   "id": "5e700c9b-728c-4664-8f4e-eecb082cfadd",
   "metadata": {},
   "outputs": [
    {
     "name": "stdout",
     "output_type": "stream",
     "text": [
      "Method 04: From Python list of rows in dictionary form => \n",
      "        day  temperature  event  windspeed\n",
      "0  1/1/2017           32   Rain        NaN\n",
      "1  1/2/2017           35    NaN        7.0\n",
      "2  1/3/2017           28   Snow        2.0\n",
      "3  1/4/2017           24   Snow        7.0\n",
      "4  1/5/2017           32   Rain        4.0\n",
      "5  1/6/2017           31  Sunny        2.0\n",
      "\n",
      "----------\n",
      "\n"
     ]
    }
   ],
   "source": [
    "# Method 04: From Python list of rows in dictionary form\n",
    "weather_data = [\n",
    "    {'day': '1/1/2017', 'temperature': 32, 'event': 'Rain'},\n",
    "    {'day': '1/2/2017', 'temperature': 35, 'windspeed': 7},\n",
    "    {'day': '1/3/2017', 'temperature': 28, 'windspeed': 2, 'event': 'Snow'},\n",
    "    {'day': '1/4/2017', 'temperature': 24, 'windspeed': 7, 'event': 'Snow'},\n",
    "    {'day': '1/5/2017', 'temperature': 32, 'windspeed': 4, 'event': 'Rain'},\n",
    "    {'day': '1/6/2017', 'temperature': 31, 'windspeed': 2, 'event': 'Sunny'}\n",
    "]\n",
    "df_dict2 = pd.DataFrame(weather_data)\n",
    "print(f\"Method 04: From Python list of rows in dictionary form => \")\n",
    "print(df_dict2)\n",
    "print(f\"\\n{'-'*10}\\n\")"
   ]
  },
  {
   "cell_type": "code",
   "execution_count": 68,
   "id": "2b0acaab-5b93-42ff-8fab-f216d59ebd77",
   "metadata": {},
   "outputs": [
    {
     "name": "stdout",
     "output_type": "stream",
     "text": [
      "\n",
      "df_dataset_1 => \n",
      "        day  temperature event  windspeed\n",
      "0  1/1/2017           32  Rain        NaN\n",
      "1  1/2/2017           35   NaN        7.0\n",
      "\n",
      "\n",
      "df_dataset_2 => \n",
      "        day  windspeed  event\n",
      "0  1/3/2017          2   Snow\n",
      "1  1/4/2017          7   Snow\n",
      "2  1/5/2017          4   Rain\n",
      "3  1/6/2017          2  Sunny\n",
      "\n"
     ]
    }
   ],
   "source": [
    "weather_dataset_1 = [\n",
    "    {'day': '1/1/2017', 'temperature': 32, 'event': 'Rain'},\n",
    "    {'day': '1/2/2017', 'temperature': 35, 'windspeed': 7}\n",
    "]\n",
    "df_dataset_1 = pd.DataFrame(weather_dataset_1)\n",
    "print(f\"\\ndf_dataset_1 => \\n{df_dataset_1}\\n\")\n",
    "\n",
    "weather_dataset_2 = [\n",
    "    {'day': '1/3/2017', 'windspeed': 2, 'event': 'Snow'},\n",
    "    {'day': '1/4/2017', 'windspeed': 7, 'event': 'Snow'},\n",
    "    {'day': '1/5/2017', 'windspeed': 4, 'event': 'Rain'},\n",
    "    {'day': '1/6/2017', 'windspeed': 2, 'event': 'Sunny'}\n",
    "]\n",
    "df_dataset_2 = pd.DataFrame(weather_dataset_2)\n",
    "print(f\"\\ndf_dataset_2 => \\n{df_dataset_2}\\n\")"
   ]
  },
  {
   "cell_type": "code",
   "execution_count": 70,
   "id": "1f6d2aa7-1ffe-471d-9c80-233ce1d09659",
   "metadata": {},
   "outputs": [
    {
     "name": "stdout",
     "output_type": "stream",
     "text": [
      "\n",
      "df_combined => \n",
      "        day  temperature  event  windspeed\n",
      "0  1/1/2017         32.0   Rain        NaN\n",
      "1  1/2/2017         35.0    NaN        7.0\n",
      "0  1/3/2017          NaN   Snow        2.0\n",
      "1  1/4/2017          NaN   Snow        7.0\n",
      "2  1/5/2017          NaN   Rain        4.0\n",
      "3  1/6/2017          NaN  Sunny        2.0\n",
      "\n"
     ]
    }
   ],
   "source": [
    "df_combined = pd.concat([df_dataset_1,df_dataset_2])\n",
    "print(f\"\\ndf_combined => \\n{df_combined}\\n\")"
   ]
  },
  {
   "cell_type": "markdown",
   "id": "6e0c0fe2-2ca3-4d2a-9fdb-d3a4eb819264",
   "metadata": {},
   "source": [
    "# Column Level Transformation"
   ]
  },
  {
   "cell_type": "code",
   "execution_count": 17,
   "id": "5d0ee0f1-1b3a-4d51-8819-a9e2c7bc0c3a",
   "metadata": {},
   "outputs": [
    {
     "name": "stdout",
     "output_type": "stream",
     "text": [
      "           server_name  capacity_gb  used_gb  available_mb\n",
      "0  server1.example.com          512      210        309248\n",
      "1  server2.example.com         1024      560        474112\n",
      "2  server3.example.com          256      120        138240\n",
      "3  server4.example.com         2048     1720        337920\n",
      "4  server5.example.com          750      300        460800\n"
     ]
    }
   ],
   "source": [
    "import pandas as pd\n",
    "\n",
    "data = [\n",
    "    {\"server_name\": \"server1.example.com\", \"capacity_gb\": 512, \"used_gb\": 210, \"available_mb\": 309248},\n",
    "    {\"server_name\": \"server2.example.com\", \"capacity_gb\": 1024, \"used_gb\": 560, \"available_mb\": 474112},\n",
    "    {\"server_name\": \"server3.example.com\", \"capacity_gb\": 256, \"used_gb\": 120, \"available_mb\": 138240},\n",
    "    {\"server_name\": \"server4.example.com\", \"capacity_gb\": 2048, \"used_gb\": 1720, \"available_mb\": 337920},\n",
    "    {\"server_name\": \"server5.example.com\", \"capacity_gb\": 750, \"used_gb\": 300, \"available_mb\": 460800},\n",
    "]\n",
    "\n",
    "df = pd.DataFrame(data)\n",
    "\n",
    "print(df)\n"
   ]
  },
  {
   "cell_type": "code",
   "execution_count": 6,
   "id": "03be136c-4f92-4b0f-b6f2-68be6614255b",
   "metadata": {},
   "outputs": [
    {
     "name": "stdout",
     "output_type": "stream",
     "text": [
      "           server_name  capacity_gb  used_gb  available_mb  available_gb\n",
      "0  server1.example.com          512      210        309248         302.0\n",
      "1  server2.example.com         1024      560        474112         463.0\n",
      "2  server3.example.com          256      120        138240         135.0\n",
      "3  server4.example.com         2048     1720        337920         330.0\n",
      "4  server5.example.com          750      300        460800         450.0\n"
     ]
    }
   ],
   "source": [
    "# Example function 01\n",
    "def get_size_in_gb(size_in_mb):\n",
    "    return round(size_in_mb / 1024, 2)\n",
    "\n",
    "# Apply to 'available_mb' and store result in a new column\n",
    "df['available_gb'] = df['available_mb'].apply(get_size_in_gb)\n",
    "\n",
    "print(df)"
   ]
  },
  {
   "cell_type": "code",
   "execution_count": 18,
   "id": "a56e4502-78ed-47cf-8c29-6fbc489cf72f",
   "metadata": {},
   "outputs": [
    {
     "name": "stdout",
     "output_type": "stream",
     "text": [
      "col_dict: {'action': False, 'col_name': 'server_name', 'new_name': 'server_name', 'unit': 'mb'}\n",
      "col_dict: {'action': True, 'col_name': 'capacity_gb', 'new_name': 'capacity', 'unit': 'gb'}\n",
      "col_dict: {'action': True, 'col_name': 'used_gb', 'new_name': 'used', 'unit': 'gb'}\n",
      "col_dict: {'action': True, 'col_name': 'available_mb', 'new_name': 'available', 'unit': 'mb'}\n"
     ]
    },
    {
     "data": {
      "text/html": [
       "<div>\n",
       "<style scoped>\n",
       "    .dataframe tbody tr th:only-of-type {\n",
       "        vertical-align: middle;\n",
       "    }\n",
       "\n",
       "    .dataframe tbody tr th {\n",
       "        vertical-align: top;\n",
       "    }\n",
       "\n",
       "    .dataframe thead th {\n",
       "        text-align: right;\n",
       "    }\n",
       "</style>\n",
       "<table border=\"1\" class=\"dataframe\">\n",
       "  <thead>\n",
       "    <tr style=\"text-align: right;\">\n",
       "      <th></th>\n",
       "      <th>server_name</th>\n",
       "      <th>capacity</th>\n",
       "      <th>used</th>\n",
       "      <th>available</th>\n",
       "    </tr>\n",
       "  </thead>\n",
       "  <tbody>\n",
       "    <tr>\n",
       "      <th>0</th>\n",
       "      <td>server1.example.com</td>\n",
       "      <td>512.00 gb</td>\n",
       "      <td>210.00 gb</td>\n",
       "      <td>302.00 gb</td>\n",
       "    </tr>\n",
       "    <tr>\n",
       "      <th>1</th>\n",
       "      <td>server2.example.com</td>\n",
       "      <td>1024.00 gb</td>\n",
       "      <td>560.00 gb</td>\n",
       "      <td>463.00 gb</td>\n",
       "    </tr>\n",
       "    <tr>\n",
       "      <th>2</th>\n",
       "      <td>server3.example.com</td>\n",
       "      <td>256.00 gb</td>\n",
       "      <td>120.00 gb</td>\n",
       "      <td>135.00 gb</td>\n",
       "    </tr>\n",
       "    <tr>\n",
       "      <th>3</th>\n",
       "      <td>server4.example.com</td>\n",
       "      <td>2.00 tb</td>\n",
       "      <td>1.68 tb</td>\n",
       "      <td>330.00 gb</td>\n",
       "    </tr>\n",
       "    <tr>\n",
       "      <th>4</th>\n",
       "      <td>server5.example.com</td>\n",
       "      <td>750.00 gb</td>\n",
       "      <td>300.00 gb</td>\n",
       "      <td>450.00 gb</td>\n",
       "    </tr>\n",
       "  </tbody>\n",
       "</table>\n",
       "</div>"
      ],
      "text/plain": [
       "           server_name    capacity       used  available\n",
       "0  server1.example.com   512.00 gb  210.00 gb  302.00 gb\n",
       "1  server2.example.com  1024.00 gb  560.00 gb  463.00 gb\n",
       "2  server3.example.com   256.00 gb  120.00 gb  135.00 gb\n",
       "3  server4.example.com     2.00 tb    1.68 tb  330.00 gb\n",
       "4  server5.example.com   750.00 gb  300.00 gb  450.00 gb"
      ]
     },
     "execution_count": 18,
     "metadata": {},
     "output_type": "execute_result"
    }
   ],
   "source": [
    "# Example function 02\n",
    "import pandas as pd\n",
    "\n",
    "def get_pretty_data_size(size:float, unit:str='mb', precision:int=2):\n",
    "    \"\"\"_summary_\n",
    "\n",
    "    Args:\n",
    "        size (float): _description_\n",
    "        unit (str, optional): _description_. Defaults to 'mb'.\n",
    "        precision (int, optional): _description_. Defaults to 2.\n",
    "\n",
    "    Returns:\n",
    "        _type_: _description_\n",
    "\n",
    "    Examples:\n",
    "        pt.custom_format = { \"free_memory_kb\": lambda field, value: self.get_pretty_data_size(int(value),'kb') }\n",
    "        pt.custom_format[\"threshold_kb\"] = lambda field, value: self.get_pretty_data_size(int(value),'kb')\n",
    "    \"\"\"\n",
    "\n",
    "    if size is None:\n",
    "        return f\"None\"\n",
    "\n",
    "    unit = unit.lower()\n",
    "    suffixes = ['b', 'kb', 'mb', 'gb', 'tb']\n",
    "    suffixIndex = suffixes.index(unit)\n",
    "    while size > 1024 and suffixIndex < (len(suffixes)-1):\n",
    "        suffixIndex += 1 #increment the index of the suffix\n",
    "        size = size/1024.0 #apply the division\n",
    "\n",
    "    return \"%.*f %s\"%(precision,size,suffixes[suffixIndex])\n",
    "\n",
    "def df_cols_to_prettysize(df, columns_list, input_size='mb'):\n",
    "    \"\"\"\n",
    "    Convert specified columns in a DataFrame from current_unit to human-readable file sizes.\n",
    "\n",
    "    Parameters:\n",
    "        df (pd.DataFrame): The DataFrame containing size values.\n",
    "        columns_list (list): List of column names to convert.\n",
    "        current_unit (str): The current unit of the data ('kb', 'mb', 'gb').\n",
    "\n",
    "    Returns:\n",
    "        pd.DataFrame: Modified DataFrame with human-readable sizes in specified columns.\n",
    "    \"\"\"\n",
    "\n",
    "    input_size = input_size.lower()\n",
    "    suffixes = ['b', 'kb', 'mb', 'gb', 'tb']\n",
    "\n",
    "    # Transform column names\n",
    "    columns_all = list(df.columns)\n",
    "    columns_meta = list()\n",
    "\n",
    "    for col in columns_all:\n",
    "        suffix_identified = False\n",
    "\n",
    "        col_unit = None\n",
    "        col_new_name = col\n",
    "\n",
    "        for unit in suffixes:\n",
    "            # print(f\"Col: {col} || unit: {unit}\")\n",
    "            if col.endswith(f\"_{unit}\"):\n",
    "                suffix_identified = True\n",
    "                col_unit = unit\n",
    "                col_new_name = col.replace(f\"_{unit}\", '')\n",
    "                break\n",
    "\n",
    "        if col in columns_list:\n",
    "            if suffix_identified:\n",
    "                columns_meta.append(dict(action=True, col_name=col, new_name=col_new_name, unit=col_unit))\n",
    "            else:\n",
    "                columns_meta.append(dict(action=True, col_name=col, new_name=col_new_name, unit=input_size))\n",
    "        else:\n",
    "            columns_meta.append(dict(action=False, col_name=col, new_name=col_new_name, unit=input_size))\n",
    "\n",
    "    # Create empty dataframe\n",
    "    df_new = pd.DataFrame()\n",
    "    for col_dict in columns_meta:\n",
    "        # print(f\"col_dict: {col_dict}\")\n",
    "        if col_dict['action']:\n",
    "            df_new[col_dict['new_name']] = df[col_dict['col_name']].apply(lambda val: get_pretty_data_size(val, col_dict['unit']))\n",
    "        else:\n",
    "            df_new[col_dict['new_name']] = df[col_dict['col_name']]\n",
    "\n",
    "    return df_new0\n",
    "\n",
    "# Apply to 'available_mb' and store result in a new column\n",
    "df_cols_to_prettysize(df, ['capacity_gb','used_gb','available_mb'], input_size='mb')\n"
   ]
  },
  {
   "cell_type": "markdown",
   "id": "f11e76bb-0f35-41d7-bb44-54482c3d557c",
   "metadata": {},
   "source": [
    "# [Python Pandas Tutorial 2: Dataframe Basics](https://www.youtube.com/watch?v=F6kmIpWWEdU)"
   ]
  },
  {
   "cell_type": "code",
   "execution_count": 59,
   "id": "7b0b0209-0336-441d-8a37-ac723ec6005a",
   "metadata": {},
   "outputs": [],
   "source": [
    "import pandas as pd\n",
    "\n",
    "# Import data from csv\n",
    "df = pd.read_csv(\"weather_data.csv\")\n",
    "\n",
    "# Create from dictionary\n",
    "weather_data = {\n",
    "    'day': ['1/1/2017', '1/2/2017', '1/3/2017', '1/4/2017', '1/5/2017', '1/6/2017'],\n",
    "    'temperature': [32, 35, 28, 24, 32, 31],\n",
    "    'windspeed': [6, 7, 2, 7, 4, 2],\n",
    "    'event': ['Rain', 'Sunny', 'Snow', 'Snow', 'Rain', 'Sunny']\n",
    "}"
   ]
  },
  {
   "cell_type": "code",
   "execution_count": 9,
   "id": "536c03bb-8f24-4af5-9a4c-4ce4977a58ae",
   "metadata": {},
   "outputs": [
    {
     "data": {
      "text/html": [
       "<div>\n",
       "<style scoped>\n",
       "    .dataframe tbody tr th:only-of-type {\n",
       "        vertical-align: middle;\n",
       "    }\n",
       "\n",
       "    .dataframe tbody tr th {\n",
       "        vertical-align: top;\n",
       "    }\n",
       "\n",
       "    .dataframe thead th {\n",
       "        text-align: right;\n",
       "    }\n",
       "</style>\n",
       "<table border=\"1\" class=\"dataframe\">\n",
       "  <thead>\n",
       "    <tr style=\"text-align: right;\">\n",
       "      <th></th>\n",
       "      <th>day</th>\n",
       "      <th>temperature</th>\n",
       "      <th>windspeed</th>\n",
       "      <th>event</th>\n",
       "    </tr>\n",
       "  </thead>\n",
       "  <tbody>\n",
       "    <tr>\n",
       "      <th>0</th>\n",
       "      <td>1/1/2017</td>\n",
       "      <td>32</td>\n",
       "      <td>6</td>\n",
       "      <td>Rain</td>\n",
       "    </tr>\n",
       "    <tr>\n",
       "      <th>1</th>\n",
       "      <td>1/2/2017</td>\n",
       "      <td>35</td>\n",
       "      <td>7</td>\n",
       "      <td>Sunny</td>\n",
       "    </tr>\n",
       "    <tr>\n",
       "      <th>2</th>\n",
       "      <td>1/3/2017</td>\n",
       "      <td>28</td>\n",
       "      <td>2</td>\n",
       "      <td>Snow</td>\n",
       "    </tr>\n",
       "    <tr>\n",
       "      <th>3</th>\n",
       "      <td>1/4/2017</td>\n",
       "      <td>24</td>\n",
       "      <td>7</td>\n",
       "      <td>Snow</td>\n",
       "    </tr>\n",
       "    <tr>\n",
       "      <th>4</th>\n",
       "      <td>1/5/2017</td>\n",
       "      <td>32</td>\n",
       "      <td>4</td>\n",
       "      <td>Rain</td>\n",
       "    </tr>\n",
       "    <tr>\n",
       "      <th>5</th>\n",
       "      <td>1/6/2017</td>\n",
       "      <td>31</td>\n",
       "      <td>2</td>\n",
       "      <td>Sunny</td>\n",
       "    </tr>\n",
       "  </tbody>\n",
       "</table>\n",
       "</div>"
      ],
      "text/plain": [
       "        day  temperature  windspeed  event\n",
       "0  1/1/2017           32          6   Rain\n",
       "1  1/2/2017           35          7  Sunny\n",
       "2  1/3/2017           28          2   Snow\n",
       "3  1/4/2017           24          7   Snow\n",
       "4  1/5/2017           32          4   Rain\n",
       "5  1/6/2017           31          2  Sunny"
      ]
     },
     "execution_count": 9,
     "metadata": {},
     "output_type": "execute_result"
    }
   ],
   "source": [
    "df"
   ]
  },
  {
   "cell_type": "code",
   "execution_count": 13,
   "id": "f96e3d16-40d9-48fc-8348-93d5106f6797",
   "metadata": {},
   "outputs": [
    {
     "name": "stdout",
     "output_type": "stream",
     "text": [
      "(6, 4)\n",
      "(rows, columns): (6, 4)\n"
     ]
    }
   ],
   "source": [
    "# dimension (rows, columns)\n",
    "print(df.shape)\n",
    "\n",
    "rows, columns = df.shape\n",
    "\n",
    "print(f\"(rows, columns): ({rows}, {columns})\")"
   ]
  },
  {
   "cell_type": "code",
   "execution_count": 17,
   "id": "3a13cf3b-c6bb-4081-ad46-5aa20b56706b",
   "metadata": {},
   "outputs": [
    {
     "data": {
      "text/html": [
       "<div>\n",
       "<style scoped>\n",
       "    .dataframe tbody tr th:only-of-type {\n",
       "        vertical-align: middle;\n",
       "    }\n",
       "\n",
       "    .dataframe tbody tr th {\n",
       "        vertical-align: top;\n",
       "    }\n",
       "\n",
       "    .dataframe thead th {\n",
       "        text-align: right;\n",
       "    }\n",
       "</style>\n",
       "<table border=\"1\" class=\"dataframe\">\n",
       "  <thead>\n",
       "    <tr style=\"text-align: right;\">\n",
       "      <th></th>\n",
       "      <th>day</th>\n",
       "      <th>temperature</th>\n",
       "      <th>windspeed</th>\n",
       "      <th>event</th>\n",
       "    </tr>\n",
       "  </thead>\n",
       "  <tbody>\n",
       "    <tr>\n",
       "      <th>0</th>\n",
       "      <td>1/1/2017</td>\n",
       "      <td>32</td>\n",
       "      <td>6</td>\n",
       "      <td>Rain</td>\n",
       "    </tr>\n",
       "    <tr>\n",
       "      <th>1</th>\n",
       "      <td>1/2/2017</td>\n",
       "      <td>35</td>\n",
       "      <td>7</td>\n",
       "      <td>Sunny</td>\n",
       "    </tr>\n",
       "    <tr>\n",
       "      <th>2</th>\n",
       "      <td>1/3/2017</td>\n",
       "      <td>28</td>\n",
       "      <td>2</td>\n",
       "      <td>Snow</td>\n",
       "    </tr>\n",
       "    <tr>\n",
       "      <th>3</th>\n",
       "      <td>1/4/2017</td>\n",
       "      <td>24</td>\n",
       "      <td>7</td>\n",
       "      <td>Snow</td>\n",
       "    </tr>\n",
       "    <tr>\n",
       "      <th>4</th>\n",
       "      <td>1/5/2017</td>\n",
       "      <td>32</td>\n",
       "      <td>4</td>\n",
       "      <td>Rain</td>\n",
       "    </tr>\n",
       "  </tbody>\n",
       "</table>\n",
       "</div>"
      ],
      "text/plain": [
       "        day  temperature  windspeed  event\n",
       "0  1/1/2017           32          6   Rain\n",
       "1  1/2/2017           35          7  Sunny\n",
       "2  1/3/2017           28          2   Snow\n",
       "3  1/4/2017           24          7   Snow\n",
       "4  1/5/2017           32          4   Rain"
      ]
     },
     "execution_count": 17,
     "metadata": {},
     "output_type": "execute_result"
    }
   ],
   "source": [
    "# Get few rows\n",
    "df.head()"
   ]
  },
  {
   "cell_type": "code",
   "execution_count": 18,
   "id": "5e92524e-f10b-4f49-82aa-1abccbca21bd",
   "metadata": {},
   "outputs": [
    {
     "data": {
      "text/html": [
       "<div>\n",
       "<style scoped>\n",
       "    .dataframe tbody tr th:only-of-type {\n",
       "        vertical-align: middle;\n",
       "    }\n",
       "\n",
       "    .dataframe tbody tr th {\n",
       "        vertical-align: top;\n",
       "    }\n",
       "\n",
       "    .dataframe thead th {\n",
       "        text-align: right;\n",
       "    }\n",
       "</style>\n",
       "<table border=\"1\" class=\"dataframe\">\n",
       "  <thead>\n",
       "    <tr style=\"text-align: right;\">\n",
       "      <th></th>\n",
       "      <th>day</th>\n",
       "      <th>temperature</th>\n",
       "      <th>windspeed</th>\n",
       "      <th>event</th>\n",
       "    </tr>\n",
       "  </thead>\n",
       "  <tbody>\n",
       "    <tr>\n",
       "      <th>0</th>\n",
       "      <td>1/1/2017</td>\n",
       "      <td>32</td>\n",
       "      <td>6</td>\n",
       "      <td>Rain</td>\n",
       "    </tr>\n",
       "    <tr>\n",
       "      <th>1</th>\n",
       "      <td>1/2/2017</td>\n",
       "      <td>35</td>\n",
       "      <td>7</td>\n",
       "      <td>Sunny</td>\n",
       "    </tr>\n",
       "  </tbody>\n",
       "</table>\n",
       "</div>"
      ],
      "text/plain": [
       "        day  temperature  windspeed  event\n",
       "0  1/1/2017           32          6   Rain\n",
       "1  1/2/2017           35          7  Sunny"
      ]
     },
     "execution_count": 18,
     "metadata": {},
     "output_type": "execute_result"
    }
   ],
   "source": [
    "# Get top 2 rows\n",
    "df.head(2)"
   ]
  },
  {
   "cell_type": "code",
   "execution_count": 19,
   "id": "302b17b2-7a9c-4518-9ed0-6dc0a4c2e016",
   "metadata": {},
   "outputs": [
    {
     "data": {
      "text/html": [
       "<div>\n",
       "<style scoped>\n",
       "    .dataframe tbody tr th:only-of-type {\n",
       "        vertical-align: middle;\n",
       "    }\n",
       "\n",
       "    .dataframe tbody tr th {\n",
       "        vertical-align: top;\n",
       "    }\n",
       "\n",
       "    .dataframe thead th {\n",
       "        text-align: right;\n",
       "    }\n",
       "</style>\n",
       "<table border=\"1\" class=\"dataframe\">\n",
       "  <thead>\n",
       "    <tr style=\"text-align: right;\">\n",
       "      <th></th>\n",
       "      <th>day</th>\n",
       "      <th>temperature</th>\n",
       "      <th>windspeed</th>\n",
       "      <th>event</th>\n",
       "    </tr>\n",
       "  </thead>\n",
       "  <tbody>\n",
       "    <tr>\n",
       "      <th>4</th>\n",
       "      <td>1/5/2017</td>\n",
       "      <td>32</td>\n",
       "      <td>4</td>\n",
       "      <td>Rain</td>\n",
       "    </tr>\n",
       "    <tr>\n",
       "      <th>5</th>\n",
       "      <td>1/6/2017</td>\n",
       "      <td>31</td>\n",
       "      <td>2</td>\n",
       "      <td>Sunny</td>\n",
       "    </tr>\n",
       "  </tbody>\n",
       "</table>\n",
       "</div>"
      ],
      "text/plain": [
       "        day  temperature  windspeed  event\n",
       "4  1/5/2017           32          4   Rain\n",
       "5  1/6/2017           31          2  Sunny"
      ]
     },
     "execution_count": 19,
     "metadata": {},
     "output_type": "execute_result"
    }
   ],
   "source": [
    "# Get bottom 2 rows\n",
    "df.tail(2)"
   ]
  },
  {
   "cell_type": "code",
   "execution_count": 20,
   "id": "6333720e-a711-4bc7-a03c-693435583bec",
   "metadata": {},
   "outputs": [
    {
     "data": {
      "text/html": [
       "<div>\n",
       "<style scoped>\n",
       "    .dataframe tbody tr th:only-of-type {\n",
       "        vertical-align: middle;\n",
       "    }\n",
       "\n",
       "    .dataframe tbody tr th {\n",
       "        vertical-align: top;\n",
       "    }\n",
       "\n",
       "    .dataframe thead th {\n",
       "        text-align: right;\n",
       "    }\n",
       "</style>\n",
       "<table border=\"1\" class=\"dataframe\">\n",
       "  <thead>\n",
       "    <tr style=\"text-align: right;\">\n",
       "      <th></th>\n",
       "      <th>day</th>\n",
       "      <th>temperature</th>\n",
       "      <th>windspeed</th>\n",
       "      <th>event</th>\n",
       "    </tr>\n",
       "  </thead>\n",
       "  <tbody>\n",
       "    <tr>\n",
       "      <th>2</th>\n",
       "      <td>1/3/2017</td>\n",
       "      <td>28</td>\n",
       "      <td>2</td>\n",
       "      <td>Snow</td>\n",
       "    </tr>\n",
       "    <tr>\n",
       "      <th>3</th>\n",
       "      <td>1/4/2017</td>\n",
       "      <td>24</td>\n",
       "      <td>7</td>\n",
       "      <td>Snow</td>\n",
       "    </tr>\n",
       "    <tr>\n",
       "      <th>4</th>\n",
       "      <td>1/5/2017</td>\n",
       "      <td>32</td>\n",
       "      <td>4</td>\n",
       "      <td>Rain</td>\n",
       "    </tr>\n",
       "  </tbody>\n",
       "</table>\n",
       "</div>"
      ],
      "text/plain": [
       "        day  temperature  windspeed event\n",
       "2  1/3/2017           28          2  Snow\n",
       "3  1/4/2017           24          7  Snow\n",
       "4  1/5/2017           32          4  Rain"
      ]
     },
     "execution_count": 20,
     "metadata": {},
     "output_type": "execute_result"
    }
   ],
   "source": [
    "# get row ids 2 to 4\n",
    "df[2:5]"
   ]
  },
  {
   "cell_type": "code",
   "execution_count": 21,
   "id": "d4f4b13a-9215-4c87-ae5f-48fe45724568",
   "metadata": {},
   "outputs": [
    {
     "data": {
      "text/plain": [
       "Index(['day', 'temperature', 'windspeed', 'event'], dtype='object')"
      ]
     },
     "execution_count": 21,
     "metadata": {},
     "output_type": "execute_result"
    }
   ],
   "source": [
    "# get columns\n",
    "df.columns"
   ]
  },
  {
   "cell_type": "code",
   "execution_count": 22,
   "id": "8d7e7edd-10c7-4d3a-88ff-1c71ac881385",
   "metadata": {},
   "outputs": [
    {
     "data": {
      "text/plain": [
       "0    1/1/2017\n",
       "1    1/2/2017\n",
       "2    1/3/2017\n",
       "3    1/4/2017\n",
       "4    1/5/2017\n",
       "5    1/6/2017\n",
       "Name: day, dtype: object"
      ]
     },
     "execution_count": 22,
     "metadata": {},
     "output_type": "execute_result"
    }
   ],
   "source": [
    "# get a particular column data\n",
    "df['day']"
   ]
  },
  {
   "cell_type": "code",
   "execution_count": 23,
   "id": "f5b5bca3-b0d1-44f8-974e-c605cc4df573",
   "metadata": {},
   "outputs": [
    {
     "data": {
      "text/plain": [
       "pandas.core.series.Series"
      ]
     },
     "execution_count": 23,
     "metadata": {},
     "output_type": "execute_result"
    }
   ],
   "source": [
    "# get type of column in pandas dataframe\n",
    "type(df['event'])"
   ]
  },
  {
   "cell_type": "code",
   "execution_count": 29,
   "id": "e6aa96e7-e48d-4190-ac8d-b6cf2b96ecd5",
   "metadata": {},
   "outputs": [
    {
     "data": {
      "text/html": [
       "<div>\n",
       "<style scoped>\n",
       "    .dataframe tbody tr th:only-of-type {\n",
       "        vertical-align: middle;\n",
       "    }\n",
       "\n",
       "    .dataframe tbody tr th {\n",
       "        vertical-align: top;\n",
       "    }\n",
       "\n",
       "    .dataframe thead th {\n",
       "        text-align: right;\n",
       "    }\n",
       "</style>\n",
       "<table border=\"1\" class=\"dataframe\">\n",
       "  <thead>\n",
       "    <tr style=\"text-align: right;\">\n",
       "      <th></th>\n",
       "      <th>event</th>\n",
       "      <th>day</th>\n",
       "      <th>temperature</th>\n",
       "    </tr>\n",
       "  </thead>\n",
       "  <tbody>\n",
       "    <tr>\n",
       "      <th>0</th>\n",
       "      <td>Rain</td>\n",
       "      <td>1/1/2017</td>\n",
       "      <td>32</td>\n",
       "    </tr>\n",
       "    <tr>\n",
       "      <th>1</th>\n",
       "      <td>Sunny</td>\n",
       "      <td>1/2/2017</td>\n",
       "      <td>35</td>\n",
       "    </tr>\n",
       "    <tr>\n",
       "      <th>2</th>\n",
       "      <td>Snow</td>\n",
       "      <td>1/3/2017</td>\n",
       "      <td>28</td>\n",
       "    </tr>\n",
       "    <tr>\n",
       "      <th>3</th>\n",
       "      <td>Snow</td>\n",
       "      <td>1/4/2017</td>\n",
       "      <td>24</td>\n",
       "    </tr>\n",
       "    <tr>\n",
       "      <th>4</th>\n",
       "      <td>Rain</td>\n",
       "      <td>1/5/2017</td>\n",
       "      <td>32</td>\n",
       "    </tr>\n",
       "    <tr>\n",
       "      <th>5</th>\n",
       "      <td>Sunny</td>\n",
       "      <td>1/6/2017</td>\n",
       "      <td>31</td>\n",
       "    </tr>\n",
       "  </tbody>\n",
       "</table>\n",
       "</div>"
      ],
      "text/plain": [
       "   event       day  temperature\n",
       "0   Rain  1/1/2017           32\n",
       "1  Sunny  1/2/2017           35\n",
       "2   Snow  1/3/2017           28\n",
       "3   Snow  1/4/2017           24\n",
       "4   Rain  1/5/2017           32\n",
       "5  Sunny  1/6/2017           31"
      ]
     },
     "execution_count": 29,
     "metadata": {},
     "output_type": "execute_result"
    }
   ],
   "source": [
    "# get selected columns\n",
    "df[['event','day','temperature']]"
   ]
  },
  {
   "cell_type": "markdown",
   "id": "43f39531-4198-446c-9735-a953fc4b6535",
   "metadata": {},
   "source": [
    "## Operations with Data Frames"
   ]
  },
  {
   "cell_type": "code",
   "execution_count": 32,
   "id": "a386a00c-76eb-43ef-86c7-e24990d5aa2b",
   "metadata": {},
   "outputs": [
    {
     "name": "stdout",
     "output_type": "stream",
     "text": [
      "max temp: 35\n",
      "mean temp: 30.333333333333332\n",
      "min temp: 24\n"
     ]
    }
   ],
   "source": [
    "# get maximum temperature\n",
    "print(f'max temp: {df['temperature'].max()}')\n",
    "\n",
    "#\n",
    "print(f'mean temp: {df['temperature'].mean()}')\n",
    "\n",
    "#\n",
    "print(f'min temp: {df['temperature'].min()}')"
   ]
  },
  {
   "cell_type": "code",
   "execution_count": 34,
   "id": "1e41d664-8393-4b3a-b0ee-0f3bc7f6c26b",
   "metadata": {},
   "outputs": [
    {
     "data": {
      "text/html": [
       "<div>\n",
       "<style scoped>\n",
       "    .dataframe tbody tr th:only-of-type {\n",
       "        vertical-align: middle;\n",
       "    }\n",
       "\n",
       "    .dataframe tbody tr th {\n",
       "        vertical-align: top;\n",
       "    }\n",
       "\n",
       "    .dataframe thead th {\n",
       "        text-align: right;\n",
       "    }\n",
       "</style>\n",
       "<table border=\"1\" class=\"dataframe\">\n",
       "  <thead>\n",
       "    <tr style=\"text-align: right;\">\n",
       "      <th></th>\n",
       "      <th>temperature</th>\n",
       "      <th>windspeed</th>\n",
       "    </tr>\n",
       "  </thead>\n",
       "  <tbody>\n",
       "    <tr>\n",
       "      <th>count</th>\n",
       "      <td>6.000000</td>\n",
       "      <td>6.000000</td>\n",
       "    </tr>\n",
       "    <tr>\n",
       "      <th>mean</th>\n",
       "      <td>30.333333</td>\n",
       "      <td>4.666667</td>\n",
       "    </tr>\n",
       "    <tr>\n",
       "      <th>std</th>\n",
       "      <td>3.829708</td>\n",
       "      <td>2.338090</td>\n",
       "    </tr>\n",
       "    <tr>\n",
       "      <th>min</th>\n",
       "      <td>24.000000</td>\n",
       "      <td>2.000000</td>\n",
       "    </tr>\n",
       "    <tr>\n",
       "      <th>25%</th>\n",
       "      <td>28.750000</td>\n",
       "      <td>2.500000</td>\n",
       "    </tr>\n",
       "    <tr>\n",
       "      <th>50%</th>\n",
       "      <td>31.500000</td>\n",
       "      <td>5.000000</td>\n",
       "    </tr>\n",
       "    <tr>\n",
       "      <th>75%</th>\n",
       "      <td>32.000000</td>\n",
       "      <td>6.750000</td>\n",
       "    </tr>\n",
       "    <tr>\n",
       "      <th>max</th>\n",
       "      <td>35.000000</td>\n",
       "      <td>7.000000</td>\n",
       "    </tr>\n",
       "  </tbody>\n",
       "</table>\n",
       "</div>"
      ],
      "text/plain": [
       "       temperature  windspeed\n",
       "count     6.000000   6.000000\n",
       "mean     30.333333   4.666667\n",
       "std       3.829708   2.338090\n",
       "min      24.000000   2.000000\n",
       "25%      28.750000   2.500000\n",
       "50%      31.500000   5.000000\n",
       "75%      32.000000   6.750000\n",
       "max      35.000000   7.000000"
      ]
     },
     "execution_count": 34,
     "metadata": {},
     "output_type": "execute_result"
    }
   ],
   "source": [
    "# get statistics on numeric data\n",
    "df.describe()\n"
   ]
  },
  {
   "cell_type": "code",
   "execution_count": 64,
   "id": "e7e9248a-6353-4b25-8eac-da021f0f7803",
   "metadata": {},
   "outputs": [
    {
     "name": "stdout",
     "output_type": "stream",
     "text": [
      "        day  temperature  windspeed  event\n",
      "0  1/1/2017           32          6   Rain\n",
      "1  1/2/2017           35          7  Sunny\n",
      "4  1/5/2017           32          4   Rain\n",
      "\n",
      "hot days: ['1/1/2017', '1/2/2017', '1/5/2017']\n",
      "hot days: ['1/1/2017', '1/2/2017', '1/5/2017']\n"
     ]
    }
   ],
   "source": [
    "# get me rows with temp > 32\n",
    "print(df[df.temperature>= 32])\n",
    "print()\n",
    "\n",
    "print(f\"hot days: {df[df.temperature>= 32]['day'].tolist()}\")\n",
    "print(f\"hot days: {df['day'][df.temperature>= 32].tolist()}\")"
   ]
  },
  {
   "cell_type": "code",
   "execution_count": 36,
   "id": "b9de1f15-0172-47e7-8932-cd91c63002ec",
   "metadata": {},
   "outputs": [
    {
     "data": {
      "text/html": [
       "<div>\n",
       "<style scoped>\n",
       "    .dataframe tbody tr th:only-of-type {\n",
       "        vertical-align: middle;\n",
       "    }\n",
       "\n",
       "    .dataframe tbody tr th {\n",
       "        vertical-align: top;\n",
       "    }\n",
       "\n",
       "    .dataframe thead th {\n",
       "        text-align: right;\n",
       "    }\n",
       "</style>\n",
       "<table border=\"1\" class=\"dataframe\">\n",
       "  <thead>\n",
       "    <tr style=\"text-align: right;\">\n",
       "      <th></th>\n",
       "      <th>day</th>\n",
       "      <th>temperature</th>\n",
       "      <th>windspeed</th>\n",
       "      <th>event</th>\n",
       "    </tr>\n",
       "  </thead>\n",
       "  <tbody>\n",
       "    <tr>\n",
       "      <th>1</th>\n",
       "      <td>1/2/2017</td>\n",
       "      <td>35</td>\n",
       "      <td>7</td>\n",
       "      <td>Sunny</td>\n",
       "    </tr>\n",
       "  </tbody>\n",
       "</table>\n",
       "</div>"
      ],
      "text/plain": [
       "        day  temperature  windspeed  event\n",
       "1  1/2/2017           35          7  Sunny"
      ]
     },
     "execution_count": 36,
     "metadata": {},
     "output_type": "execute_result"
    }
   ],
   "source": [
    "# get me rows with max temp\n",
    "df[df.temperature==df.temperature.max()]"
   ]
  },
  {
   "cell_type": "code",
   "execution_count": 37,
   "id": "62d36d4f-041b-49f2-9810-81a0bea589f0",
   "metadata": {},
   "outputs": [
    {
     "data": {
      "text/html": [
       "<div>\n",
       "<style scoped>\n",
       "    .dataframe tbody tr th:only-of-type {\n",
       "        vertical-align: middle;\n",
       "    }\n",
       "\n",
       "    .dataframe tbody tr th {\n",
       "        vertical-align: top;\n",
       "    }\n",
       "\n",
       "    .dataframe thead th {\n",
       "        text-align: right;\n",
       "    }\n",
       "</style>\n",
       "<table border=\"1\" class=\"dataframe\">\n",
       "  <thead>\n",
       "    <tr style=\"text-align: right;\">\n",
       "      <th></th>\n",
       "      <th>day</th>\n",
       "      <th>temperature</th>\n",
       "      <th>windspeed</th>\n",
       "      <th>event</th>\n",
       "    </tr>\n",
       "  </thead>\n",
       "  <tbody>\n",
       "    <tr>\n",
       "      <th>1</th>\n",
       "      <td>1/2/2017</td>\n",
       "      <td>35</td>\n",
       "      <td>7</td>\n",
       "      <td>Sunny</td>\n",
       "    </tr>\n",
       "  </tbody>\n",
       "</table>\n",
       "</div>"
      ],
      "text/plain": [
       "        day  temperature  windspeed  event\n",
       "1  1/2/2017           35          7  Sunny"
      ]
     },
     "execution_count": 37,
     "metadata": {},
     "output_type": "execute_result"
    }
   ],
   "source": [
    "# get me rows with max temp\n",
    "df[df.temperature==df['temperature'].max()]"
   ]
  },
  {
   "cell_type": "code",
   "execution_count": 39,
   "id": "06b2f739-63b5-4977-91c1-9d53e636b8b1",
   "metadata": {},
   "outputs": [
    {
     "data": {
      "text/html": [
       "<div>\n",
       "<style scoped>\n",
       "    .dataframe tbody tr th:only-of-type {\n",
       "        vertical-align: middle;\n",
       "    }\n",
       "\n",
       "    .dataframe tbody tr th {\n",
       "        vertical-align: top;\n",
       "    }\n",
       "\n",
       "    .dataframe thead th {\n",
       "        text-align: right;\n",
       "    }\n",
       "</style>\n",
       "<table border=\"1\" class=\"dataframe\">\n",
       "  <thead>\n",
       "    <tr style=\"text-align: right;\">\n",
       "      <th></th>\n",
       "      <th>day</th>\n",
       "      <th>temperature</th>\n",
       "    </tr>\n",
       "  </thead>\n",
       "  <tbody>\n",
       "    <tr>\n",
       "      <th>1</th>\n",
       "      <td>1/2/2017</td>\n",
       "      <td>35</td>\n",
       "    </tr>\n",
       "  </tbody>\n",
       "</table>\n",
       "</div>"
      ],
      "text/plain": [
       "        day  temperature\n",
       "1  1/2/2017           35"
      ]
     },
     "execution_count": 39,
     "metadata": {},
     "output_type": "execute_result"
    }
   ],
   "source": [
    "# get me rows with max temp. get only 2 columns\n",
    "df[['day','temperature']][df.temperature==df['temperature'].max()]"
   ]
  },
  {
   "cell_type": "code",
   "execution_count": 42,
   "id": "9c6b9b0a-91ba-461b-9d95-f061561556d5",
   "metadata": {},
   "outputs": [
    {
     "data": {
      "text/plain": [
       "RangeIndex(start=0, stop=6, step=1)"
      ]
     },
     "execution_count": 42,
     "metadata": {},
     "output_type": "execute_result"
    }
   ],
   "source": [
    "# pandas dataframe has an index.\n",
    "# By default, it is an integer range generated automatically.\n",
    "df.index"
   ]
  },
  {
   "cell_type": "code",
   "execution_count": 57,
   "id": "0bc9d922-71fd-48bc-9981-a7f101818ea9",
   "metadata": {},
   "outputs": [
    {
     "data": {
      "text/html": [
       "<div>\n",
       "<style scoped>\n",
       "    .dataframe tbody tr th:only-of-type {\n",
       "        vertical-align: middle;\n",
       "    }\n",
       "\n",
       "    .dataframe tbody tr th {\n",
       "        vertical-align: top;\n",
       "    }\n",
       "\n",
       "    .dataframe thead th {\n",
       "        text-align: right;\n",
       "    }\n",
       "</style>\n",
       "<table border=\"1\" class=\"dataframe\">\n",
       "  <thead>\n",
       "    <tr style=\"text-align: right;\">\n",
       "      <th></th>\n",
       "      <th>day</th>\n",
       "      <th>temperature</th>\n",
       "      <th>windspeed</th>\n",
       "      <th>event</th>\n",
       "    </tr>\n",
       "  </thead>\n",
       "  <tbody>\n",
       "    <tr>\n",
       "      <th>0</th>\n",
       "      <td>1/1/2017</td>\n",
       "      <td>32</td>\n",
       "      <td>6</td>\n",
       "      <td>Rain</td>\n",
       "    </tr>\n",
       "    <tr>\n",
       "      <th>1</th>\n",
       "      <td>1/2/2017</td>\n",
       "      <td>35</td>\n",
       "      <td>7</td>\n",
       "      <td>Sunny</td>\n",
       "    </tr>\n",
       "    <tr>\n",
       "      <th>2</th>\n",
       "      <td>1/3/2017</td>\n",
       "      <td>28</td>\n",
       "      <td>2</td>\n",
       "      <td>Snow</td>\n",
       "    </tr>\n",
       "    <tr>\n",
       "      <th>3</th>\n",
       "      <td>1/4/2017</td>\n",
       "      <td>24</td>\n",
       "      <td>7</td>\n",
       "      <td>Snow</td>\n",
       "    </tr>\n",
       "    <tr>\n",
       "      <th>4</th>\n",
       "      <td>1/5/2017</td>\n",
       "      <td>32</td>\n",
       "      <td>4</td>\n",
       "      <td>Rain</td>\n",
       "    </tr>\n",
       "    <tr>\n",
       "      <th>5</th>\n",
       "      <td>1/6/2017</td>\n",
       "      <td>31</td>\n",
       "      <td>2</td>\n",
       "      <td>Sunny</td>\n",
       "    </tr>\n",
       "  </tbody>\n",
       "</table>\n",
       "</div>"
      ],
      "text/plain": [
       "        day  temperature  windspeed  event\n",
       "0  1/1/2017           32          6   Rain\n",
       "1  1/2/2017           35          7  Sunny\n",
       "2  1/3/2017           28          2   Snow\n",
       "3  1/4/2017           24          7   Snow\n",
       "4  1/5/2017           32          4   Rain\n",
       "5  1/6/2017           31          2  Sunny"
      ]
     },
     "execution_count": 57,
     "metadata": {},
     "output_type": "execute_result"
    }
   ],
   "source": [
    "df2 = df.copy()\n",
    "df"
   ]
  },
  {
   "cell_type": "code",
   "execution_count": 58,
   "id": "7e038d9d-66ef-4596-9cef-3a7909db819a",
   "metadata": {},
   "outputs": [
    {
     "data": {
      "text/html": [
       "<div>\n",
       "<style scoped>\n",
       "    .dataframe tbody tr th:only-of-type {\n",
       "        vertical-align: middle;\n",
       "    }\n",
       "\n",
       "    .dataframe tbody tr th {\n",
       "        vertical-align: top;\n",
       "    }\n",
       "\n",
       "    .dataframe thead th {\n",
       "        text-align: right;\n",
       "    }\n",
       "</style>\n",
       "<table border=\"1\" class=\"dataframe\">\n",
       "  <thead>\n",
       "    <tr style=\"text-align: right;\">\n",
       "      <th></th>\n",
       "      <th>temperature</th>\n",
       "      <th>windspeed</th>\n",
       "      <th>event</th>\n",
       "    </tr>\n",
       "    <tr>\n",
       "      <th>day</th>\n",
       "      <th></th>\n",
       "      <th></th>\n",
       "      <th></th>\n",
       "    </tr>\n",
       "  </thead>\n",
       "  <tbody>\n",
       "    <tr>\n",
       "      <th>1/1/2017</th>\n",
       "      <td>32</td>\n",
       "      <td>6</td>\n",
       "      <td>Rain</td>\n",
       "    </tr>\n",
       "    <tr>\n",
       "      <th>1/2/2017</th>\n",
       "      <td>35</td>\n",
       "      <td>7</td>\n",
       "      <td>Sunny</td>\n",
       "    </tr>\n",
       "    <tr>\n",
       "      <th>1/3/2017</th>\n",
       "      <td>28</td>\n",
       "      <td>2</td>\n",
       "      <td>Snow</td>\n",
       "    </tr>\n",
       "    <tr>\n",
       "      <th>1/4/2017</th>\n",
       "      <td>24</td>\n",
       "      <td>7</td>\n",
       "      <td>Snow</td>\n",
       "    </tr>\n",
       "    <tr>\n",
       "      <th>1/5/2017</th>\n",
       "      <td>32</td>\n",
       "      <td>4</td>\n",
       "      <td>Rain</td>\n",
       "    </tr>\n",
       "    <tr>\n",
       "      <th>1/6/2017</th>\n",
       "      <td>31</td>\n",
       "      <td>2</td>\n",
       "      <td>Sunny</td>\n",
       "    </tr>\n",
       "  </tbody>\n",
       "</table>\n",
       "</div>"
      ],
      "text/plain": [
       "          temperature  windspeed  event\n",
       "day                                    \n",
       "1/1/2017           32          6   Rain\n",
       "1/2/2017           35          7  Sunny\n",
       "1/3/2017           28          2   Snow\n",
       "1/4/2017           24          7   Snow\n",
       "1/5/2017           32          4   Rain\n",
       "1/6/2017           31          2  Sunny"
      ]
     },
     "execution_count": 58,
     "metadata": {},
     "output_type": "execute_result"
    }
   ],
   "source": [
    "# set \"day\" column as index\n",
    "df2.set_index('day', inplace=True)\n",
    "\n",
    "df2"
   ]
  },
  {
   "cell_type": "code",
   "execution_count": 60,
   "id": "04dc160a-9654-4c52-ba74-a2f8739f37a5",
   "metadata": {},
   "outputs": [
    {
     "data": {
      "text/plain": [
       "temperature      28\n",
       "windspeed         2\n",
       "event          Snow\n",
       "Name: 1/3/2017, dtype: object"
      ]
     },
     "execution_count": 60,
     "metadata": {},
     "output_type": "execute_result"
    }
   ],
   "source": [
    "# with custom index, we can use locator functions to get relevant data\n",
    "df2.loc['1/3/2017']"
   ]
  },
  {
   "cell_type": "code",
   "execution_count": 61,
   "id": "77df5141-6f7a-422f-817f-8c7f5ae307ee",
   "metadata": {},
   "outputs": [
    {
     "data": {
      "text/html": [
       "<div>\n",
       "<style scoped>\n",
       "    .dataframe tbody tr th:only-of-type {\n",
       "        vertical-align: middle;\n",
       "    }\n",
       "\n",
       "    .dataframe tbody tr th {\n",
       "        vertical-align: top;\n",
       "    }\n",
       "\n",
       "    .dataframe thead th {\n",
       "        text-align: right;\n",
       "    }\n",
       "</style>\n",
       "<table border=\"1\" class=\"dataframe\">\n",
       "  <thead>\n",
       "    <tr style=\"text-align: right;\">\n",
       "      <th></th>\n",
       "      <th>day</th>\n",
       "      <th>temperature</th>\n",
       "      <th>windspeed</th>\n",
       "      <th>event</th>\n",
       "    </tr>\n",
       "  </thead>\n",
       "  <tbody>\n",
       "    <tr>\n",
       "      <th>0</th>\n",
       "      <td>1/1/2017</td>\n",
       "      <td>32</td>\n",
       "      <td>6</td>\n",
       "      <td>Rain</td>\n",
       "    </tr>\n",
       "    <tr>\n",
       "      <th>1</th>\n",
       "      <td>1/2/2017</td>\n",
       "      <td>35</td>\n",
       "      <td>7</td>\n",
       "      <td>Sunny</td>\n",
       "    </tr>\n",
       "    <tr>\n",
       "      <th>2</th>\n",
       "      <td>1/3/2017</td>\n",
       "      <td>28</td>\n",
       "      <td>2</td>\n",
       "      <td>Snow</td>\n",
       "    </tr>\n",
       "    <tr>\n",
       "      <th>3</th>\n",
       "      <td>1/4/2017</td>\n",
       "      <td>24</td>\n",
       "      <td>7</td>\n",
       "      <td>Snow</td>\n",
       "    </tr>\n",
       "    <tr>\n",
       "      <th>4</th>\n",
       "      <td>1/5/2017</td>\n",
       "      <td>32</td>\n",
       "      <td>4</td>\n",
       "      <td>Rain</td>\n",
       "    </tr>\n",
       "    <tr>\n",
       "      <th>5</th>\n",
       "      <td>1/6/2017</td>\n",
       "      <td>31</td>\n",
       "      <td>2</td>\n",
       "      <td>Sunny</td>\n",
       "    </tr>\n",
       "  </tbody>\n",
       "</table>\n",
       "</div>"
      ],
      "text/plain": [
       "        day  temperature  windspeed  event\n",
       "0  1/1/2017           32          6   Rain\n",
       "1  1/2/2017           35          7  Sunny\n",
       "2  1/3/2017           28          2   Snow\n",
       "3  1/4/2017           24          7   Snow\n",
       "4  1/5/2017           32          4   Rain\n",
       "5  1/6/2017           31          2  Sunny"
      ]
     },
     "execution_count": 61,
     "metadata": {},
     "output_type": "execute_result"
    }
   ],
   "source": [
    "# get original index\n",
    "df2.reset_index(inplace=True)\n",
    "df2"
   ]
  },
  {
   "cell_type": "code",
   "execution_count": 62,
   "id": "2b142082-ac6c-4721-9b03-d1992342a935",
   "metadata": {},
   "outputs": [
    {
     "data": {
      "text/html": [
       "<div>\n",
       "<style scoped>\n",
       "    .dataframe tbody tr th:only-of-type {\n",
       "        vertical-align: middle;\n",
       "    }\n",
       "\n",
       "    .dataframe tbody tr th {\n",
       "        vertical-align: top;\n",
       "    }\n",
       "\n",
       "    .dataframe thead th {\n",
       "        text-align: right;\n",
       "    }\n",
       "</style>\n",
       "<table border=\"1\" class=\"dataframe\">\n",
       "  <thead>\n",
       "    <tr style=\"text-align: right;\">\n",
       "      <th></th>\n",
       "      <th>day</th>\n",
       "      <th>temperature</th>\n",
       "      <th>windspeed</th>\n",
       "    </tr>\n",
       "    <tr>\n",
       "      <th>event</th>\n",
       "      <th></th>\n",
       "      <th></th>\n",
       "      <th></th>\n",
       "    </tr>\n",
       "  </thead>\n",
       "  <tbody>\n",
       "    <tr>\n",
       "      <th>Rain</th>\n",
       "      <td>1/1/2017</td>\n",
       "      <td>32</td>\n",
       "      <td>6</td>\n",
       "    </tr>\n",
       "    <tr>\n",
       "      <th>Sunny</th>\n",
       "      <td>1/2/2017</td>\n",
       "      <td>35</td>\n",
       "      <td>7</td>\n",
       "    </tr>\n",
       "    <tr>\n",
       "      <th>Snow</th>\n",
       "      <td>1/3/2017</td>\n",
       "      <td>28</td>\n",
       "      <td>2</td>\n",
       "    </tr>\n",
       "    <tr>\n",
       "      <th>Snow</th>\n",
       "      <td>1/4/2017</td>\n",
       "      <td>24</td>\n",
       "      <td>7</td>\n",
       "    </tr>\n",
       "    <tr>\n",
       "      <th>Rain</th>\n",
       "      <td>1/5/2017</td>\n",
       "      <td>32</td>\n",
       "      <td>4</td>\n",
       "    </tr>\n",
       "    <tr>\n",
       "      <th>Sunny</th>\n",
       "      <td>1/6/2017</td>\n",
       "      <td>31</td>\n",
       "      <td>2</td>\n",
       "    </tr>\n",
       "  </tbody>\n",
       "</table>\n",
       "</div>"
      ],
      "text/plain": [
       "            day  temperature  windspeed\n",
       "event                                  \n",
       "Rain   1/1/2017           32          6\n",
       "Sunny  1/2/2017           35          7\n",
       "Snow   1/3/2017           28          2\n",
       "Snow   1/4/2017           24          7\n",
       "Rain   1/5/2017           32          4\n",
       "Sunny  1/6/2017           31          2"
      ]
     },
     "execution_count": 62,
     "metadata": {},
     "output_type": "execute_result"
    }
   ],
   "source": [
    "# set \"event\" column as index to check behavior for deplicate index value\n",
    "df2.set_index('event', inplace=True)\n",
    "\n",
    "df2"
   ]
  },
  {
   "cell_type": "code",
   "execution_count": 65,
   "id": "fba870f2-98e5-47ef-ae16-cb25081ce810",
   "metadata": {},
   "outputs": [
    {
     "data": {
      "text/html": [
       "<div>\n",
       "<style scoped>\n",
       "    .dataframe tbody tr th:only-of-type {\n",
       "        vertical-align: middle;\n",
       "    }\n",
       "\n",
       "    .dataframe tbody tr th {\n",
       "        vertical-align: top;\n",
       "    }\n",
       "\n",
       "    .dataframe thead th {\n",
       "        text-align: right;\n",
       "    }\n",
       "</style>\n",
       "<table border=\"1\" class=\"dataframe\">\n",
       "  <thead>\n",
       "    <tr style=\"text-align: right;\">\n",
       "      <th></th>\n",
       "      <th>day</th>\n",
       "      <th>temperature</th>\n",
       "      <th>windspeed</th>\n",
       "    </tr>\n",
       "    <tr>\n",
       "      <th>event</th>\n",
       "      <th></th>\n",
       "      <th></th>\n",
       "      <th></th>\n",
       "    </tr>\n",
       "  </thead>\n",
       "  <tbody>\n",
       "    <tr>\n",
       "      <th>Snow</th>\n",
       "      <td>1/3/2017</td>\n",
       "      <td>28</td>\n",
       "      <td>2</td>\n",
       "    </tr>\n",
       "    <tr>\n",
       "      <th>Snow</th>\n",
       "      <td>1/4/2017</td>\n",
       "      <td>24</td>\n",
       "      <td>7</td>\n",
       "    </tr>\n",
       "  </tbody>\n",
       "</table>\n",
       "</div>"
      ],
      "text/plain": [
       "            day  temperature  windspeed\n",
       "event                                  \n",
       "Snow   1/3/2017           28          2\n",
       "Snow   1/4/2017           24          7"
      ]
     },
     "execution_count": 65,
     "metadata": {},
     "output_type": "execute_result"
    }
   ],
   "source": [
    "df2.loc['Snow']"
   ]
  },
  {
   "cell_type": "code",
   "execution_count": null,
   "id": "b5a2e17b-7556-4b2e-9922-223ea5772596",
   "metadata": {},
   "outputs": [],
   "source": []
  }
 ],
 "metadata": {
  "kernelspec": {
   "display_name": "Python 3 (ipykernel)",
   "language": "python",
   "name": "python3"
  },
  "language_info": {
   "codemirror_mode": {
    "name": "ipython",
    "version": 3
   },
   "file_extension": ".py",
   "mimetype": "text/x-python",
   "name": "python",
   "nbconvert_exporter": "python",
   "pygments_lexer": "ipython3",
   "version": "3.12.2"
  }
 },
 "nbformat": 4,
 "nbformat_minor": 5
}
