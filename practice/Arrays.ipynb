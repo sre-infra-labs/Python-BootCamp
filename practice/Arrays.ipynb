{
 "cells": [
  {
   "cell_type": "code",
   "execution_count": 1,
   "id": "bc4089ad",
   "metadata": {},
   "outputs": [
    {
     "name": "stdout",
     "output_type": "stream",
     "text": [
      "mango\n"
     ]
    }
   ],
   "source": [
    "fruits = [\"mango\",\"apple\",\"grapes\"]\n",
    "if \"mango\" in fruits:\n",
    "    print('mango')\n",
    "else:\n",
    "    print('No mango today.')"
   ]
  },
  {
   "cell_type": "code",
   "execution_count": 3,
   "id": "c7764295",
   "metadata": {},
   "outputs": [
    {
     "data": {
      "text/plain": [
       "['grapes', 'apple', 'mango']"
      ]
     },
     "execution_count": 3,
     "metadata": {},
     "output_type": "execute_result"
    }
   ],
   "source": [
    "fruits[::-1]"
   ]
  },
  {
   "cell_type": "code",
   "execution_count": 5,
   "id": "da991f72",
   "metadata": {},
   "outputs": [
    {
     "data": {
      "text/plain": [
       "\"'mango','apple','grapes'\""
      ]
     },
     "execution_count": 5,
     "metadata": {},
     "output_type": "execute_result"
    }
   ],
   "source": [
    "','.join([f\"'{item}'\" for item in fruits])"
   ]
  },
  {
   "cell_type": "code",
   "execution_count": 3,
   "id": "a501555c-9302-4a72-ac13-30ba49f9dd6b",
   "metadata": {},
   "outputs": [
    {
     "name": "stdout",
     "output_type": "stream",
     "text": [
      "Fibonacci series with 10 terms: \n",
      "[0, 1, 1, 2, 3, 5, 8, 13, 21, 34]\n"
     ]
    }
   ],
   "source": [
    "def fibonacci(n):\n",
    "    fib_series = [0,1]\n",
    "    while len(fib_series) < n:\n",
    "        fib_series.append(fib_series[-1]+fib_series[-2])\n",
    "    return fib_series\n",
    "\n",
    "# Number of terms in the Fibonacci series\n",
    "num_terms = 10\n",
    "print(f\"Fibonacci series with {num_terms} terms: \\n{fibonacci(num_terms)}\")"
   ]
  },
  {
   "cell_type": "code",
   "execution_count": 5,
   "id": "4bed9f45-f335-4df8-8035-744b775a20aa",
   "metadata": {},
   "outputs": [
    {
     "name": "stdout",
     "output_type": "stream",
     "text": [
      "type of my_list: <class 'list'>\n"
     ]
    },
    {
     "data": {
      "text/plain": [
       "[1, 2, 3, 4, 5, 6, 7, 8, 9]"
      ]
     },
     "execution_count": 5,
     "metadata": {},
     "output_type": "execute_result"
    }
   ],
   "source": [
    "my_list = [i for i in range(1,10)]\n",
    "print(f'type of my_list: {type(my_list)}')\n",
    "my_list"
   ]
  },
  {
   "cell_type": "code",
   "execution_count": 6,
   "id": "5bdd1d8f-2802-4cde-b6e8-eec584300781",
   "metadata": {},
   "outputs": [
    {
     "name": "stdout",
     "output_type": "stream",
     "text": [
      "type: <class 'generator'>\n"
     ]
    },
    {
     "data": {
      "text/plain": [
       "<generator object <genexpr> at 0x74ffd41907c0>"
      ]
     },
     "execution_count": 6,
     "metadata": {},
     "output_type": "execute_result"
    }
   ],
   "source": [
    "my_tuple = (i for i in range(1,10))\n",
    "print(f'type: {type(my_tuple)}')\n",
    "my_tuple"
   ]
  },
  {
   "cell_type": "code",
   "execution_count": 7,
   "id": "ebadb8af-389d-4182-915f-578a57f20169",
   "metadata": {},
   "outputs": [
    {
     "name": "stdout",
     "output_type": "stream",
     "text": [
      "type: <class 'dict'>\n"
     ]
    },
    {
     "data": {
      "text/plain": [
       "{1: 1, 2: 4, 3: 9, 4: 16, 5: 25, 6: 36, 7: 49, 8: 64, 9: 81}"
      ]
     },
     "execution_count": 7,
     "metadata": {},
     "output_type": "execute_result"
    }
   ],
   "source": [
    "my_dict = {i:i**2 for i in range(1,10)}\n",
    "print(f'type: {type(my_dict)}')\n",
    "my_dict"
   ]
  }
 ],
 "metadata": {
  "kernelspec": {
   "display_name": "Python 3 (ipykernel)",
   "language": "python",
   "name": "python3"
  },
  "language_info": {
   "codemirror_mode": {
    "name": "ipython",
    "version": 3
   },
   "file_extension": ".py",
   "mimetype": "text/x-python",
   "name": "python",
   "nbconvert_exporter": "python",
   "pygments_lexer": "ipython3",
   "version": "3.12.2"
  }
 },
 "nbformat": 4,
 "nbformat_minor": 5
}
