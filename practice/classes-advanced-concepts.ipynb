{
 "cells": [
  {
   "cell_type": "markdown",
   "id": "768351d0-0a1a-4b82-94ed-35ed8b5620d1",
   "metadata": {},
   "source": [
    "# Python Classes - \n",
    "https://realpython.com/python-classes/#static-methods-with-staticmethod"
   ]
  },
  {
   "cell_type": "markdown",
   "id": "42115d5a-4bb3-43e7-9428-11ca9e616bd8",
   "metadata": {},
   "source": [
    "### The .__dict__ Attribute"
   ]
  },
  {
   "cell_type": "code",
   "execution_count": 1,
   "id": "41789d1e-fa45-4b48-b892-a63ac80a1396",
   "metadata": {},
   "outputs": [],
   "source": [
    "class SampleClass:\n",
    "    class_attr = 100\n",
    "\n",
    "    def __init__(self, instance_attr):\n",
    "        self.instance_attr = instance_attr\n",
    "    \n",
    "    def method(self):\n",
    "        print(f\"Class attribute: {self.class_attr}\")\n",
    "        print(f\"Instance attribute: {self.instance_attr}\")"
   ]
  },
  {
   "cell_type": "code",
   "execution_count": 5,
   "id": "c17e1785-80dd-4359-bea3-b912f3ab3cdd",
   "metadata": {},
   "outputs": [
    {
     "data": {
      "text/plain": [
       "mappingproxy({'__module__': '__main__',\n",
       "              'class_attr': 100,\n",
       "              '__init__': <function __main__.SampleClass.__init__(self, instance_attr)>,\n",
       "              'method': <function __main__.SampleClass.method(self)>,\n",
       "              '__dict__': <attribute '__dict__' of 'SampleClass' objects>,\n",
       "              '__weakref__': <attribute '__weakref__' of 'SampleClass' objects>,\n",
       "              '__doc__': None})"
      ]
     },
     "execution_count": 5,
     "metadata": {},
     "output_type": "execute_result"
    }
   ],
   "source": [
    "# Get class attributes\n",
    "SampleClass.__dict__"
   ]
  },
  {
   "cell_type": "code",
   "execution_count": 6,
   "id": "fe98203e-7af5-45e0-b9f8-482a13347565",
   "metadata": {},
   "outputs": [
    {
     "name": "stdout",
     "output_type": "stream",
     "text": [
      "100\n"
     ]
    }
   ],
   "source": [
    "print(SampleClass.__dict__['class_attr'])"
   ]
  },
  {
   "cell_type": "code",
   "execution_count": 7,
   "id": "49ce34bc-33b1-45b9-9329-70a61487c99a",
   "metadata": {},
   "outputs": [
    {
     "data": {
      "text/plain": [
       "{'instance_attr': 'Hello World'}"
      ]
     },
     "execution_count": 7,
     "metadata": {},
     "output_type": "execute_result"
    }
   ],
   "source": [
    "# Get Instance attributes\n",
    "my_instance = SampleClass(\"Hello World\")\n",
    "my_instance.__dict__"
   ]
  },
  {
   "cell_type": "code",
   "execution_count": 9,
   "id": "6c807621-2577-405e-ba3d-706887410dfa",
   "metadata": {},
   "outputs": [
    {
     "name": "stdout",
     "output_type": "stream",
     "text": [
      "Hello World\n",
      "Hi World\n"
     ]
    }
   ],
   "source": [
    "print(my_instance.__dict__[\"instance_attr\"])\n",
    "\n",
    "my_instance.__dict__[\"instance_attr\"] = \"Hi World\"\n",
    "print(my_instance.__dict__[\"instance_attr\"])"
   ]
  },
  {
   "cell_type": "markdown",
   "id": "1d2ef83f-22e2-4cbe-84e3-d987455b3ec8",
   "metadata": {},
   "source": [
    "> We can add/modify instances or class attributes dynamically using this __dict__ method.\n"
   ]
  },
  {
   "cell_type": "markdown",
   "id": "fd880236-d384-4741-96be-4586433d3a75",
   "metadata": {},
   "source": [
    "## [Dynamic Class and Instance Attributes](https://realpython.com/python-classes/#dynamic-class-and-instance-attributes)"
   ]
  },
  {
   "cell_type": "code",
   "execution_count": 13,
   "id": "3d811add-832c-4b28-881d-324c0a6a2252",
   "metadata": {},
   "outputs": [],
   "source": [
    "class Record:\n",
    "    \"\"\"Hold a record of data.\"\"\"\n",
    "    pass\n",
    "\n",
    "john = {\n",
    "    \"name\": \"John Doe\",\n",
    "    \"position\": \"Python Developer\",\n",
    "    \"department\": \"Engineering\",\n",
    "    \"salary\": 80000,\n",
    "    \"hire_date\": \"2020-01-01\",\n",
    "    \"is_manager\": False,\n",
    "}"
   ]
  },
  {
   "cell_type": "code",
   "execution_count": 16,
   "id": "36c4c861-9600-4e92-baae-1d13d859ccb1",
   "metadata": {},
   "outputs": [
    {
     "name": "stdout",
     "output_type": "stream",
     "text": [
      "John Doe\n",
      "Engineering\n"
     ]
    }
   ],
   "source": [
    "john_record = Record()\n",
    "\n",
    "for field, value in john.items():\n",
    "    setattr(john_record, field, value)\n",
    "\n",
    "print(john_record.name)\n",
    "print(john_record.department)"
   ]
  },
  {
   "cell_type": "code",
   "execution_count": 17,
   "id": "101f32d8-861a-4b12-b391-1feee8364cea",
   "metadata": {},
   "outputs": [
    {
     "data": {
      "text/plain": [
       "{'name': 'John Doe',\n",
       " 'position': 'Python Developer',\n",
       " 'department': 'Engineering',\n",
       " 'salary': 80000,\n",
       " 'hire_date': '2020-01-01',\n",
       " 'is_manager': False}"
      ]
     },
     "execution_count": 17,
     "metadata": {},
     "output_type": "execute_result"
    }
   ],
   "source": [
    "john_record.__dict__"
   ]
  },
  {
   "cell_type": "markdown",
   "id": "10c70d8b-a1e9-4481-b944-e93e363b7e39",
   "metadata": {},
   "source": [
    "## [Property and Descriptor-Based Attributes](https://realpython.com/python-classes/#property-and-descriptor-based-attributes)\n",
    "Python allows you to add function like behavior on top of existing attributes and turn them into `managed attributed`."
   ]
  },
  {
   "cell_type": "markdown",
   "id": "ba3e2edf-d113-4a9a-a669-11fe2ba1a01e",
   "metadata": {},
   "source": [
    "### Using Setter method to add function like behaviour to Attribute"
   ]
  },
  {
   "cell_type": "code",
   "execution_count": 18,
   "id": "5fc087bb-bc3f-49d8-9ab1-66f2c1cf9ec2",
   "metadata": {},
   "outputs": [],
   "source": [
    "import math\n",
    "\n",
    "class Circle:\n",
    "    def __init__(self, radius):\n",
    "        self.radius = radius\n",
    "\n",
    "    @property\n",
    "    def radius(self):\n",
    "        return self._radius\n",
    "\n",
    "    @radius.setter\n",
    "    def radius(self, value):\n",
    "        if not isinstance(value, int | float) or value <= 0:\n",
    "            raise ValueError(\"positive number expected\")\n",
    "        self._radius = value\n",
    "\n",
    "    def calculate_area(self):\n",
    "        return math.pi * self._radius**2"
   ]
  },
  {
   "cell_type": "code",
   "execution_count": 19,
   "id": "20faf7d4-55b5-412b-842f-ead95a29d3b2",
   "metadata": {},
   "outputs": [],
   "source": [
    "cir = Circle(10)"
   ]
  },
  {
   "cell_type": "code",
   "execution_count": 20,
   "id": "b57ad083-29e5-49b7-9324-0504770d3820",
   "metadata": {},
   "outputs": [
    {
     "ename": "ValueError",
     "evalue": "positive number expected",
     "output_type": "error",
     "traceback": [
      "\u001b[0;31m---------------------------------------------------------------------------\u001b[0m",
      "\u001b[0;31mValueError\u001b[0m                                Traceback (most recent call last)",
      "Cell \u001b[0;32mIn[20], line 1\u001b[0m\n\u001b[0;32m----> 1\u001b[0m cir2 \u001b[38;5;241m=\u001b[39m Circle(\u001b[38;5;241m-\u001b[39m\u001b[38;5;241m10\u001b[39m)\n",
      "Cell \u001b[0;32mIn[18], line 5\u001b[0m, in \u001b[0;36mCircle.__init__\u001b[0;34m(self, radius)\u001b[0m\n\u001b[1;32m      4\u001b[0m \u001b[38;5;28;01mdef\u001b[39;00m \u001b[38;5;21m__init__\u001b[39m(\u001b[38;5;28mself\u001b[39m, radius):\n\u001b[0;32m----> 5\u001b[0m     \u001b[38;5;28mself\u001b[39m\u001b[38;5;241m.\u001b[39mradius \u001b[38;5;241m=\u001b[39m radius\n",
      "Cell \u001b[0;32mIn[18], line 14\u001b[0m, in \u001b[0;36mCircle.radius\u001b[0;34m(self, value)\u001b[0m\n\u001b[1;32m     11\u001b[0m \u001b[38;5;129m@radius\u001b[39m\u001b[38;5;241m.\u001b[39msetter\n\u001b[1;32m     12\u001b[0m \u001b[38;5;28;01mdef\u001b[39;00m \u001b[38;5;21mradius\u001b[39m(\u001b[38;5;28mself\u001b[39m, value):\n\u001b[1;32m     13\u001b[0m     \u001b[38;5;28;01mif\u001b[39;00m \u001b[38;5;129;01mnot\u001b[39;00m \u001b[38;5;28misinstance\u001b[39m(value, \u001b[38;5;28mint\u001b[39m \u001b[38;5;241m|\u001b[39m \u001b[38;5;28mfloat\u001b[39m) \u001b[38;5;129;01mor\u001b[39;00m value \u001b[38;5;241m<\u001b[39m\u001b[38;5;241m=\u001b[39m \u001b[38;5;241m0\u001b[39m:\n\u001b[0;32m---> 14\u001b[0m         \u001b[38;5;28;01mraise\u001b[39;00m \u001b[38;5;167;01mValueError\u001b[39;00m(\u001b[38;5;124m\"\u001b[39m\u001b[38;5;124mpositive number expected\u001b[39m\u001b[38;5;124m\"\u001b[39m)\n\u001b[1;32m     15\u001b[0m     \u001b[38;5;28mself\u001b[39m\u001b[38;5;241m.\u001b[39m_radius \u001b[38;5;241m=\u001b[39m value\n",
      "\u001b[0;31mValueError\u001b[0m: positive number expected"
     ]
    }
   ],
   "source": [
    "cir2 = Circle(-10)"
   ]
  },
  {
   "cell_type": "code",
   "execution_count": null,
   "id": "d8243a17-9d13-4e9c-b762-01be402b0d9b",
   "metadata": {},
   "outputs": [],
   "source": []
  }
 ],
 "metadata": {
  "kernelspec": {
   "display_name": "Python 3 (ipykernel)",
   "language": "python",
   "name": "python3"
  },
  "language_info": {
   "codemirror_mode": {
    "name": "ipython",
    "version": 3
   },
   "file_extension": ".py",
   "mimetype": "text/x-python",
   "name": "python",
   "nbconvert_exporter": "python",
   "pygments_lexer": "ipython3",
   "version": "3.12.7"
  }
 },
 "nbformat": 4,
 "nbformat_minor": 5
}
