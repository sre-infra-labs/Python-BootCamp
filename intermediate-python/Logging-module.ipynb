{
 "cells": [
  {
   "cell_type": "markdown",
   "id": "ce5d557e",
   "metadata": {},
   "source": [
    "# Logging\n",
    "\n",
    "- [Python JSON Logger](https://github.com/nhairs/python-json-logger)"
   ]
  },
  {
   "cell_type": "code",
   "execution_count": 1,
   "id": "0b6c1325",
   "metadata": {},
   "outputs": [
    {
     "name": "stderr",
     "output_type": "stream",
     "text": [
      "WARNING:root:This is a warning message\n",
      "ERROR:root:This is a error message\n",
      "CRITICAL:root:This is a critical message\n"
     ]
    }
   ],
   "source": [
    "import logging\n",
    "\n",
    "logging.debug('This is a debug message')\n",
    "logging.info('This is a info message')\n",
    "logging.warning('This is a warning message')\n",
    "logging.error('This is a error message')\n",
    "logging.critical('This is a critical message')"
   ]
  },
  {
   "cell_type": "code",
   "execution_count": 5,
   "id": "9f389b33",
   "metadata": {},
   "outputs": [
    {
     "name": "stderr",
     "output_type": "stream",
     "text": [
      "WARNING:root:This is a warning message\n",
      "ERROR:root:This is a error message\n",
      "CRITICAL:root:This is a critical message\n"
     ]
    }
   ],
   "source": [
    "import logging\n",
    "#logging.basicConfig(level=logging.DEBUG,format='%(asctime)s - %(name)s - %(levelname)s - %(message)s',datefmt='%Y-%m-%d %H:%M:%S')\n",
    "logging.basicConfig(level=logging.DEBUG)\n",
    "\n",
    "logging.debug('This is a debug message')\n",
    "logging.info('This is a info message')\n",
    "logging.warning('This is a warning message')\n",
    "logging.error('This is a error message')\n",
    "logging.critical('This is a critical message')"
   ]
  },
  {
   "cell_type": "markdown",
   "id": "bcc3270e-0674-42db-a1b9-0d9facb6a65a",
   "metadata": {},
   "source": [
    "## Logger in SQLMonitor Alert Engine with RotatingFileHandler"
   ]
  },
  {
   "cell_type": "code",
   "execution_count": 1,
   "id": "352533ac-07d2-488a-8838-598e8319da02",
   "metadata": {},
   "outputs": [],
   "source": [
    "import logging\n",
    "import os\n",
    "import sys\n",
    "from logging.handlers import RotatingFileHandler\n",
    "\n",
    "def get_script_logger(script_name:str,log_file:str=None):\n",
    "    # create logger\n",
    "    logger = logging.getLogger(script_name)\n",
    "    logger.setLevel(logging.DEBUG)\n",
    "\n",
    "    # create console handler and set level to debug\n",
    "    sh = logging.StreamHandler(sys.stdout)\n",
    "    sh.setLevel(logging.DEBUG)\n",
    "\n",
    "    # create formatter\n",
    "    formatter = logging.Formatter('%(asctime)s - %(name)s - %(levelname)s - %(message)s')\n",
    "\n",
    "    # add formatter to sh\n",
    "    sh.setFormatter(formatter)\n",
    "\n",
    "    if log_file:\n",
    "        #log_file_path = f\"SQLMonitor-AlertEngine-Logs.log\"\n",
    "        max_log_size = 5 * 1024 * 1024  # 5 MB\n",
    "        backup_count = 4  # Number of backup logs to keep\n",
    "\n",
    "        # Ensure to create Logs directory is not exists\n",
    "        log_dir = os.path.dirname(log_file)\n",
    "        if not os.path.exists(log_dir):\n",
    "            os.makedirs(log_dir)\n",
    "\n",
    "        # Create a RotatingFileHandler\n",
    "        fh = RotatingFileHandler(\n",
    "            log_file, maxBytes=max_log_size, backupCount=backup_count\n",
    "        )\n",
    "\n",
    "        #fh = logging.FileHandler(log_file)\n",
    "        fh.setLevel(logging.DEBUG)\n",
    "        fh.setFormatter(formatter)\n",
    "        logger.addHandler(fh)\n",
    "        #print(f\"\\n[get_script_logger()] => Logging to file '{log_file}'.\\n\")\n",
    "    else:\n",
    "        # add sh to logger\n",
    "        #print(f\"[get_script_logger()] => Using console logger..\")\n",
    "        logger.addHandler(sh)\n",
    "\n",
    "    return logger"
   ]
  },
  {
   "cell_type": "code",
   "execution_count": 6,
   "id": "02d73994-603d-4218-9cee-fe07aaea4f9b",
   "metadata": {},
   "outputs": [
    {
     "name": "stdout",
     "output_type": "stream",
     "text": [
      "2025-05-23 08:22:21,771 - Logging-module.ipynb - INFO - This is testing of steam logger\n",
      "2025-05-23 08:22:21,771 - Logging-module.ipynb - INFO - This is testing of steam logger\n",
      "2025-05-23 08:22:21,771 - Logging-module.ipynb - INFO - This is testing of steam logger\n",
      "2025-05-23 08:22:21,771 - Logging-module.ipynb - INFO - This is testing of steam logger\n",
      "2025-05-23 08:22:21,773 - Logging-module.ipynb - INFO - This is testing of file logger\n",
      "2025-05-23 08:22:21,773 - Logging-module.ipynb - INFO - This is testing of file logger\n",
      "2025-05-23 08:22:21,773 - Logging-module.ipynb - INFO - This is testing of file logger\n",
      "2025-05-23 08:22:21,773 - Logging-module.ipynb - INFO - This is testing of file logger\n",
      "2025-05-23 08:22:21,774 - Logging-module.ipynb - INFO - I dont have anything else to log\n",
      "2025-05-23 08:22:21,774 - Logging-module.ipynb - INFO - I dont have anything else to log\n",
      "2025-05-23 08:22:21,774 - Logging-module.ipynb - INFO - I dont have anything else to log\n",
      "2025-05-23 08:22:21,774 - Logging-module.ipynb - INFO - I dont have anything else to log\n"
     ]
    }
   ],
   "source": [
    "steamLogger = get_script_logger('Logging-module.ipynb')\n",
    "steamLogger.info('This is testing of steam logger')\n",
    "\n",
    "fileLogger = get_script_logger('Logging-module.ipynb','/tmp/logging-module.log')\n",
    "fileLogger.info('This is testing of file logger')\n",
    "fileLogger.info('I dont have anything else to log')"
   ]
  },
  {
   "cell_type": "markdown",
   "id": "70053ecd-d585-4042-9334-17dc83a3a143",
   "metadata": {},
   "source": [
    "# logging.conf"
   ]
  },
  {
   "cell_type": "code",
   "execution_count": null,
   "id": "a39c2a58-e565-4e6b-a208-900c206270e6",
   "metadata": {},
   "outputs": [],
   "source": [
    "[loggers]\n",
    "keys=root,simpleExample\n",
    "\n",
    "[handlers]\n",
    "keys=consoleHandler\n",
    "\n",
    "[formatters]\n",
    "keys=simpleFormatter\n",
    "\n",
    "[logger_root]\n",
    "level=DEBUG\n",
    "handlers=consoleHandler\n",
    "\n",
    "[logger_simpleExample]\n",
    "level=DEBUG\n",
    "handlers=consoleHandler\n",
    "qualname=simpleExample\n",
    "propagate=0\n",
    "\n",
    "[handler_consoleHandler]\n",
    "class=SteamHandler\n",
    "level=DEBUG\n",
    "formatter=simpleFormatter\n",
    "args=(sys.stdout,)\n",
    "\n",
    "[formatter_simpleFormatter]\n",
    "format=%(asctime)s - %(name)s - %(levelname)s - %(message)s"
   ]
  },
  {
   "cell_type": "markdown",
   "id": "62e118be-5c9c-4c98-8300-70aab43553cb",
   "metadata": {},
   "source": [
    "### Use logging.conf"
   ]
  },
  {
   "cell_type": "code",
   "execution_count": null,
   "id": "fe6a5daa-76c7-4f71-8f7f-4d05e95a164d",
   "metadata": {},
   "outputs": [],
   "source": [
    "import logging\n",
    "import logging.config\n",
    "\n",
    "logging.config.fileConfig('logging.conf')\n",
    "#logging.config.dictConfig('dict-logging.conf')\n",
    "\n",
    "logger = logging.getLogger('simpleExample')\n",
    "logger.debug('this is a debug message')"
   ]
  },
  {
   "cell_type": "markdown",
   "id": "56ac3d99-586b-4a73-a48c-4855cdd69343",
   "metadata": {},
   "source": [
    "# dict-logging.conf"
   ]
  },
  {
   "cell_type": "code",
   "execution_count": 1,
   "id": "4bf64825-1408-430c-a807-b65a9b22ea16",
   "metadata": {},
   "outputs": [],
   "source": [
    "LOGGING_CONFIG = { \n",
    "    'version': 1,\n",
    "    'disable_existing_loggers': True,\n",
    "    'formatters': { \n",
    "        'standard': { \n",
    "            'format': '%(asctime)s [%(levelname)s] %(name)s: %(message)s'\n",
    "        },\n",
    "    },\n",
    "    'handlers': { \n",
    "        'default': { \n",
    "            'level': 'INFO',\n",
    "            'formatter': 'standard',\n",
    "            'class': 'logging.StreamHandler',\n",
    "            'stream': 'ext://sys.stdout',  # Default is stderr\n",
    "        },\n",
    "    },\n",
    "    'loggers': { \n",
    "        '': {  # root logger\n",
    "            'handlers': ['default'],\n",
    "            'level': 'WARNING',\n",
    "            'propagate': False\n",
    "        },\n",
    "        'my.packg': { \n",
    "            'handlers': ['default'],\n",
    "            'level': 'INFO',\n",
    "            'propagate': False\n",
    "        },\n",
    "        '__main__': {  # if __name__ == '__main__'\n",
    "            'handlers': ['default'],\n",
    "            'level': 'DEBUG',\n",
    "            'propagate': False\n",
    "        },\n",
    "    } \n",
    "}"
   ]
  },
  {
   "cell_type": "markdown",
   "id": "9416cbaa-a39c-4dc3-b6bf-ed642496b945",
   "metadata": {},
   "source": [
    "### Using Dict Config for logging"
   ]
  },
  {
   "cell_type": "code",
   "execution_count": 3,
   "id": "8423e40d-aec7-42a1-a60b-faf7d9d31153",
   "metadata": {},
   "outputs": [],
   "source": [
    "import logging\n",
    "import logging.config\n",
    "\n",
    "# Run once at startup:\n",
    "logging.config.dictConfig(LOGGING_CONFIG)\n",
    "\n",
    "# Include in each module:\n",
    "log = logging.getLogger(__name__)\n",
    "log.debug(\"Logging is configured.\")"
   ]
  },
  {
   "cell_type": "markdown",
   "id": "3106da0a-74a5-4f41-8d2f-fb011330cb1e",
   "metadata": {},
   "source": [
    "# Log Stack Trace in logging"
   ]
  },
  {
   "cell_type": "markdown",
   "id": "b20a1f95-e59e-4bb1-8e7a-bdb9ab1314bf",
   "metadata": {},
   "source": [
    "### with known exceptions"
   ]
  },
  {
   "cell_type": "code",
   "execution_count": 7,
   "id": "c3cb4ba0-62f1-4b39-8fa9-43d2c39ef12d",
   "metadata": {},
   "outputs": [
    {
     "name": "stdout",
     "output_type": "stream",
     "text": [
      "2025-05-25 16:50:55,745 [ERROR] root: list index out of range\n",
      "Traceback (most recent call last):\n",
      "  File \"/var/folders/kl/qb1k68ds67n5ptrl1yd6xk5m0000gp/T/ipykernel_51429/2940446555.py\", line 5, in <module>\n",
      "    val = a[4]\n",
      "          ~^^^\n",
      "IndexError: list index out of range\n"
     ]
    }
   ],
   "source": [
    "import logging\n",
    "\n",
    "try:\n",
    "    a = [1,2,3]\n",
    "    val = a[4]\n",
    "#except IndexError as e:\n",
    "except Exception as e:\n",
    "    logging.error(e, exc_info=True)"
   ]
  },
  {
   "cell_type": "markdown",
   "id": "86623402-2b6b-40f3-8598-07f7ed0a4a54",
   "metadata": {},
   "source": [
    "### without known exceptions"
   ]
  },
  {
   "cell_type": "code",
   "execution_count": 6,
   "id": "73b16f0c-8508-40d6-9d91-f277ea98c0fe",
   "metadata": {},
   "outputs": [
    {
     "name": "stdout",
     "output_type": "stream",
     "text": [
      "2025-05-25 16:50:27,655 [ERROR] root: The error is Traceback (most recent call last):\n",
      "  File \"/var/folders/kl/qb1k68ds67n5ptrl1yd6xk5m0000gp/T/ipykernel_51429/4070056426.py\", line 6, in <module>\n",
      "    val = a[4]\n",
      "          ~^^^\n",
      "IndexError: list index out of range\n",
      "\n"
     ]
    }
   ],
   "source": [
    "import logging\n",
    "import traceback\n",
    "\n",
    "try:\n",
    "    a = [1,2,3]\n",
    "    val = a[4]\n",
    "except:\n",
    "    logging.error(\"The error is %s\", traceback.format_exc())"
   ]
  },
  {
   "cell_type": "markdown",
   "id": "4a270124-a1d1-4861-a440-7ccf23ca2c3b",
   "metadata": {},
   "source": [
    "# TimedRotatingFileHandler"
   ]
  },
  {
   "cell_type": "code",
   "execution_count": 8,
   "id": "27cbf045-b518-4262-b499-64fb5b5e3b21",
   "metadata": {},
   "outputs": [
    {
     "name": "stdout",
     "output_type": "stream",
     "text": [
      "2025-05-25 16:59:23,879 [INFO] __main__: Hello, World!\n",
      "2025-05-25 16:59:28,885 [INFO] __main__: Hello, World!\n",
      "2025-05-25 16:59:33,890 [INFO] __main__: Hello, World!\n",
      "2025-05-25 16:59:38,897 [INFO] __main__: Hello, World!\n",
      "2025-05-25 16:59:43,903 [INFO] __main__: Hello, World!\n",
      "2025-05-25 16:59:48,910 [INFO] __main__: Hello, World!\n"
     ]
    }
   ],
   "source": [
    "import logging\n",
    "import time\n",
    "from logging.handlers import TimedRotatingFileHandler\n",
    "\n",
    "logger = logging.getLogger(__name__)\n",
    "logger.setLevel(logging.INFO)\n",
    "\n",
    "# s, m, h, d, midnight, w0 (monday), w1, ..\n",
    "handler = TimedRotatingFileHandler('timed_test.log', when='s', interval=5, backupCount=5)\n",
    "logger.addHandler(handler)\n",
    "\n",
    "for _ in range(6):\n",
    "    logger.info('Hello, World!')\n",
    "    time.sleep(5)"
   ]
  },
  {
   "cell_type": "code",
   "execution_count": null,
   "id": "0134fcd7-d7c1-44c4-bd78-035737be1524",
   "metadata": {},
   "outputs": [],
   "source": []
  }
 ],
 "metadata": {
  "kernelspec": {
   "display_name": "Python 3 (ipykernel)",
   "language": "python",
   "name": "python3"
  },
  "language_info": {
   "codemirror_mode": {
    "name": "ipython",
    "version": 3
   },
   "file_extension": ".py",
   "mimetype": "text/x-python",
   "name": "python",
   "nbconvert_exporter": "python",
   "pygments_lexer": "ipython3",
   "version": "3.12.7"
  }
 },
 "nbformat": 4,
 "nbformat_minor": 5
}
