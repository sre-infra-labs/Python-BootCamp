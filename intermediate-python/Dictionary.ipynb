{
 "cells": [
  {
   "cell_type": "markdown",
   "id": "a3272895",
   "metadata": {},
   "source": [
    "# Dictionary: Key-Value pairs, Unordered, Mutable"
   ]
  },
  {
   "cell_type": "code",
   "execution_count": 10,
   "id": "02aa1a67",
   "metadata": {},
   "outputs": [
    {
     "name": "stdout",
     "output_type": "stream",
     "text": [
      "{'name': 'Ajay Dwivedi', 'age': 35, 'city': 'Hyderabad'}\n"
     ]
    }
   ],
   "source": [
    "# Note the Key:Value pair format using colon\n",
    "mydict = {\"name\": \"Ajay Dwivedi\", \"age\": 35, \"city\": \"Hyderabad\"}\n",
    "print(mydict)"
   ]
  },
  {
   "cell_type": "code",
   "execution_count": 9,
   "id": "2493b3fc",
   "metadata": {},
   "outputs": [
    {
     "name": "stdout",
     "output_type": "stream",
     "text": [
      "{'name': 'Ajay', 'age': 35, 'city': 'Hyderabad'}\n"
     ]
    }
   ],
   "source": [
    "# Note the Key=Value pair with assignment\n",
    "mydict2 = dict(name=\"Ajay\", age=35, city=\"Hyderabad\")\n",
    "print(mydict2)"
   ]
  },
  {
   "cell_type": "code",
   "execution_count": 11,
   "id": "4cdcf0c6",
   "metadata": {},
   "outputs": [
    {
     "data": {
      "text/plain": [
       "'Ajay Dwivedi'"
      ]
     },
     "execution_count": 11,
     "metadata": {},
     "output_type": "execute_result"
    }
   ],
   "source": [
    "mydict[\"name\"]"
   ]
  },
  {
   "cell_type": "code",
   "execution_count": 14,
   "id": "f7e8bd24",
   "metadata": {},
   "outputs": [
    {
     "ename": "KeyError",
     "evalue": "'country'",
     "output_type": "error",
     "traceback": [
      "\u001b[0;31m---------------------------------------------------------------------------\u001b[0m",
      "\u001b[0;31mKeyError\u001b[0m                                  Traceback (most recent call last)",
      "Cell \u001b[0;32mIn[14], line 2\u001b[0m\n\u001b[1;32m      1\u001b[0m \u001b[38;5;66;03m# What if the key does not exist?\u001b[39;00m\n\u001b[0;32m----> 2\u001b[0m mydict[\u001b[38;5;124m\"\u001b[39m\u001b[38;5;124mcountry\u001b[39m\u001b[38;5;124m\"\u001b[39m]\n",
      "\u001b[0;31mKeyError\u001b[0m: 'country'"
     ]
    }
   ],
   "source": [
    "# What if the key does not exist?\n",
    "mydict[\"country\"]"
   ]
  },
  {
   "cell_type": "code",
   "execution_count": 15,
   "id": "51b437a2",
   "metadata": {},
   "outputs": [],
   "source": [
    "# Can we add another key:value pair in dictionary?\n",
    "mydict[\"country\"] = \"India\""
   ]
  },
  {
   "cell_type": "code",
   "execution_count": 16,
   "id": "1946a8c3",
   "metadata": {},
   "outputs": [
    {
     "name": "stdout",
     "output_type": "stream",
     "text": [
      "{'name': 'Ajay Dwivedi', 'age': 35, 'city': 'Hyderabad', 'country': 'India'}\n"
     ]
    }
   ],
   "source": [
    "print(mydict)"
   ]
  },
  {
   "cell_type": "markdown",
   "id": "8c6f1f4b-1e32-40f3-8ccc-aa719768bbe4",
   "metadata": {},
   "source": [
    "### Delete item from dictionary?"
   ]
  },
  {
   "cell_type": "code",
   "execution_count": 30,
   "id": "87f3d893",
   "metadata": {},
   "outputs": [
    {
     "name": "stdout",
     "output_type": "stream",
     "text": [
      "{'name': 'Ajay Dwivedi', 'age': 35, 'city': 'Hyderabad'}\n",
      "{'name': 'Ajay Dwivedi', 'age': 35}\n"
     ]
    }
   ],
   "source": [
    "# Let's delete the key:value pair?\n",
    "mydict = {'name': 'Ajay Dwivedi', 'age': 35, 'city': 'Hyderabad', 'country': 'India'}\n",
    "\n",
    "# remove a particular key:value pair\n",
    "del mydict[\"country\"]\n",
    "print(mydict)\n",
    "\n",
    "# remove last item\n",
    "mydict.popitem()\n",
    "print(mydict)"
   ]
  },
  {
   "cell_type": "markdown",
   "id": "4cef7a02-d624-417b-abb7-4afd058e975a",
   "metadata": {},
   "source": [
    "### Find key:value pairs"
   ]
  },
  {
   "cell_type": "code",
   "execution_count": 31,
   "id": "eb110660",
   "metadata": {},
   "outputs": [
    {
     "name": "stdout",
     "output_type": "stream",
     "text": [
      "Ajay\n"
     ]
    }
   ],
   "source": [
    "mydict = {'name': 'Ajay', 'age': 35, 'city': 'Hyderabad'}\n",
    "\n",
    "# Check if key exists in dictionary?\n",
    "if \"name\" in mydict:\n",
    "    print(mydict[\"name\"])"
   ]
  },
  {
   "cell_type": "code",
   "execution_count": 35,
   "id": "dd5d5d4e",
   "metadata": {},
   "outputs": [
    {
     "name": "stdout",
     "output_type": "stream",
     "text": [
      "name\n",
      "age\n",
      "city\n",
      "----------\n",
      "name\n",
      "age\n",
      "city\n"
     ]
    }
   ],
   "source": [
    "# Get me all the keys in dictionary?\n",
    "mydict = {'name': 'Ajay', 'age': 35, 'city': 'Hyderabad'}\n",
    "\n",
    "for item in mydict:\n",
    "    print(item)\n",
    "\n",
    "print ('--'*5)\n",
    "\n",
    "for key in mydict.keys():\n",
    "    print(key)"
   ]
  },
  {
   "cell_type": "code",
   "execution_count": 36,
   "id": "3a278d62",
   "metadata": {},
   "outputs": [
    {
     "name": "stdout",
     "output_type": "stream",
     "text": [
      "Ajay\n",
      "35\n",
      "Hyderabad\n"
     ]
    }
   ],
   "source": [
    "# Get me all the values in dictionary?\n",
    "mydict = {'name': 'Ajay', 'age': 35, 'city': 'Hyderabad'}\n",
    "\n",
    "for value in mydict.values():\n",
    "    print(value)"
   ]
  },
  {
   "cell_type": "code",
   "execution_count": 38,
   "id": "374682f6",
   "metadata": {},
   "outputs": [
    {
     "name": "stdout",
     "output_type": "stream",
     "text": [
      "name: Ajay\n",
      "age: 35\n",
      "city: Hyderabad\n"
     ]
    }
   ],
   "source": [
    "# Get me key:value pairs?\n",
    "mydict = {'name': 'Ajay', 'age': 35, 'city': 'Hyderabad'}\n",
    "\n",
    "for key,value in mydict.items():\n",
    "    print(f'{key}: {value}')"
   ]
  },
  {
   "cell_type": "markdown",
   "id": "c12600d9-53e8-4150-a436-af8be669386a",
   "metadata": {},
   "source": [
    "### Shallow vs Deep Copy"
   ]
  },
  {
   "cell_type": "code",
   "execution_count": 27,
   "id": "05248797",
   "metadata": {},
   "outputs": [
    {
     "name": "stdout",
     "output_type": "stream",
     "text": [
      "mydict1 => {'name': 'Ajay', 'age': 35, 'city': 'Hyderabad', 'emai': 'ajay@gmail.com'}\n",
      "new_dict1 => {'name': 'Ajay', 'age': 35, 'city': 'Hyderabad', 'emai': 'ajay@gmail.com'}\n",
      "------------\n",
      "mydict2 => {'name': 'Ajay', 'age': 35, 'city': 'Hyderabad'}\n",
      "new_dict2 => {'name': 'Ajay', 'age': 35, 'city': 'Hyderabad', 'emai': 'ajay@gmail.com'}\n"
     ]
    }
   ],
   "source": [
    "\n",
    "mydict1 = {'name': 'Ajay', 'age': 35, 'city': 'Hyderabad'}\n",
    "mydict2 = {'name': 'Ajay', 'age': 35, 'city': 'Hyderabad'}\n",
    "\n",
    "# make copy\n",
    "new_dict1 = mydict1 # shallow copy\n",
    "new_dict2 = dict(mydict2) # deep copy\n",
    "\n",
    "# add new key:value pair in new dictionaries\n",
    "new_dict1[\"emai\"] = \"ajay@gmail.com\"\n",
    "new_dict2[\"emai\"] = \"ajay@gmail.com\"\n",
    "\n",
    "# check values in case of shallow copy\n",
    "print(f'mydict1 => {mydict1}')\n",
    "print(f'new_dict1 => {new_dict1}')\n",
    "\n",
    "print('--'*6)\n",
    "\n",
    "# check values in case of deep copy\n",
    "print(f'mydict2 => {mydict2}')\n",
    "print(f'new_dict2 => {new_dict2}')"
   ]
  },
  {
   "cell_type": "markdown",
   "id": "a5aeaf06-a458-405c-84ae-4024553bfeee",
   "metadata": {},
   "source": [
    "### Merge 2 dictionaries"
   ]
  },
  {
   "cell_type": "code",
   "execution_count": 40,
   "id": "91341139",
   "metadata": {},
   "outputs": [
    {
     "name": "stdout",
     "output_type": "stream",
     "text": [
      "{'name': 'Anant', 'age': 3, 'email': 'ajay.dwivedi2007@gmail.com', 'city': 'Rewa'}\n"
     ]
    }
   ],
   "source": [
    "mydict_1 = {\"name\":\"Ajay\", \"age\":35, \"email\":\"ajay.dwivedi2007@gmail.com\"}\n",
    "mydict_2 = dict(name=\"Anant\", age=3, city=\"Rewa\")\n",
    "\n",
    "mydict_1.update(mydict_2)\n",
    "print(mydict_1)"
   ]
  },
  {
   "cell_type": "markdown",
   "id": "1b128424-b397-4b9b-8536-40a7934888dd",
   "metadata": {},
   "source": [
    "### Gottachas - Complex Dictionaries"
   ]
  },
  {
   "cell_type": "code",
   "execution_count": 44,
   "id": "f1ffe2d6-6b1b-4118-8b6e-28c22b46a76f",
   "metadata": {},
   "outputs": [
    {
     "name": "stdout",
     "output_type": "stream",
     "text": [
      "{3: 9, 6: 36, 9: 81}\n",
      "9\n"
     ]
    }
   ],
   "source": [
    "# Can numbers be used as keys?\n",
    "my_dict = {3: 9, 6: 36, 9: 81}\n",
    "print(my_dict)\n",
    "\n",
    "value = my_dict[3]\n",
    "print(value)"
   ]
  },
  {
   "cell_type": "code",
   "execution_count": 45,
   "id": "29ef9894-721a-4983-b300-9d62ff6e1226",
   "metadata": {},
   "outputs": [
    {
     "name": "stdout",
     "output_type": "stream",
     "text": [
      "{(8, 7): 15}\n"
     ]
    }
   ],
   "source": [
    "# Can tuples be used as keys?\n",
    "mytuple = (8, 7)\n",
    "mydict = {mytuple: 15}\n",
    "\n",
    "print(mydict)"
   ]
  },
  {
   "cell_type": "code",
   "execution_count": 46,
   "id": "c1d1342b-7ec0-4438-9836-81df5359492b",
   "metadata": {},
   "outputs": [
    {
     "ename": "TypeError",
     "evalue": "unhashable type: 'list'",
     "output_type": "error",
     "traceback": [
      "\u001b[0;31m---------------------------------------------------------------------------\u001b[0m",
      "\u001b[0;31mTypeError\u001b[0m                                 Traceback (most recent call last)",
      "Cell \u001b[0;32mIn[46], line 3\u001b[0m\n\u001b[1;32m      1\u001b[0m \u001b[38;5;66;03m# Can list be used as keys?\u001b[39;00m\n\u001b[1;32m      2\u001b[0m mylist \u001b[38;5;241m=\u001b[39m [\u001b[38;5;241m8\u001b[39m, \u001b[38;5;241m7\u001b[39m]\n\u001b[0;32m----> 3\u001b[0m mydict \u001b[38;5;241m=\u001b[39m {mylist: \u001b[38;5;241m15\u001b[39m}\n\u001b[1;32m      5\u001b[0m \u001b[38;5;28mprint\u001b[39m(mydict)\n",
      "\u001b[0;31mTypeError\u001b[0m: unhashable type: 'list'"
     ]
    }
   ],
   "source": [
    "# Can list be used as keys?\n",
    "mylist = [8, 7]\n",
    "mydict = {mylist: 15}\n",
    "\n",
    "print(mydict)"
   ]
  },
  {
   "cell_type": "code",
   "execution_count": null,
   "id": "3c8534a4-cfbf-495c-bed4-e514c356e87d",
   "metadata": {},
   "outputs": [],
   "source": []
  }
 ],
 "metadata": {
  "kernelspec": {
   "display_name": "Python 3 (ipykernel)",
   "language": "python",
   "name": "python3"
  },
  "language_info": {
   "codemirror_mode": {
    "name": "ipython",
    "version": 3
   },
   "file_extension": ".py",
   "mimetype": "text/x-python",
   "name": "python",
   "nbconvert_exporter": "python",
   "pygments_lexer": "ipython3",
   "version": "3.12.7"
  }
 },
 "nbformat": 4,
 "nbformat_minor": 5
}
