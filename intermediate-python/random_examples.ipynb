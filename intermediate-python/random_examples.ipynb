{
 "cells": [
  {
   "cell_type": "markdown",
   "id": "35446da4-2029-45ce-9d7e-264ff4bf874a",
   "metadata": {},
   "source": [
    "# Random Examples"
   ]
  },
  {
   "cell_type": "code",
   "execution_count": 3,
   "id": "b70b4c8c",
   "metadata": {},
   "outputs": [],
   "source": [
    "import random"
   ]
  },
  {
   "cell_type": "code",
   "execution_count": 4,
   "id": "58c84a1f",
   "metadata": {},
   "outputs": [
    {
     "name": "stdout",
     "output_type": "stream",
     "text": [
      "0.7470179351566482\n"
     ]
    }
   ],
   "source": [
    "# random float in range of 0 to 1\n",
    "a = random.random()\n",
    "print(a)"
   ]
  },
  {
   "cell_type": "code",
   "execution_count": 5,
   "id": "c23c58bb",
   "metadata": {},
   "outputs": [
    {
     "data": {
      "text/plain": [
       "6.04118688445151"
      ]
     },
     "execution_count": 5,
     "metadata": {},
     "output_type": "execute_result"
    }
   ],
   "source": [
    "# random float within a specific range\n",
    "random.uniform(1,10)"
   ]
  },
  {
   "cell_type": "code",
   "execution_count": 7,
   "id": "2dc655df",
   "metadata": {},
   "outputs": [
    {
     "data": {
      "text/plain": [
       "8"
      ]
     },
     "execution_count": 7,
     "metadata": {},
     "output_type": "execute_result"
    }
   ],
   "source": [
    "# random integer within a specific range\n",
    "# upper bound included\n",
    "random.randint(1,10)"
   ]
  },
  {
   "cell_type": "code",
   "execution_count": 8,
   "id": "1c64f08b",
   "metadata": {},
   "outputs": [
    {
     "data": {
      "text/plain": [
       "5"
      ]
     },
     "execution_count": 8,
     "metadata": {},
     "output_type": "execute_result"
    }
   ],
   "source": [
    "# random integer within a specific range\n",
    "# upper bound NOT included\n",
    "random.randrange(1,10)"
   ]
  },
  {
   "cell_type": "code",
   "execution_count": 9,
   "id": "fdcbe3a8",
   "metadata": {},
   "outputs": [
    {
     "name": "stdout",
     "output_type": "stream",
     "text": [
      "-2.0344684675692233\n"
     ]
    }
   ],
   "source": [
    "a = random.normalvariate(0, 1)\n",
    "print(a)"
   ]
  },
  {
   "cell_type": "markdown",
   "id": "63abc85a-907c-467a-b7e0-63194a37bccc",
   "metadata": {},
   "source": [
    "## Random module to work with Sequences"
   ]
  },
  {
   "cell_type": "code",
   "execution_count": 30,
   "id": "871d08f5",
   "metadata": {},
   "outputs": [
    {
     "name": "stdout",
     "output_type": "stream",
     "text": [
      "F\n",
      "['A', 'H', 'G']\n",
      "['D', 'F', 'H']\n",
      "['E', 'J', 'H', 'C', 'D', 'G', 'A', 'F', 'B', 'I']\n"
     ]
    }
   ],
   "source": [
    "mylist = list('ABCDEFGH')\n",
    "\n",
    "# one element of list\n",
    "a = random.choice(mylist)\n",
    "print(a)\n",
    "\n",
    "# 3 elements of list & all unique\n",
    "a = random.sample(mylist, 3)\n",
    "print(a)\n",
    "\n",
    "# e elements of list & allow duplicates\n",
    "a = random.choices(mylist, k=3)\n",
    "print(a)\n",
    "\n",
    "# shuffle the list elements in place\n",
    "mylist = list(\"ABCDEFGHIJ\")\n",
    "random.shuffle(mylist)\n",
    "print(mylist)"
   ]
  },
  {
   "cell_type": "code",
   "execution_count": 32,
   "id": "db7b369d",
   "metadata": {},
   "outputs": [
    {
     "name": "stdout",
     "output_type": "stream",
     "text": [
      "0.13436424411240122\n",
      "2\n",
      "0.9560342718892494\n",
      "1\n",
      "0.13436424411240122\n",
      "2\n",
      "0.9560342718892494\n",
      "1\n"
     ]
    }
   ],
   "source": [
    "# Reproduce random data using seed() method\n",
    "import random\n",
    "\n",
    "random.seed(1)\n",
    "print(random.random())\n",
    "print(random.randint(1,10))\n",
    "\n",
    "random.seed(2)\n",
    "print(random.random())\n",
    "print(random.randint(1,10))\n",
    "\n",
    "random.seed(1)\n",
    "print(random.random())\n",
    "print(random.randint(1,10))\n",
    "\n",
    "random.seed(2)\n",
    "print(random.random())\n",
    "print(random.randint(1,10))"
   ]
  },
  {
   "cell_type": "markdown",
   "id": "c297e6cd-01b4-42f0-83f3-567f143475bb",
   "metadata": {},
   "source": [
    "## Use `secrets` Module to generate Random data"
   ]
  },
  {
   "cell_type": "code",
   "execution_count": 2,
   "id": "d75f33fa",
   "metadata": {},
   "outputs": [
    {
     "name": "stdout",
     "output_type": "stream",
     "text": [
      "F\n",
      "10\n"
     ]
    }
   ],
   "source": [
    "# Generate random numbers which are not reproducable\n",
    "import secrets\n",
    "\n",
    "mylist = list(\"ABCDEFGH\")\n",
    "a = secrets.choice(mylist)\n",
    "print(a)\n",
    "\n",
    "a = secrets.randbits(4)\n",
    "# 1111 -> 0-15\n",
    "print(a)"
   ]
  },
  {
   "cell_type": "markdown",
   "id": "ec18c71f-94e7-4cef-b85a-51cfa40e603c",
   "metadata": {},
   "source": [
    "## `numpy` Random Generator"
   ]
  },
  {
   "cell_type": "code",
   "execution_count": 6,
   "id": "a7b618be",
   "metadata": {},
   "outputs": [
    {
     "name": "stdout",
     "output_type": "stream",
     "text": [
      "[0.63166464 0.77748001 0.81086101]\n",
      "----------\n",
      "[[0.52932985 0.05370197 0.46949242]\n",
      " [0.90838483 0.69007654 0.24492129]\n",
      " [0.17432943 0.55089748 0.87932243]]\n",
      "----------\n",
      "[[0 8 2 6]\n",
      " [7 1 7 9]\n",
      " [4 1 9 1]]\n"
     ]
    }
   ],
   "source": [
    "import numpy as np\n",
    "\n",
    "a = np.random.rand(3)\n",
    "print(a)\n",
    "\n",
    "print('--'*5)\n",
    "\n",
    "a = np.random.rand(3,3)\n",
    "print(a)\n",
    "\n",
    "print('--'*5)\n",
    "\n",
    "a = np.random.randint(0, 10, (3,4))\n",
    "print(a)"
   ]
  },
  {
   "cell_type": "markdown",
   "id": "6a67f278-d05d-4fc2-becb-f2c2b196ca37",
   "metadata": {},
   "source": [
    "#### Reproduciable random numbers"
   ]
  },
  {
   "cell_type": "code",
   "execution_count": 9,
   "id": "db3ed33e",
   "metadata": {},
   "outputs": [
    {
     "name": "stdout",
     "output_type": "stream",
     "text": [
      "[4.17022005e-01 7.20324493e-01 1.14374817e-04]\n",
      "[4.17022005e-01 7.20324493e-01 1.14374817e-04]\n"
     ]
    }
   ],
   "source": [
    "import numpy as np\n",
    "\n",
    "np.random.seed(1)\n",
    "print(np.random.rand(3))\n",
    "\n",
    "np.random.seed(1)\n",
    "print(np.random.rand(3))"
   ]
  },
  {
   "cell_type": "code",
   "execution_count": null,
   "id": "9e23fc18-31df-42e3-95ec-d96bbccc65bb",
   "metadata": {},
   "outputs": [],
   "source": []
  }
 ],
 "metadata": {
  "kernelspec": {
   "display_name": "Python 3 (ipykernel)",
   "language": "python",
   "name": "python3"
  },
  "language_info": {
   "codemirror_mode": {
    "name": "ipython",
    "version": 3
   },
   "file_extension": ".py",
   "mimetype": "text/x-python",
   "name": "python",
   "nbconvert_exporter": "python",
   "pygments_lexer": "ipython3",
   "version": "3.12.7"
  }
 },
 "nbformat": 4,
 "nbformat_minor": 5
}
