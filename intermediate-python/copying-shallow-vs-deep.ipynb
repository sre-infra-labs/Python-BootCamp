{
 "cells": [
  {
   "cell_type": "markdown",
   "id": "9b97b0b8-5c51-4e3f-8ae4-e2394aeb5107",
   "metadata": {},
   "source": [
    "# Copying - Shallow vs Deep Copy\n",
    "\n",
    "```\n",
    "- shallow copy: one level deep, only references of nested child objects\n",
    "- deep copy: full independent copy\n",
    "```"
   ]
  },
  {
   "cell_type": "code",
   "execution_count": 3,
   "id": "92ad8c8d-8bf1-47f6-9950-6589eb721151",
   "metadata": {},
   "outputs": [
    {
     "name": "stdout",
     "output_type": "stream",
     "text": [
      "5\n",
      "6\n"
     ]
    }
   ],
   "source": [
    "# Immutable objects\n",
    "org = 5\n",
    "cpy = org\n",
    "\n",
    "cpy = 6\n",
    "print(org)\n",
    "print(cpy)"
   ]
  },
  {
   "cell_type": "code",
   "execution_count": 5,
   "id": "316cabce-1ed4-4c3f-b034-686da0a8ca24",
   "metadata": {},
   "outputs": [
    {
     "name": "stdout",
     "output_type": "stream",
     "text": [
      "[-10, 1, 2, 3, 4]\n",
      "[-10, 1, 2, 3, 4]\n"
     ]
    }
   ],
   "source": [
    "# Mutable objects\n",
    "org = [0, 1, 2, 3, 4]\n",
    "cpy = org # copy by reference\n",
    "\n",
    "cpy[0] = -10\n",
    "\n",
    "print(cpy)\n",
    "print(org)"
   ]
  },
  {
   "cell_type": "code",
   "execution_count": 8,
   "id": "c07bc8de-1f76-492c-a4e0-198a3ba58af7",
   "metadata": {},
   "outputs": [
    {
     "name": "stdout",
     "output_type": "stream",
     "text": [
      "[-10, 1, 2, 3, 4]\n",
      "[0, 1, 2, 3, 4]\n"
     ]
    }
   ],
   "source": [
    " # Copy one level deep\n",
    "import copy\n",
    "\n",
    "org = [0, 1, 2, 3, 4]\n",
    "\n",
    "# cpy = org.copy()\n",
    "# cpy = list(org)\n",
    "# cpy = org[::]\n",
    "cpy = copy.copy(org)\n",
    "\n",
    "\n",
    "cpy[0] = -10\n",
    "\n",
    "print(cpy)\n",
    "print(org)"
   ]
  },
  {
   "cell_type": "code",
   "execution_count": 15,
   "id": "d262fcdf-6ebb-42bf-ad72-fa45f555d35f",
   "metadata": {},
   "outputs": [
    {
     "name": "stdout",
     "output_type": "stream",
     "text": [
      "[[0, -1, 2, 3, 4], [5, 6, 7, 8, 9]]\n",
      "[[0, 1, 2, 3, 4], [5, 6, 7, 8, 9]]\n"
     ]
    }
   ],
   "source": [
    "# Copy 2 level deep\n",
    "import copy\n",
    "\n",
    "org = [[0, 1, 2, 3, 4], [5, 6, 7, 8, 9]]\n",
    "# cpy = copy.copy(org)\n",
    "# cpy = org.copy()\n",
    "cpy = copy.deepcopy(org)\n",
    "\n",
    "cpy[0][1] *= -1\n",
    "# cpy[1][1] *= -1\n",
    "\n",
    "print(cpy)\n",
    "print(org)"
   ]
  },
  {
   "cell_type": "code",
   "execution_count": 18,
   "id": "eeddfc0a-9689-4c0a-a24b-4c8427d109e6",
   "metadata": {},
   "outputs": [
    {
     "name": "stdout",
     "output_type": "stream",
     "text": [
      "32\n",
      "35\n"
     ]
    }
   ],
   "source": [
    "import copy\n",
    "\n",
    "class Person:\n",
    "    def __init__(self, name, age):\n",
    "        self.name = name\n",
    "        self.age = age\n",
    "\n",
    "p1 = Person('Ajay', 35)\n",
    "# p2 = p1\n",
    "p2 = copy.copy(p1)\n",
    "\n",
    "p2.age = 32\n",
    "\n",
    "print(p2.age)\n",
    "print(p1.age)"
   ]
  },
  {
   "cell_type": "code",
   "execution_count": 23,
   "id": "e6b8aeba-a6aa-4131-835f-635a2bbc6d3f",
   "metadata": {},
   "outputs": [
    {
     "name": "stdout",
     "output_type": "stream",
     "text": [
      "37\n",
      "35\n"
     ]
    }
   ],
   "source": [
    "import copy\n",
    "\n",
    "class Person:\n",
    "    def __init__(self, name, age):\n",
    "        self.name = name\n",
    "        self.age = age\n",
    "\n",
    "class Company:\n",
    "    def __init__(self, boss, employee):\n",
    "        self.boss = boss\n",
    "        self.employee = employee\n",
    "\n",
    "p1 = Person('Ajay', 35)\n",
    "p2 = Person('Saanvi', 7)\n",
    "\n",
    "company = Company(p1, p2)\n",
    "# company_clone = copy.copy(company) # shallow copy\n",
    "company_clone = copy.deepcopy(company) # deep copy\n",
    "\n",
    "company_clone.boss.age = 37\n",
    "\n",
    "print(company_clone.boss.age)\n",
    "print(company.boss.age)\n",
    "\n"
   ]
  },
  {
   "cell_type": "code",
   "execution_count": null,
   "id": "534adffe-3614-409a-b33a-e3b6e2e95070",
   "metadata": {},
   "outputs": [],
   "source": []
  }
 ],
 "metadata": {
  "kernelspec": {
   "display_name": "Python 3 (ipykernel)",
   "language": "python",
   "name": "python3"
  },
  "language_info": {
   "codemirror_mode": {
    "name": "ipython",
    "version": 3
   },
   "file_extension": ".py",
   "mimetype": "text/x-python",
   "name": "python",
   "nbconvert_exporter": "python",
   "pygments_lexer": "ipython3",
   "version": "3.12.7"
  }
 },
 "nbformat": 4,
 "nbformat_minor": 5
}
