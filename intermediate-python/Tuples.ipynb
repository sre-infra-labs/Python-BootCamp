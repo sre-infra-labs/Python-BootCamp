{
 "cells": [
  {
   "cell_type": "markdown",
   "id": "8b3d2d41",
   "metadata": {},
   "source": [
    "# Tuples\n",
    "\n",
    "Tuple: ordered, immutable, allows duplicate elements"
   ]
  },
  {
   "cell_type": "code",
   "execution_count": 36,
   "id": "58f7a97b",
   "metadata": {},
   "outputs": [
    {
     "name": "stdout",
     "output_type": "stream",
     "text": [
      "('Ajay', 32, 'Hyderabad')\n",
      "<class 'tuple'>\n",
      "---------------\n",
      "('Priti', 32, 'Nagpur')\n",
      "<class 'tuple'>\n"
     ]
    }
   ],
   "source": [
    "# Declare tuple\n",
    "mytuple = (\"Ajay\", 32, \"Hyderabad\")\n",
    "print(mytuple)\n",
    "print(type(mytuple))\n",
    "\n",
    "print('---'*5)\n",
    "\n",
    "# Declare another tuple without brackets\n",
    "mytuple2 = \"Priti\", 32, \"Nagpur\"\n",
    "print(mytuple2)\n",
    "print(type(mytuple2))"
   ]
  },
  {
   "cell_type": "code",
   "execution_count": 12,
   "id": "f217eb02",
   "metadata": {},
   "outputs": [
    {
     "name": "stdout",
     "output_type": "stream",
     "text": [
      "Ajay\n"
     ]
    }
   ],
   "source": [
    "print(mytuple[0])"
   ]
  },
  {
   "cell_type": "code",
   "execution_count": 9,
   "id": "0e075155-1302-4c8a-9f7f-7a7f4436f4a8",
   "metadata": {},
   "outputs": [
    {
     "name": "stdout",
     "output_type": "stream",
     "text": [
      "('Saanvi', 7, 'Rewa')\n",
      "<class 'tuple'>\n",
      "Rewa\n"
     ]
    }
   ],
   "source": [
    "# convert list to tuple\n",
    "mytuple = tuple([\"Saanvi\", 7, \"Rewa\"])\n",
    "print(mytuple)\n",
    "print(type(mytuple))\n",
    "\n",
    "# get last item\n",
    "print(mytuple[-1])"
   ]
  },
  {
   "cell_type": "code",
   "execution_count": 13,
   "id": "0c4c1e19",
   "metadata": {},
   "outputs": [
    {
     "ename": "TypeError",
     "evalue": "'tuple' object does not support item assignment",
     "output_type": "error",
     "traceback": [
      "\u001b[0;31m---------------------------------------------------------------------------\u001b[0m",
      "\u001b[0;31mTypeError\u001b[0m                                 Traceback (most recent call last)",
      "Cell \u001b[0;32mIn[13], line 2\u001b[0m\n\u001b[1;32m      1\u001b[0m \u001b[38;5;66;03m# Tuple as immutable\u001b[39;00m\n\u001b[0;32m----> 2\u001b[0m mytuple[\u001b[38;5;241m0\u001b[39m] \u001b[38;5;241m=\u001b[39m \u001b[38;5;124m\"\u001b[39m\u001b[38;5;124mGaurav\u001b[39m\u001b[38;5;124m\"\u001b[39m\n",
      "\u001b[0;31mTypeError\u001b[0m: 'tuple' object does not support item assignment"
     ]
    }
   ],
   "source": [
    "# Tuple as immutable\n",
    "mytuple[0] = \"Gaurav\""
   ]
  },
  {
   "cell_type": "code",
   "execution_count": 15,
   "id": "20825b58",
   "metadata": {},
   "outputs": [
    {
     "name": "stdout",
     "output_type": "stream",
     "text": [
      "Ajay\n",
      "<class 'str'>\n",
      "('Ajay',)\n",
      "<class 'tuple'>\n"
     ]
    }
   ],
   "source": [
    "# Incorrect way to create Tuple\n",
    "mytuple = (\"Ajay\")\n",
    "print(mytuple)\n",
    "print(type(mytuple))\n",
    "\n",
    "# Correct way to create Tuple. Notice extra comma\n",
    "mytuple = (\"Ajay\",)\n",
    "print(mytuple)\n",
    "print(type(mytuple))"
   ]
  },
  {
   "cell_type": "code",
   "execution_count": 10,
   "id": "34db5c08-23f2-4a07-a188-2d262cadcd34",
   "metadata": {},
   "outputs": [
    {
     "name": "stdout",
     "output_type": "stream",
     "text": [
      "Anant\n",
      "3\n",
      "Rewa\n"
     ]
    }
   ],
   "source": [
    "# Loop through tuple items\n",
    "mytuple = (\"Anant\", 3, \"Rewa\")\n",
    "\n",
    "for i in mytuple:\n",
    "    print(i)"
   ]
  },
  {
   "cell_type": "code",
   "execution_count": 16,
   "id": "9881a72d",
   "metadata": {},
   "outputs": [
    {
     "name": "stdout",
     "output_type": "stream",
     "text": [
      "('Ajay', 32, 'Hyderabad')\n",
      "Yes\n"
     ]
    }
   ],
   "source": [
    "# Search by key\n",
    "mytuple = (\"Ajay\", 32, \"Hyderabad\")\n",
    "print(mytuple)\n",
    "\n",
    "if \"Ajay\" in mytuple:\n",
    "    print(\"Yes\")\n",
    "else:\n",
    "    print(\"No\")"
   ]
  },
  {
   "cell_type": "code",
   "execution_count": 30,
   "id": "e9a24c06",
   "metadata": {},
   "outputs": [],
   "source": [
    "mytuple = ('a','p','p','l','e')"
   ]
  },
  {
   "cell_type": "code",
   "execution_count": 31,
   "id": "41311513",
   "metadata": {},
   "outputs": [
    {
     "data": {
      "text/plain": [
       "2"
      ]
     },
     "execution_count": 31,
     "metadata": {},
     "output_type": "execute_result"
    }
   ],
   "source": [
    "mytuple.count('p')"
   ]
  },
  {
   "cell_type": "code",
   "execution_count": 32,
   "id": "34cef186",
   "metadata": {},
   "outputs": [
    {
     "data": {
      "text/plain": [
       "1"
      ]
     },
     "execution_count": 32,
     "metadata": {},
     "output_type": "execute_result"
    }
   ],
   "source": [
    "mytuple.index('p')"
   ]
  },
  {
   "cell_type": "code",
   "execution_count": 16,
   "id": "57b16dc8",
   "metadata": {},
   "outputs": [
    {
     "data": {
      "text/plain": [
       "['a', 'p', 'p', 'l', 'e']"
      ]
     },
     "execution_count": 16,
     "metadata": {},
     "output_type": "execute_result"
    }
   ],
   "source": [
    "my_list = list(mytuple)\n",
    "my_list"
   ]
  },
  {
   "cell_type": "markdown",
   "id": "732efbc8-eced-43cb-be2e-73c40e6a77a1",
   "metadata": {},
   "source": [
    "### Tuple Slicing"
   ]
  },
  {
   "cell_type": "code",
   "execution_count": 33,
   "id": "1cad6264-c42b-4edf-ac6d-b0fc99665ca2",
   "metadata": {
    "scrolled": true
   },
   "outputs": [
    {
     "name": "stdout",
     "output_type": "stream",
     "text": [
      "(3, 4, 5)\n",
      "(1, 2, 3, 4, 5)\n",
      "(1, 3, 5, 7, 9)\n",
      "(10, 9, 8, 7, 6, 5, 4, 3, 2, 1)\n"
     ]
    }
   ],
   "source": [
    "# Notice that max index vaule in Slicing is exclusive\n",
    "a = (1, 2, 3, 4, 5, 6, 7, 8, 9, 10)\n",
    "\n",
    "# start and end\n",
    "b = a[2:5]\n",
    "print(b)\n",
    "\n",
    "# no start\n",
    "print(a[:5])\n",
    "\n",
    "# just step\n",
    "print(a[::2])\n",
    "\n",
    "# reverse using slicing\n",
    "print(a[::-1])"
   ]
  },
  {
   "cell_type": "markdown",
   "id": "780cb94b",
   "metadata": {},
   "source": [
    "### Tuple Unpacking"
   ]
  },
  {
   "cell_type": "code",
   "execution_count": 42,
   "id": "7c5de6db",
   "metadata": {},
   "outputs": [
    {
     "name": "stdout",
     "output_type": "stream",
     "text": [
      "Ajay is 32 years old and lives in Hyderabad\n"
     ]
    }
   ],
   "source": [
    "# Simple tuple unpacking\n",
    "my_tuple = \"Ajay\", 32, \"Hyderabad\"\n",
    "\n",
    "name, age, city = my_tuple\n",
    "print(f\"{name} is {age} years old and lives in {city}\")"
   ]
  },
  {
   "cell_type": "code",
   "execution_count": 44,
   "id": "31bc2f05",
   "metadata": {},
   "outputs": [
    {
     "name": "stdout",
     "output_type": "stream",
     "text": [
      "Ajay is 32 years old and lives in Hyderabad\n"
     ]
    }
   ],
   "source": [
    "# Complex tuple unpacking using *args\n",
    "my_tuple2 = \"Ajay\", 32, \"Hyderabad\"\n",
    "\n",
    "name, *dtls = my_tuple2\n",
    "print(f\"{name} is {dtls[0]} years old and lives in {dtls[1]}\")"
   ]
  },
  {
   "cell_type": "code",
   "execution_count": 46,
   "id": "358e0219-cfb3-4b0a-8379-e9c1bcf1bf0e",
   "metadata": {},
   "outputs": [
    {
     "name": "stdout",
     "output_type": "stream",
     "text": [
      "0\n",
      "4\n",
      "[1, 2, 3]\n"
     ]
    }
   ],
   "source": [
    "# Complex tuple unpacking using *args\n",
    "my_tuple = (0, 1, 2, 3, 4)\n",
    "\n",
    "i1, *i2, i3 = my_tuple\n",
    "\n",
    "print(i1)\n",
    "print(i3)\n",
    "print(i2)"
   ]
  },
  {
   "cell_type": "markdown",
   "id": "5009a08f",
   "metadata": {},
   "source": [
    "### Size"
   ]
  },
  {
   "cell_type": "code",
   "execution_count": 2,
   "id": "9465169e",
   "metadata": {},
   "outputs": [
    {
     "name": "stdout",
     "output_type": "stream",
     "text": [
      "120 bytes\n",
      "80 bytes\n"
     ]
    }
   ],
   "source": [
    "import sys\n",
    "\n",
    "my_list = [0,1,2,\"hello\",True]\n",
    "my_tuple = (0,1,2,\"hello\",True)\n",
    "\n",
    "print(sys.getsizeof(my_list), \"bytes\")\n",
    "print(sys.getsizeof(my_tuple), \"bytes\")"
   ]
  },
  {
   "cell_type": "markdown",
   "id": "90e8d717",
   "metadata": {},
   "source": [
    "### Time"
   ]
  },
  {
   "cell_type": "code",
   "execution_count": 5,
   "id": "df686c1d",
   "metadata": {},
   "outputs": [
    {
     "name": "stdout",
     "output_type": "stream",
     "text": [
      "0.3347174520022236\n",
      "0.046644034002383705\n"
     ]
    }
   ],
   "source": [
    "import timeit\n",
    "\n",
    "print(timeit.timeit(stmt=\"[0,1,2,3,4,5]\", number=10000000))\n",
    "print(timeit.timeit(stmt=\"(0,1,2,3,4,5)\", number=10000000))"
   ]
  },
  {
   "cell_type": "code",
   "execution_count": null,
   "id": "ab0be710",
   "metadata": {},
   "outputs": [],
   "source": []
  }
 ],
 "metadata": {
  "kernelspec": {
   "display_name": "Python 3 (ipykernel)",
   "language": "python",
   "name": "python3"
  },
  "language_info": {
   "codemirror_mode": {
    "name": "ipython",
    "version": 3
   },
   "file_extension": ".py",
   "mimetype": "text/x-python",
   "name": "python",
   "nbconvert_exporter": "python",
   "pygments_lexer": "ipython3",
   "version": "3.12.7"
  }
 },
 "nbformat": 4,
 "nbformat_minor": 5
}
