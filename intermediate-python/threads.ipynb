{
 "cells": [
  {
   "cell_type": "markdown",
   "id": "5077b900-fc70-46e2-ac12-0fb20a06de86",
   "metadata": {},
   "source": [
    "# Threads"
   ]
  },
  {
   "cell_type": "markdown",
   "id": "326e928a-f642-4f8f-88d2-899bacb2c30e",
   "metadata": {},
   "source": [
    "**Threads**: An entity within a process that can be scheduled (also known as \"lightweight process\").\n",
    "A process can spawn multiple threads.\n",
    "\n",
    "```\n",
    "+ All threads within a process share the same memory\n",
    "+ Lightweight\n",
    "+ Starting a thread is faster than starting a process\n",
    "+ Great for I/O bound tasks\n",
    "\n",
    "- Threading is limited by GIL: Only one thread at a time\n",
    "- No effect for CPU-bound tasks\n",
    "- Not interruptable/killable\n",
    "- Careful with race condition\n",
    "```\n",
    "\n",
    "# GIL: Global interpreter lock\n",
    "\n",
    "```\n",
    "- A lock that allows only one thread at a time to execute in Python\n",
    "- Needed in CPython because memory management is not thread-safe\n",
    "\n",
    "- Avoid:\n",
    "  - Use multiprocessing\n",
    "  - Use a different, free-threaded Python implementation (Jython, IronPython)\n",
    "  - Use Python as a wrapper for third-party libraries (C/C++) -> numpy, scipy\n",
    "```"
   ]
  },
  {
   "cell_type": "code",
   "execution_count": null,
   "id": "78ab9714-eda1-43ff-b7eb-561f22dfb4c6",
   "metadata": {},
   "outputs": [],
   "source": []
  }
 ],
 "metadata": {
  "kernelspec": {
   "display_name": "Python 3 (ipykernel)",
   "language": "python",
   "name": "python3"
  },
  "language_info": {
   "codemirror_mode": {
    "name": "ipython",
    "version": 3
   },
   "file_extension": ".py",
   "mimetype": "text/x-python",
   "name": "python",
   "nbconvert_exporter": "python",
   "pygments_lexer": "ipython3",
   "version": "3.12.7"
  }
 },
 "nbformat": 4,
 "nbformat_minor": 5
}
