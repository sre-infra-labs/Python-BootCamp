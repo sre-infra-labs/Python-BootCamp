{
 "cells": [
  {
   "cell_type": "markdown",
   "id": "3cd4fbf6-f505-4c5b-a35c-50b858661eae",
   "metadata": {},
   "source": [
    "# Processes"
   ]
  },
  {
   "cell_type": "markdown",
   "id": "3f78d1bd-99e0-414e-919d-802cd59b77e3",
   "metadata": {},
   "source": [
    "**Process**: An instance of a program (e.g a Python interpreter)\n",
    "\n",
    "```\n",
    "+ Takes advantage of multiple CPUs and cores\n",
    "+ Separate memory space -> Memory is not shared between processes\n",
    "+ Great for CPU-bound processing\n",
    "+ New process is started independently from other processes\n",
    "+ Processes are interruptable/killable\n",
    "+ One GIL for each process -> avoids GIL limitation\n",
    "\n",
    "- Heavyweight\n",
    "- Starting a process is slower than starting a thread\n",
    "- More memory\n",
    "- IPC (inter-process communication) is more complicated\n",
    "```"
   ]
  },
  {
   "cell_type": "code",
   "execution_count": null,
   "id": "44a7d921-e421-48a4-81d4-d7bab67a72dc",
   "metadata": {},
   "outputs": [],
   "source": []
  }
 ],
 "metadata": {
  "kernelspec": {
   "display_name": "Python 3 (ipykernel)",
   "language": "python",
   "name": "python3"
  },
  "language_info": {
   "codemirror_mode": {
    "name": "ipython",
    "version": 3
   },
   "file_extension": ".py",
   "mimetype": "text/x-python",
   "name": "python",
   "nbconvert_exporter": "python",
   "pygments_lexer": "ipython3",
   "version": "3.12.7"
  }
 },
 "nbformat": 4,
 "nbformat_minor": 5
}
