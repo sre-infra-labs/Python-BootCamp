{
 "cells": [
  {
   "cell_type": "markdown",
   "id": "289ade49-37b4-4633-8f10-64415b5b1ed6",
   "metadata": {},
   "source": [
    "# JSON Handling"
   ]
  },
  {
   "cell_type": "markdown",
   "id": "84d82002-7055-4ff0-9dc5-f9c2e51b57e6",
   "metadata": {},
   "source": [
    "### 🧾 Python ↔ JSON Data Type Conversion Table\n",
    "\n",
    "| Python Type               | JSON Type        | Notes                                                               |\n",
    "|---------------------------|------------------|---------------------------------------------------------------------|\n",
    "| `dict`                    | Object           | Key-value pairs                                                     |\n",
    "| `list`, `tuple`           | Array            | Tuples are converted to lists; JSON does not have a tuple type      |\n",
    "| `str`                     | String           | Direct mapping                                                      |\n",
    "| `int`, `float`, `long`    | Number           | JSON numbers support both integers and decimals                     |\n",
    "| `True` / `False`          | `true` / `false` | Boolean values                                                      |\n",
    "| `None`                    | `null`           | Python `None` maps to JSON `null`                                   |"
   ]
  },
  {
   "cell_type": "markdown",
   "id": "7be43f13-8bf8-4ac6-9295-ab18e9c5b388",
   "metadata": {},
   "source": [
    "## Dictionary to JSON (Serialization/Encoding) String"
   ]
  },
  {
   "cell_type": "code",
   "execution_count": 10,
   "id": "8376e394",
   "metadata": {
    "scrolled": true
   },
   "outputs": [
    {
     "name": "stdout",
     "output_type": "stream",
     "text": [
      "{\n",
      "  \"age\": 33,\n",
      "  \"children\": [\n",
      "    {\n",
      "      \"age\": 7,\n",
      "      \"firstName\": \"Saanvi\"\n",
      "    },\n",
      "    {\n",
      "      \"age\": 3,\n",
      "      \"firstName\": \"Anant\"\n",
      "    }\n",
      "  ],\n",
      "  \"city\": \"Hyderabad\",\n",
      "  \"hasChildren\": true,\n",
      "  \"name\": \"Ajay\",\n",
      "  \"titles\": [\n",
      "    \"engineer\",\n",
      "    \"programmer\",\n",
      "    \"father\"\n",
      "  ]\n",
      "}\n"
     ]
    }
   ],
   "source": [
    "import json\n",
    "\n",
    "person = {\"name\":\"Ajay\", \"age\":33, \"city\":\"Hyderabad\", \"hasChildren\":True, \"titles\":[\"engineer\",\"programmer\",\"father\"], \\\n",
    "          \"children\":({\"firstName\":\"Saanvi\", \"age\":7},{\"firstName\":\"Anant\", \"age\":3})}\n",
    "\n",
    "personJSON = json.dumps(person, indent=2, sort_keys=True)\n",
    "print(personJSON)\n",
    "\n",
    "#personJSON = json.dumps(person, indent=4, separators=('; ', '= '))\n",
    "#print(personJSON)"
   ]
  },
  {
   "cell_type": "markdown",
   "id": "9ab5192b",
   "metadata": {},
   "source": [
    "## Dump Python Dictionary to File as JSON data"
   ]
  },
  {
   "cell_type": "code",
   "execution_count": 11,
   "id": "5ec12e92",
   "metadata": {},
   "outputs": [],
   "source": [
    "with open('person.json','w') as file:\n",
    "    json.dump(person, file, indent=4)"
   ]
  },
  {
   "cell_type": "code",
   "execution_count": 14,
   "id": "929c3cf4",
   "metadata": {},
   "outputs": [
    {
     "name": "stdout",
     "output_type": "stream",
     "text": [
      "-rw-r--r--@ 1 ajay.dwivedi  staff  346 May 25 18:50 person.json\n"
     ]
    }
   ],
   "source": [
    "! ls -l person.json"
   ]
  },
  {
   "cell_type": "code",
   "execution_count": 15,
   "id": "3722cbd5",
   "metadata": {},
   "outputs": [
    {
     "name": "stdout",
     "output_type": "stream",
     "text": [
      "{\n",
      "    \"name\": \"Ajay\",\n",
      "    \"age\": 33,\n",
      "    \"city\": \"Hyderabad\",\n",
      "    \"hasChildren\": true,\n",
      "    \"titles\": [\n",
      "        \"engineer\",\n",
      "        \"programmer\",\n",
      "        \"father\"\n",
      "    ],\n",
      "    \"children\": [\n",
      "        {\n",
      "            \"firstName\": \"Saanvi\",\n",
      "            \"age\": 7\n",
      "        },\n",
      "        {\n",
      "            \"firstName\": \"Anant\",\n",
      "            \"age\": 3\n",
      "        }\n",
      "    ]\n",
      "}"
     ]
    }
   ],
   "source": [
    "! cat person.json"
   ]
  },
  {
   "cell_type": "markdown",
   "id": "a55ba1b5",
   "metadata": {},
   "source": [
    "## Convert to Dictionary from JSON"
   ]
  },
  {
   "cell_type": "code",
   "execution_count": 16,
   "id": "df83e6db",
   "metadata": {},
   "outputs": [
    {
     "name": "stdout",
     "output_type": "stream",
     "text": [
      "{'age': 33, 'children': [{'age': 7, 'firstName': 'Saanvi'}, {'age': 3, 'firstName': 'Anant'}], 'city': 'Hyderabad', 'hasChildren': True, 'name': 'Ajay', 'titles': ['engineer', 'programmer', 'father']}\n"
     ]
    }
   ],
   "source": [
    "person_converted = json.loads(personJSON)\n",
    "print(person_converted)"
   ]
  },
  {
   "cell_type": "code",
   "execution_count": 17,
   "id": "953851f6",
   "metadata": {},
   "outputs": [
    {
     "name": "stdout",
     "output_type": "stream",
     "text": [
      "{'name': 'Ajay', 'age': 33, 'city': 'Hyderabad', 'hasChildren': True, 'titles': ['engineer', 'programmer', 'father'], 'children': [{'firstName': 'Saanvi', 'age': 7}, {'firstName': 'Anant', 'age': 3}]}\n"
     ]
    }
   ],
   "source": [
    "with open('person.json','r') as file:\n",
    "    person_converted = json.load(file)\n",
    "    print(person_converted)"
   ]
  },
  {
   "cell_type": "markdown",
   "id": "4b861ac3",
   "metadata": {},
   "source": [
    "## Class object to JSON"
   ]
  },
  {
   "cell_type": "code",
   "execution_count": 4,
   "id": "63f7db4d",
   "metadata": {},
   "outputs": [],
   "source": [
    "import json\n",
    "\n",
    "class User:\n",
    "    \n",
    "    def __init__(self, name, age):\n",
    "        self.name = name\n",
    "        self.age = age\n",
    "        "
   ]
  },
  {
   "cell_type": "code",
   "execution_count": 5,
   "id": "5b540abe-b714-49dd-9592-9e72653eb9a8",
   "metadata": {},
   "outputs": [],
   "source": [
    "#!pip install colorama\n",
    "#!conda install -c anaconda colorama"
   ]
  },
  {
   "cell_type": "code",
   "execution_count": 6,
   "id": "86a40f0b-5fc4-4332-8e0f-6698bc1fffb4",
   "metadata": {},
   "outputs": [],
   "source": [
    "user = User('Ajay', 33)"
   ]
  },
  {
   "cell_type": "code",
   "execution_count": 7,
   "id": "e5b07e04",
   "metadata": {},
   "outputs": [
    {
     "name": "stdout",
     "output_type": "stream",
     "text": [
      "ERROR: Object of type User is not JSON serializable\n"
     ]
    }
   ],
   "source": [
    "# This is expected to throw error\n",
    "try:\n",
    "    userJSON = json.dumps(user)\n",
    "except Exception as e:\n",
    "    print(f'ERROR: {e}')"
   ]
  },
  {
   "cell_type": "markdown",
   "id": "0635bcc0-c43a-4373-bf08-4ba6cf43c0ac",
   "metadata": {},
   "source": [
    "## Create JSON Encoder/Decoder for Class Objects"
   ]
  },
  {
   "cell_type": "code",
   "execution_count": 14,
   "id": "ef82958d",
   "metadata": {},
   "outputs": [],
   "source": [
    "def custom_json_encode(o):\n",
    "    if isinstance(o, User):\n",
    "        return {'name': o.name, 'age': o.age, o.__class__.__name__: True}\n",
    "    raise TypeError(f'Object of type {type(o)} is not JSON serializable')\n",
    "\n",
    "def custom_json_decode(dct):\n",
    "    if User.__name__ in dct:\n",
    "        return User(name=dct['name'], age=dct['age'])\n",
    "    return dct"
   ]
  },
  {
   "cell_type": "code",
   "execution_count": 20,
   "id": "4c3f99e4",
   "metadata": {},
   "outputs": [
    {
     "name": "stdout",
     "output_type": "stream",
     "text": [
      "{\"name\": \"Ajay\", \"age\": 33, \"User\": true}\n",
      "<class 'str'>\n"
     ]
    }
   ],
   "source": [
    "# Encode user class object to JSON\n",
    "userJSON = json.dumps(user, default=custom_json)\n",
    "print(userJSON)\n",
    "print(type(userJSON))"
   ]
  },
  {
   "cell_type": "code",
   "execution_count": 27,
   "id": "1dddc011-e388-4a06-9ec3-65d0dcfc5424",
   "metadata": {},
   "outputs": [
    {
     "name": "stdout",
     "output_type": "stream",
     "text": [
      "{'name': 'Ajay', 'age': 33, 'User': True}\n",
      "<class 'dict'>\n",
      "user.name: Ajay, user.age: 33\n"
     ]
    }
   ],
   "source": [
    "# Convert the JSON string to Dict\n",
    "user = json.loads(userJSON)\n",
    "\n",
    "print(user)\n",
    "print(type(user))\n",
    "print(f'user.name: {user['name']}, user.age: {user['age']}')"
   ]
  },
  {
   "cell_type": "code",
   "execution_count": 22,
   "id": "32f745f5-e9af-4cba-9e63-d9661fab4e7f",
   "metadata": {},
   "outputs": [
    {
     "name": "stdout",
     "output_type": "stream",
     "text": [
      "<__main__.User object at 0x104553200>\n",
      "Ajay\n",
      "33\n"
     ]
    }
   ],
   "source": [
    "# Decode user class object from JSON\n",
    "user = json.loads(userJSON,object_hook=custom_json_decode)\n",
    "print(user)\n",
    "type(user)\n",
    "\n",
    "print(user.name)\n",
    "print(user.age)"
   ]
  },
  {
   "cell_type": "markdown",
   "id": "b288387c",
   "metadata": {},
   "source": [
    "## Use JSONEncoder"
   ]
  },
  {
   "cell_type": "code",
   "execution_count": 15,
   "id": "5a58c521",
   "metadata": {},
   "outputs": [],
   "source": [
    "from json import JSONEncoder\n",
    "\n",
    "class UserEncoder(JSONEncoder):\n",
    "    \n",
    "    def default(self, o):\n",
    "        if isinstance(o, User):\n",
    "            return {'name': o.name, 'age': o.age, o.__class__.__name__: True}\n",
    "        return JSONEncoder.default(self, o)"
   ]
  },
  {
   "cell_type": "code",
   "execution_count": 16,
   "id": "e4754478",
   "metadata": {},
   "outputs": [
    {
     "name": "stdout",
     "output_type": "stream",
     "text": [
      "{\"name\": \"Ajay\", \"age\": 33, \"User\": true}\n"
     ]
    }
   ],
   "source": [
    "userJSON = UserEncoder().encode(user)\n",
    "print(userJSON)"
   ]
  },
  {
   "cell_type": "code",
   "execution_count": 17,
   "id": "9db8b115",
   "metadata": {},
   "outputs": [
    {
     "name": "stdout",
     "output_type": "stream",
     "text": [
      "{\"name\": \"Ajay\", \"age\": 33, \"User\": true}\n"
     ]
    }
   ],
   "source": [
    "userJSON = json.dumps(user, cls=UserEncoder)\n",
    "print(userJSON)"
   ]
  }
 ],
 "metadata": {
  "kernelspec": {
   "display_name": "Python 3 (ipykernel)",
   "language": "python",
   "name": "python3"
  },
  "language_info": {
   "codemirror_mode": {
    "name": "ipython",
    "version": 3
   },
   "file_extension": ".py",
   "mimetype": "text/x-python",
   "name": "python",
   "nbconvert_exporter": "python",
   "pygments_lexer": "ipython3",
   "version": "3.12.7"
  }
 },
 "nbformat": 4,
 "nbformat_minor": 5
}
