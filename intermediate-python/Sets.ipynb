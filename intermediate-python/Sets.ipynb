{
 "cells": [
  {
   "cell_type": "markdown",
   "id": "02cdcff8",
   "metadata": {},
   "source": [
    "# Sets: unordered, mutable, no duplicates"
   ]
  },
  {
   "cell_type": "code",
   "execution_count": 3,
   "id": "d9f2e03a",
   "metadata": {},
   "outputs": [
    {
     "name": "stdout",
     "output_type": "stream",
     "text": [
      "{1, 2, 3, 4, 5}\n",
      "{1, 2, 3, 4, 5}\n"
     ]
    }
   ],
   "source": [
    "myset = {1,2,3,5,4,2}\n",
    "print(myset)\n",
    "\n",
    "# Create set from list\n",
    "myset = set([1,2,3,5,4,1])\n",
    "print(myset)"
   ]
  },
  {
   "cell_type": "markdown",
   "id": "c10ca673-1354-4323-9014-f983279f8429",
   "metadata": {},
   "source": [
    "### Trick to get unique letters in a word"
   ]
  },
  {
   "cell_type": "code",
   "execution_count": 4,
   "id": "962a1f67",
   "metadata": {},
   "outputs": [
    {
     "name": "stdout",
     "output_type": "stream",
     "text": [
      "{'l', 'h', 'e', 'o'}\n"
     ]
    }
   ],
   "source": [
    "myset2 = set(\"hello\")\n",
    "print(myset2)"
   ]
  },
  {
   "cell_type": "markdown",
   "id": "15b611b1-4d08-4616-8bb0-825ef4fc213e",
   "metadata": {},
   "source": [
    "### Add/Remove items to Set"
   ]
  },
  {
   "cell_type": "code",
   "execution_count": 4,
   "id": "89292f4c",
   "metadata": {},
   "outputs": [
    {
     "name": "stdout",
     "output_type": "stream",
     "text": [
      "{'anant', 'saanvi'}\n",
      "<class 'set'>\n"
     ]
    }
   ],
   "source": [
    "kids = set()\n",
    "\n",
    "kids.add('saanvi')\n",
    "kids.add('anant')\n",
    "\n",
    "print(kids)\n",
    "print(type(kids))"
   ]
  },
  {
   "cell_type": "code",
   "execution_count": 9,
   "id": "09e3786d",
   "metadata": {},
   "outputs": [
    {
     "name": "stdout",
     "output_type": "stream",
     "text": [
      "{1, 2, 4}\n",
      "Pop method. \n",
      "1\n"
     ]
    }
   ],
   "source": [
    "myset = set()\n",
    "\n",
    "myset.add(1)\n",
    "myset.add(2)\n",
    "myset.add(3)\n",
    "myset.add(4)\n",
    "\n",
    "myset.discard(3)\n",
    "\n",
    "# Will there be error?\n",
    "myset.discard(6)\n",
    "\n",
    "print(myset)\n",
    "\n",
    "print(f'Pop method. \\n{myset.pop()}')\n",
    "\n",
    "# Clear set\n",
    "myset.clear()"
   ]
  },
  {
   "cell_type": "markdown",
   "id": "b6004af2-5bed-4b30-915b-5b0cd9ceac22",
   "metadata": {},
   "source": [
    "### Check item existence?"
   ]
  },
  {
   "cell_type": "code",
   "execution_count": 11,
   "id": "211789be-d099-4fe7-9546-f47c9cc083f6",
   "metadata": {},
   "outputs": [
    {
     "name": "stdout",
     "output_type": "stream",
     "text": [
      "yes\n"
     ]
    }
   ],
   "source": [
    "myset = (1,2,3)\n",
    "\n",
    "if 3 in myset:\n",
    "    print(\"yes\")\n",
    "else:\n",
    "    print(\"no\")"
   ]
  },
  {
   "cell_type": "markdown",
   "id": "94ddc917",
   "metadata": {},
   "source": [
    "## Joining sets"
   ]
  },
  {
   "cell_type": "code",
   "execution_count": 9,
   "id": "f186fc7f",
   "metadata": {},
   "outputs": [],
   "source": [
    "odds = {1,3,5,7,9}\n",
    "evens = {0,2,4,6,8}\n",
    "primes = {2,3,5,7}"
   ]
  },
  {
   "cell_type": "code",
   "execution_count": 10,
   "id": "7531bb90",
   "metadata": {},
   "outputs": [
    {
     "name": "stdout",
     "output_type": "stream",
     "text": [
      "{0, 1, 2, 3, 4, 5, 6, 7, 8, 9}\n"
     ]
    }
   ],
   "source": [
    "u = odds.union(evens)\n",
    "print(u)"
   ]
  },
  {
   "cell_type": "code",
   "execution_count": 11,
   "id": "bd6104e1",
   "metadata": {},
   "outputs": [
    {
     "name": "stdout",
     "output_type": "stream",
     "text": [
      "{3, 5, 7}\n"
     ]
    }
   ],
   "source": [
    "i = odds.intersection(primes)\n",
    "print(i)"
   ]
  },
  {
   "cell_type": "code",
   "execution_count": 12,
   "id": "818ef817",
   "metadata": {},
   "outputs": [
    {
     "name": "stdout",
     "output_type": "stream",
     "text": [
      "set()\n"
     ]
    }
   ],
   "source": [
    "i = odds.intersection(evens)\n",
    "print(i)"
   ]
  },
  {
   "cell_type": "code",
   "execution_count": 13,
   "id": "5ae96de5",
   "metadata": {},
   "outputs": [
    {
     "name": "stdout",
     "output_type": "stream",
     "text": [
      "{3, 5, 7}\n"
     ]
    }
   ],
   "source": [
    "diff = primes.difference(evens)\n",
    "print(diff)"
   ]
  },
  {
   "cell_type": "code",
   "execution_count": 14,
   "id": "2efea057",
   "metadata": {},
   "outputs": [
    {
     "name": "stdout",
     "output_type": "stream",
     "text": [
      "{0, 3, 4, 5, 6, 7, 8}\n"
     ]
    }
   ],
   "source": [
    "diff = primes.symmetric_difference(evens)\n",
    "print(diff)"
   ]
  },
  {
   "cell_type": "markdown",
   "id": "a7dd91a0-d35b-4899-919a-24fca08e804f",
   "metadata": {},
   "source": [
    "### Joining sets & modifying in place"
   ]
  },
  {
   "cell_type": "code",
   "execution_count": 13,
   "id": "a34fa7c0-f2c5-458d-8e24-bfce20b31314",
   "metadata": {},
   "outputs": [
    {
     "name": "stdout",
     "output_type": "stream",
     "text": [
      "Update => \n",
      "{1, 2, 3, 4, 5, 6, 7, 8, 9, 10, 11, 12}\n"
     ]
    }
   ],
   "source": [
    "setA = {1,2,3,4,5,6,7,8,9}\n",
    "setB = {1,2,3,10,11,12}\n",
    "\n",
    "setA.update(setB)\n",
    "print(f'Update => \\n{setA}')"
   ]
  },
  {
   "cell_type": "code",
   "execution_count": 14,
   "id": "add17e9d-9a32-4c40-9fab-9f57b3b6516d",
   "metadata": {},
   "outputs": [
    {
     "name": "stdout",
     "output_type": "stream",
     "text": [
      "intersection_update => \n",
      "{1, 2, 3}\n"
     ]
    }
   ],
   "source": [
    "setA = {1,2,3,4,5,6,7,8,9}\n",
    "setB = {1,2,3,10,11,12}\n",
    "\n",
    "setA.intersection_update(setB)\n",
    "print(f'intersection_update => \\n{setA}')"
   ]
  },
  {
   "cell_type": "code",
   "execution_count": 15,
   "id": "651c03cb-7eb1-41b0-a30e-97b0c1086fa2",
   "metadata": {},
   "outputs": [
    {
     "name": "stdout",
     "output_type": "stream",
     "text": [
      "difference_update => \n",
      "{4, 5, 6, 7, 8, 9}\n"
     ]
    }
   ],
   "source": [
    "setA = {1,2,3,4,5,6,7,8,9}\n",
    "setB = {1,2,3,10,11,12}\n",
    "\n",
    "setA.difference_update(setB)\n",
    "print(f'difference_update => \\n{setA}')"
   ]
  },
  {
   "cell_type": "code",
   "execution_count": 16,
   "id": "67488ca1-f1d6-4152-9883-b67ce38a8d5b",
   "metadata": {},
   "outputs": [
    {
     "name": "stdout",
     "output_type": "stream",
     "text": [
      "symmetric_difference_update => \n",
      "{4, 5, 6, 7, 8, 9, 10, 11, 12}\n"
     ]
    }
   ],
   "source": [
    "setA = {1,2,3,4,5,6,7,8,9}\n",
    "setB = {1,2,3,10,11,12}\n",
    "\n",
    "setA.symmetric_difference_update(setB)\n",
    "print(f'symmetric_difference_update => \\n{setA}')"
   ]
  },
  {
   "cell_type": "markdown",
   "id": "88bc7f6d-964b-458a-8cd4-adfb542620ec",
   "metadata": {},
   "source": [
    "### Superset & Subset"
   ]
  },
  {
   "cell_type": "code",
   "execution_count": 23,
   "id": "616af299-f134-4e67-847c-376688938800",
   "metadata": {},
   "outputs": [
    {
     "name": "stdout",
     "output_type": "stream",
     "text": [
      "setA.issubset(setB) => False\n",
      "setB.issubset(setA) => True\n",
      "setA.issuperset(setB) => True\n",
      "setB.issuperset(setA) => False\n",
      "setA.isdisjoint(setB) => False\n",
      "setA.isdisjoint(setC) => True\n"
     ]
    }
   ],
   "source": [
    "setA = {1, 2, 3, 4, 5, 6}\n",
    "setB = {1, 2, 3}\n",
    "setC = {7, 8}\n",
    "\n",
    "print(f'setA.issubset(setB) => {setA.issubset(setB)}')\n",
    "print(f'setB.issubset(setA) => {setB.issubset(setA)}')\n",
    "\n",
    "print(f'setA.issuperset(setB) => {setA.issuperset(setB)}')\n",
    "print(f'setB.issuperset(setA) => {setB.issuperset(setA)}')\n",
    "\n",
    "print(f'setA.isdisjoint(setB) => {setA.isdisjoint(setB)}')\n",
    "print(f'setA.isdisjoint(setC) => {setA.isdisjoint(setC)}')"
   ]
  },
  {
   "cell_type": "markdown",
   "id": "e35a2ffe-b3d5-4329-96d3-47da40caa742",
   "metadata": {},
   "source": [
    "### Frozen set"
   ]
  },
  {
   "cell_type": "code",
   "execution_count": 25,
   "id": "76be9ecd-7552-448c-ad60-3d22599dd0ba",
   "metadata": {},
   "outputs": [
    {
     "name": "stdout",
     "output_type": "stream",
     "text": [
      "frozenset({1, 2, 3, 4})\n"
     ]
    },
    {
     "ename": "AttributeError",
     "evalue": "'frozenset' object has no attribute 'add'",
     "output_type": "error",
     "traceback": [
      "\u001b[0;31m---------------------------------------------------------------------------\u001b[0m",
      "\u001b[0;31mAttributeError\u001b[0m                            Traceback (most recent call last)",
      "Cell \u001b[0;32mIn[25], line 5\u001b[0m\n\u001b[1;32m      1\u001b[0m a \u001b[38;5;241m=\u001b[39m \u001b[38;5;28mfrozenset\u001b[39m([\u001b[38;5;241m1\u001b[39m, \u001b[38;5;241m2\u001b[39m, \u001b[38;5;241m3\u001b[39m, \u001b[38;5;241m4\u001b[39m])\n\u001b[1;32m      3\u001b[0m \u001b[38;5;28mprint\u001b[39m(a)\n\u001b[0;32m----> 5\u001b[0m a\u001b[38;5;241m.\u001b[39madd(\u001b[38;5;241m2\u001b[39m)\n\u001b[1;32m      6\u001b[0m a\u001b[38;5;241m.\u001b[39mremote(\u001b[38;5;241m1\u001b[39m)\n",
      "\u001b[0;31mAttributeError\u001b[0m: 'frozenset' object has no attribute 'add'"
     ]
    }
   ],
   "source": [
    "a = frozenset([1, 2, 3, 4])\n",
    "\n",
    "print(a)\n",
    "\n",
    "a.add(2)\n",
    "a.remote(1)\n"
   ]
  },
  {
   "cell_type": "code",
   "execution_count": null,
   "id": "9e6920c9-3814-4316-907b-38bfbedb27a5",
   "metadata": {},
   "outputs": [],
   "source": []
  }
 ],
 "metadata": {
  "kernelspec": {
   "display_name": "Python 3 (ipykernel)",
   "language": "python",
   "name": "python3"
  },
  "language_info": {
   "codemirror_mode": {
    "name": "ipython",
    "version": 3
   },
   "file_extension": ".py",
   "mimetype": "text/x-python",
   "name": "python",
   "nbconvert_exporter": "python",
   "pygments_lexer": "ipython3",
   "version": "3.12.7"
  }
 },
 "nbformat": 4,
 "nbformat_minor": 5
}
