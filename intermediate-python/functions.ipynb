{
 "cells": [
  {
   "cell_type": "markdown",
   "id": "61bcd44a-6fbd-4d70-9819-f8ac166b272c",
   "metadata": {},
   "source": [
    "# Functions\n",
    "\n",
    "```\n",
    "- The difference between arguments and parameters\n",
    "- Positional and keyword arguments\n",
    "- Default arguments\n",
    "- Variable-length arguments (*args, **kwargs)\n",
    "- Container unpacking into function arguments\n",
    "- Local vs. global arguments\n",
    "- Parameter passing (by value or by reference)\n",
    "\n",
    "```\n",
    "\n",
    "**Parameters** are the variables that are defined or used inside the parenthesis while defining the function.\n",
    "\n",
    "**Arguments** are the values passed while calling the function."
   ]
  },
  {
   "cell_type": "code",
   "execution_count": 2,
   "id": "7638b5b4-c09b-4dc9-8bae-14dc45f3e9d4",
   "metadata": {},
   "outputs": [
    {
     "name": "stdout",
     "output_type": "stream",
     "text": [
      "Name: Ajay\n"
     ]
    }
   ],
   "source": [
    "# name here is a \"parameter\"\n",
    "def print_name(name):\n",
    "    print(f'Name: {name}')\n",
    "\n",
    "# 'Ajay' here is \"argument\"\n",
    "print_name('Ajay')"
   ]
  },
  {
   "cell_type": "code",
   "execution_count": 9,
   "id": "2729e031-a2ba-44d8-a1e6-84e688dfc316",
   "metadata": {},
   "outputs": [
    {
     "name": "stdout",
     "output_type": "stream",
     "text": [
      "1 2 3\n",
      "1 2 3\n",
      "1 2 3\n",
      "1 2 3\n"
     ]
    }
   ],
   "source": [
    "def foo(a, b, c):\n",
    "    print(a, b, c)\n",
    "\n",
    "# positional arguments\n",
    "foo(1, 2, 3)\n",
    "\n",
    "# named arguments\n",
    "foo(a=1, b=2, c=3)\n",
    "\n",
    "# named arguments without order\n",
    "foo(a=1, c=3, b=2)\n",
    "\n",
    "# mix of positional argument and named arguments\n",
    "foo(1, c=3, b=2)\n",
    "\n",
    "# positional argument after named argument is NOT allowed\n",
    "# foo(1, b=2, 3)"
   ]
  },
  {
   "cell_type": "markdown",
   "id": "b42a3b57-3a66-4625-a067-3fb3a445f36f",
   "metadata": {},
   "source": [
    "## Functions with default arguments\n",
    "<div class=\"alert alert-block alert-warning\">\n",
    "Default arguments must be at end of function parameters\n",
    "</div>"
   ]
  },
  {
   "cell_type": "code",
   "execution_count": 12,
   "id": "7aa8fcbe-432d-47c8-afe1-d85723befdc2",
   "metadata": {},
   "outputs": [
    {
     "name": "stdout",
     "output_type": "stream",
     "text": [
      "1 2 3 4\n"
     ]
    }
   ],
   "source": [
    "def foo(a, b, c, d=4):\n",
    "    print(a, b, c, d)\n",
    "\n",
    "# pass only three argument as 4th has default\n",
    "foo(1, 2, c=3)"
   ]
  },
  {
   "cell_type": "markdown",
   "id": "bf4f7c6f-9948-411f-9120-ca0eb59d08e0",
   "metadata": {},
   "source": [
    "## Variable Length arguments"
   ]
  },
  {
   "cell_type": "code",
   "execution_count": 20,
   "id": "51ebfb96-5492-42fb-8729-c120f8612662",
   "metadata": {},
   "outputs": [
    {
     "name": "stdout",
     "output_type": "stream",
     "text": [
      "1 2\n",
      "3\n",
      "4\n",
      "5\n",
      "six 6\n",
      "seven 7\n"
     ]
    }
   ],
   "source": [
    "def foo(a, b, *args, **kwargs):\n",
    "    print(a, b)\n",
    "    for arg in args:\n",
    "        print(arg)\n",
    "    for key in kwargs:\n",
    "        print(key, kwargs[key])\n",
    "\n",
    "foo(1, 2, 3, 4, 5, six=6, seven=7)"
   ]
  },
  {
   "cell_type": "markdown",
   "id": "d4a0af46-2a59-4b20-bf43-9df7048f9ac7",
   "metadata": {},
   "source": [
    "## Enforce Keyword arguments"
   ]
  },
  {
   "cell_type": "code",
   "execution_count": 21,
   "id": "166a6de0-dd5b-4889-b93a-d008a5197c59",
   "metadata": {},
   "outputs": [
    {
     "name": "stdout",
     "output_type": "stream",
     "text": [
      "1 2 3 4\n"
     ]
    }
   ],
   "source": [
    "# Force every parameter after a, b to be a named parameter\n",
    "def foo(a, b, *, c, d):\n",
    "    print(a, b, c, d)\n",
    "\n",
    "foo(1, 2, c=3, d=4)"
   ]
  },
  {
   "cell_type": "code",
   "execution_count": 23,
   "id": "e03cfc7c-048e-4d6a-af8c-9694fa3c867f",
   "metadata": {},
   "outputs": [
    {
     "ename": "TypeError",
     "evalue": "foo() takes 2 positional arguments but 3 positional arguments (and 1 keyword-only argument) were given",
     "output_type": "error",
     "traceback": [
      "\u001b[0;31m---------------------------------------------------------------------------\u001b[0m",
      "\u001b[0;31mTypeError\u001b[0m                                 Traceback (most recent call last)",
      "Cell \u001b[0;32mIn[23], line 2\u001b[0m\n\u001b[1;32m      1\u001b[0m \u001b[38;5;66;03m# this is expected to fail\u001b[39;00m\n\u001b[0;32m----> 2\u001b[0m foo(\u001b[38;5;241m1\u001b[39m, \u001b[38;5;241m2\u001b[39m, \u001b[38;5;241m3\u001b[39m, d\u001b[38;5;241m=\u001b[39m\u001b[38;5;241m4\u001b[39m)\n",
      "\u001b[0;31mTypeError\u001b[0m: foo() takes 2 positional arguments but 3 positional arguments (and 1 keyword-only argument) were given"
     ]
    }
   ],
   "source": [
    "# this is expected to fail\n",
    "foo(1, 2, 3, d=4)"
   ]
  },
  {
   "cell_type": "code",
   "execution_count": 27,
   "id": "5dcc52cc-85f0-49c8-b8f4-7f0105085bd8",
   "metadata": {},
   "outputs": [
    {
     "name": "stdout",
     "output_type": "stream",
     "text": [
      "1\n",
      "2\n",
      "3\n",
      "4\n"
     ]
    }
   ],
   "source": [
    "# After args parameter, only keyword parameters are allowed\n",
    "def foo(*args, d):\n",
    "    for arg in args:\n",
    "        print(arg)\n",
    "    print(d)\n",
    "\n",
    "foo(1, 2, 3, d=4)"
   ]
  },
  {
   "cell_type": "code",
   "execution_count": 28,
   "id": "01c8ab91-2853-48da-8106-7f9338c7bf83",
   "metadata": {},
   "outputs": [
    {
     "ename": "TypeError",
     "evalue": "foo() missing 1 required keyword-only argument: 'd'",
     "output_type": "error",
     "traceback": [
      "\u001b[0;31m---------------------------------------------------------------------------\u001b[0m",
      "\u001b[0;31mTypeError\u001b[0m                                 Traceback (most recent call last)",
      "Cell \u001b[0;32mIn[28], line 2\u001b[0m\n\u001b[1;32m      1\u001b[0m \u001b[38;5;66;03m# this would fail\u001b[39;00m\n\u001b[0;32m----> 2\u001b[0m foo(\u001b[38;5;241m1\u001b[39m, \u001b[38;5;241m2\u001b[39m, \u001b[38;5;241m3\u001b[39m, \u001b[38;5;241m4\u001b[39m)\n",
      "\u001b[0;31mTypeError\u001b[0m: foo() missing 1 required keyword-only argument: 'd'"
     ]
    }
   ],
   "source": [
    "# this would fail\n",
    "foo(1, 2, 3, 4)"
   ]
  },
  {
   "cell_type": "markdown",
   "id": "1d15a34c-35b0-4653-9f6f-8bcde2136422",
   "metadata": {},
   "source": [
    "## Container unpacking into function arguments\n",
    "\n",
    "<div class=\"alert alert-block alert-info\">\n",
    "It is important that the length of tuple/list passed for unpacking should match total no of parameters.\n",
    "<br>\n",
    "For a dictionary, keys must match the parameter names.\n",
    "</div>"
   ]
  },
  {
   "cell_type": "code",
   "execution_count": 35,
   "id": "284bb948-051f-4c87-ba1c-aae9bfbf6824",
   "metadata": {},
   "outputs": [
    {
     "name": "stdout",
     "output_type": "stream",
     "text": [
      "0 1 2 4 5\n",
      "0 1 2 4 5\n"
     ]
    }
   ],
   "source": [
    "def foo(a, b, c, d, e=5):\n",
    "    print(a, b, c, d, e)\n",
    "\n",
    "my_list = [0, 1, 2]\n",
    "my_dict = dict(a=0, b=1, c=2)\n",
    "\n",
    "# unpack the list, and pass them as multiple arguments\n",
    "foo(*my_list, 4)\n",
    "\n",
    "# unpack the dict, and pass them as multiple arguments\n",
    "foo(**my_dict, d=4)"
   ]
  },
  {
   "cell_type": "markdown",
   "id": "c2da02f2-7e3a-44cf-8755-c1501aded1b2",
   "metadata": {},
   "source": [
    "## Local vs Global variables"
   ]
  },
  {
   "cell_type": "code",
   "execution_count": 42,
   "id": "366a07c7-f19b-4b8b-a700-a1e90c9adbb9",
   "metadata": {},
   "outputs": [
    {
     "name": "stdout",
     "output_type": "stream",
     "text": [
      "number (before): 0\n",
      "x: 0\n",
      "number (after): 0\n"
     ]
    }
   ],
   "source": [
    "# global variable readable, but immutable\n",
    "def foo():\n",
    "    x = number\n",
    "\n",
    "    print(f'x: {x}')\n",
    "\n",
    "number = 0\n",
    "\n",
    "print(f'number (before): {number}')\n",
    "foo()\n",
    "print(f'number (after): {number}')"
   ]
  },
  {
   "cell_type": "code",
   "execution_count": 43,
   "id": "c4105885-17d9-411b-bb30-b1fef2324c35",
   "metadata": {},
   "outputs": [
    {
     "name": "stdout",
     "output_type": "stream",
     "text": [
      "number (before): 0\n"
     ]
    },
    {
     "ename": "UnboundLocalError",
     "evalue": "cannot access local variable 'number' where it is not associated with a value",
     "output_type": "error",
     "traceback": [
      "\u001b[0;31m---------------------------------------------------------------------------\u001b[0m",
      "\u001b[0;31mUnboundLocalError\u001b[0m                         Traceback (most recent call last)",
      "Cell \u001b[0;32mIn[43], line 11\u001b[0m\n\u001b[1;32m      8\u001b[0m number \u001b[38;5;241m=\u001b[39m \u001b[38;5;241m0\u001b[39m\n\u001b[1;32m     10\u001b[0m \u001b[38;5;28mprint\u001b[39m(\u001b[38;5;124mf\u001b[39m\u001b[38;5;124m'\u001b[39m\u001b[38;5;124mnumber (before): \u001b[39m\u001b[38;5;132;01m{\u001b[39;00mnumber\u001b[38;5;132;01m}\u001b[39;00m\u001b[38;5;124m'\u001b[39m)\n\u001b[0;32m---> 11\u001b[0m foo()\n\u001b[1;32m     12\u001b[0m \u001b[38;5;28mprint\u001b[39m(\u001b[38;5;124mf\u001b[39m\u001b[38;5;124m'\u001b[39m\u001b[38;5;124mnumber (after): \u001b[39m\u001b[38;5;132;01m{\u001b[39;00mnumber\u001b[38;5;132;01m}\u001b[39;00m\u001b[38;5;124m'\u001b[39m)\n",
      "Cell \u001b[0;32mIn[43], line 4\u001b[0m, in \u001b[0;36mfoo\u001b[0;34m()\u001b[0m\n\u001b[1;32m      3\u001b[0m \u001b[38;5;28;01mdef\u001b[39;00m \u001b[38;5;21mfoo\u001b[39m():\n\u001b[0;32m----> 4\u001b[0m     x \u001b[38;5;241m=\u001b[39m number\n\u001b[1;32m      5\u001b[0m     number \u001b[38;5;241m=\u001b[39m \u001b[38;5;241m2\u001b[39m\n\u001b[1;32m      6\u001b[0m     \u001b[38;5;28mprint\u001b[39m(\u001b[38;5;124mf\u001b[39m\u001b[38;5;124m'\u001b[39m\u001b[38;5;124mx: \u001b[39m\u001b[38;5;132;01m{\u001b[39;00mx\u001b[38;5;132;01m}\u001b[39;00m\u001b[38;5;124m'\u001b[39m)\n",
      "\u001b[0;31mUnboundLocalError\u001b[0m: cannot access local variable 'number' where it is not associated with a value"
     ]
    }
   ],
   "source": [
    "# global variable readable, but immutable\n",
    "  # error due to conflict between global and local variable\n",
    "def foo():\n",
    "    x = number\n",
    "    number = 2\n",
    "    print(f'x: {x}')\n",
    "\n",
    "number = 0\n",
    "\n",
    "print(f'number (before): {number}')\n",
    "foo()\n",
    "print(f'number (after): {number}')"
   ]
  },
  {
   "cell_type": "code",
   "execution_count": 45,
   "id": "25fdff24-814a-4698-a805-dd8c8fac7370",
   "metadata": {},
   "outputs": [
    {
     "name": "stdout",
     "output_type": "stream",
     "text": [
      "number (before): 0\n",
      "x: 0\n",
      "number (after): 2\n"
     ]
    }
   ],
   "source": [
    "# global variable referenced in function, and modified\n",
    "def foo():\n",
    "    global number\n",
    "    x = number\n",
    "    number = 2\n",
    "    print(f'x: {x}')\n",
    "\n",
    "number = 0\n",
    "\n",
    "print(f'number (before): {number}')\n",
    "foo()\n",
    "print(f'number (after): {number}')"
   ]
  },
  {
   "cell_type": "markdown",
   "id": "b6482e0d-e696-49d0-8eae-f5f55fe5177b",
   "metadata": {},
   "source": [
    "## Parameter Parsing"
   ]
  },
  {
   "cell_type": "code",
   "execution_count": 48,
   "id": "cd7373e5-eeff-4770-b676-22e96193ef77",
   "metadata": {},
   "outputs": [
    {
     "name": "stdout",
     "output_type": "stream",
     "text": [
      "10\n"
     ]
    }
   ],
   "source": [
    "def foo(x:int):\n",
    "    x = 5\n",
    "\n",
    "var = 10\n",
    "\n",
    "# var is integer which is immutable type\n",
    "foo(var)\n",
    "print(var)"
   ]
  },
  {
   "cell_type": "code",
   "execution_count": 52,
   "id": "ebe3e30b-e3c2-4ce7-94a1-d4da8a9d8755",
   "metadata": {},
   "outputs": [
    {
     "name": "stdout",
     "output_type": "stream",
     "text": [
      "[-1, 2, 3, 4]\n"
     ]
    }
   ],
   "source": [
    "def foo(a_list):\n",
    "    a_list.append(4)\n",
    "    a_list[0] *= -1\n",
    "\n",
    "my_list = [1, 2, 3]\n",
    "\n",
    "# argument is list which is mutable type\n",
    "foo(my_list)\n",
    "print(my_list)"
   ]
  },
  {
   "cell_type": "markdown",
   "id": "d3c66606-16e4-4a5b-8fbb-3911e94e80b8",
   "metadata": {},
   "source": [
    "### Variable Scope & Assignment"
   ]
  },
  {
   "cell_type": "code",
   "execution_count": 54,
   "id": "0bb10ead-bd54-4e38-bd53-197921583cd6",
   "metadata": {},
   "outputs": [
    {
     "name": "stdout",
     "output_type": "stream",
     "text": [
      "[1, 2, 3]\n"
     ]
    }
   ],
   "source": [
    "def foo(a_list):\n",
    "    a_list = [200, 300, 400]\n",
    "    a_list.append(4)\n",
    "    a_list[0] *= -1\n",
    "\n",
    "my_list = [1, 2, 3]\n",
    "\n",
    "# We do not get changes made in function as the variable was rewinded, and a new allocation happended locally.\n",
    "foo(my_list)\n",
    "print(my_list)"
   ]
  },
  {
   "cell_type": "code",
   "execution_count": 57,
   "id": "fabaa0da-bbf5-4268-aec1-bffeb0a06961",
   "metadata": {},
   "outputs": [
    {
     "name": "stdout",
     "output_type": "stream",
     "text": [
      "[-1, 2, 3, 200, 300, 400, 4]\n"
     ]
    }
   ],
   "source": [
    "# PlusEqual will change the list\n",
    "def foo(a_list):\n",
    "    a_list += [200, 300, 400]\n",
    "    a_list.append(4)\n",
    "    a_list[0] *= -1\n",
    "\n",
    "my_list = [1, 2, 3]\n",
    "\n",
    "# Append in original list keeping reference alive\n",
    "foo(my_list)\n",
    "print(my_list)"
   ]
  },
  {
   "cell_type": "code",
   "execution_count": 59,
   "id": "053a5d00-3fc3-439a-83b3-9b4a4c78538e",
   "metadata": {},
   "outputs": [
    {
     "name": "stdout",
     "output_type": "stream",
     "text": [
      "[1, 2, 3]\n"
     ]
    }
   ],
   "source": [
    "# EqualTo will NOT change the list\n",
    "def foo(a_list):\n",
    "    a_list = a_list + [200, 300, 400]\n",
    "    a_list.append(4)\n",
    "    a_list[0] *= -1\n",
    "\n",
    "my_list = [1, 2, 3]\n",
    "\n",
    "# Append in original list keeping reference alive\n",
    "foo(my_list)\n",
    "print(my_list)"
   ]
  },
  {
   "cell_type": "code",
   "execution_count": 74,
   "id": "01a7920f-f778-41a2-8141-4e9981baf339",
   "metadata": {},
   "outputs": [
    {
     "name": "stdout",
     "output_type": "stream",
     "text": [
      "(0, 0, 0, 0, 0, 0, 0, 0, 0, 0)\n",
      "********************\n",
      "[0, 0, 0, 0, 0, 0, 0, 0, 0, 0]\n",
      "********************\n",
      "[0, 2, 10, 100, 5]\n",
      "6\n",
      "********************\n",
      "0\n",
      "[2, 10, 100, 5]\n",
      "6\n",
      "********************\n",
      "[1, 2, 3, 4, 5, 6]\n",
      "********************\n",
      "{'a': 1, 'b': 2, 'c': 3, 'd': 4}\n"
     ]
    }
   ],
   "source": [
    "my_tuple = (0,)*10\n",
    "my_list = [0]*10\n",
    "my_string = '**'*10\n",
    "numbers = [0, 2, 10, 100, 5, 6]\n",
    "numbers_tuple = (0, 2, 10, 100, 5, 6)\n",
    "\n",
    "print(my_tuple)\n",
    "print(my_string)\n",
    "print(my_list)\n",
    "print(my_string)\n",
    "\n",
    "*beggining, last = numbers\n",
    "print(beggining)\n",
    "print(last)\n",
    "\n",
    "# Notice that unpacked variable is List even when input is tuple\n",
    "beggining, *middle, last = numbers_tuple\n",
    "print(my_string)\n",
    "print(beggining)\n",
    "print(middle)\n",
    "print(last)\n",
    "\n",
    "# merge tuple and set into one\n",
    "my_tuple = (1, 2, 3)\n",
    "my_set = {4, 5, 6}\n",
    "\n",
    "my_list = [*my_tuple, *my_set]\n",
    "print(my_string)\n",
    "print(my_list)\n",
    "\n",
    "# merge 2 dictionary\n",
    "dict_a = {'a': 1, 'b': 2}\n",
    "dict_b = {'c': 3, 'd': 4}\n",
    "\n",
    "my_dict = {**dict_a, **dict_b}\n",
    "print(my_string)\n",
    "print(my_dict)"
   ]
  },
  {
   "cell_type": "code",
   "execution_count": 67,
   "id": "1534db4c-9e34-41be-86fd-ef46b3968286",
   "metadata": {},
   "outputs": [
    {
     "name": "stdout",
     "output_type": "stream",
     "text": [
      "12\n"
     ]
    }
   ],
   "source": [
    "def sum_of_three(a, b, c):\n",
    "    print(a+b+c)\n",
    "\n",
    "numbers = [0, 2, 10, 100, 5, 6]\n",
    "\n",
    "# unpack 1st three items of list to function arguments\n",
    "sum_of_three(*numbers[:3])"
   ]
  },
  {
   "cell_type": "code",
   "execution_count": null,
   "id": "450677d1-f924-4b08-8d40-778fbe458612",
   "metadata": {},
   "outputs": [],
   "source": []
  }
 ],
 "metadata": {
  "kernelspec": {
   "display_name": "Python 3 (ipykernel)",
   "language": "python",
   "name": "python3"
  },
  "language_info": {
   "codemirror_mode": {
    "name": "ipython",
    "version": 3
   },
   "file_extension": ".py",
   "mimetype": "text/x-python",
   "name": "python",
   "nbconvert_exporter": "python",
   "pygments_lexer": "ipython3",
   "version": "3.12.7"
  }
 },
 "nbformat": 4,
 "nbformat_minor": 5
}
