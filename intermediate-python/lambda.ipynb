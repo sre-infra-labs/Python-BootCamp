{
 "cells": [
  {
   "cell_type": "markdown",
   "id": "9b04e4b5",
   "metadata": {},
   "source": [
    "# lambda arguments: expression"
   ]
  },
  {
   "cell_type": "code",
   "execution_count": 11,
   "id": "d684247f",
   "metadata": {},
   "outputs": [
    {
     "name": "stdout",
     "output_type": "stream",
     "text": [
      "func call. add10_func => 15\n",
      "lambda call. add10 => 15\n",
      "lambda call. sqr(10) => 100\n",
      "lambda call. add_nums(1,2,10) => 13\n",
      "lambda call. add_nums(1,2,10) => 13\n"
     ]
    }
   ],
   "source": [
    "def add10_func(x):\n",
    "    return x + 10\n",
    "\n",
    "print(f'func call. add10_func => {add10_func(5)}')\n",
    "\n",
    "add10 = lambda x: x + 10\n",
    "print(f'lambda call. add10 => {add10(5)}')\n",
    "\n",
    "sqr = lambda x: x*x\n",
    "print(f'lambda call. sqr(10) => {sqr(10)}')\n",
    "\n",
    "# add multiple nos. Multiple lambda arguments\n",
    "add_nums = lambda *nums: sum(nums)\n",
    "print(f'lambda call. add_nums(1,2,10) => {add_nums(1,2,10)}')\n",
    "\n",
    "# add list items. List argument\n",
    "add_nums = lambda nums: sum(nums)\n",
    "print(f'lambda call. add_nums(1,2,10) => {add_nums([1,2,10])}')"
   ]
  },
  {
   "cell_type": "code",
   "execution_count": 12,
   "id": "286a4915",
   "metadata": {},
   "outputs": [
    {
     "name": "stdout",
     "output_type": "stream",
     "text": [
      "[(1, 2), (15, 1), (5, -1), (10, 4)]\n",
      "[(1, 2), (5, -1), (10, 4), (15, 1)]\n",
      "[(5, -1), (15, 1), (1, 2), (10, 4)]\n",
      "[(1, 2), (5, -1), (10, 4), (15, 1)]\n"
     ]
    }
   ],
   "source": [
    "points2D = [(1,2), (15,1), (5,-1), (10,4)]\n",
    "points2D_sorted = sorted(points2D)\n",
    "points2D_sorted_y = sorted(points2D, key=lambda x:x[1])\n",
    "points2D_sorted_sums = sorted(points2D, key=lambda x: x[0]+x[1])\n",
    "\n",
    "print(points2D)\n",
    "print(points2D_sorted)\n",
    "print(points2D_sorted_y)\n",
    "print(points2D_sorted_sums)"
   ]
  },
  {
   "cell_type": "code",
   "execution_count": 2,
   "id": "28c924f1",
   "metadata": {},
   "outputs": [
    {
     "name": "stdout",
     "output_type": "stream",
     "text": [
      "[{'name': 'Ajay', 'age': 35}, {'name': 'Priti', 'age': 32}, {'name': 'Anant', 'age': 2}, {'name': 'Saanvi', 'age': 5}]\n",
      "[{'name': 'Anant', 'age': 2}, {'name': 'Saanvi', 'age': 5}, {'name': 'Priti', 'age': 32}, {'name': 'Ajay', 'age': 35}]\n"
     ]
    }
   ],
   "source": [
    "# Real World Example 01\n",
    "persons = [{'name': 'Ajay', 'age':35}, {'name': 'Priti', 'age':32}, {'name': 'Anant', 'age':2}, {'name': 'Saanvi', 'age':5}]\n",
    "\n",
    "persons_sorted_by_age = sorted(persons, key=lambda person: person['age'])\n",
    "\n",
    "print(persons)\n",
    "print(persons_sorted_by_age)"
   ]
  },
  {
   "cell_type": "code",
   "execution_count": 3,
   "id": "74310d67",
   "metadata": {},
   "outputs": [
    {
     "name": "stdout",
     "output_type": "stream",
     "text": [
      "[('Ajay', 35, 'rewa'), ('Priti', 32, 'Nagpur'), ('Anant', 2, 'Hyd'), ('Saanvi', 5, 'Nagpur')]\n",
      "[('Anant', 2, 'Hyd'), ('Saanvi', 5, 'Nagpur'), ('Priti', 32, 'Nagpur'), ('Ajay', 35, 'rewa')]\n"
     ]
    }
   ],
   "source": [
    "# Real World Example 02\n",
    "persons = [('Ajay',35,'rewa'),('Priti',32,'Nagpur'),('Anant',2,'Hyd'),('Saanvi',5,'Nagpur')]\n",
    "\n",
    "persons_sorted_by_age = sorted(persons, key=lambda person: person[1])\n",
    "\n",
    "print(persons)\n",
    "print(persons_sorted_by_age)"
   ]
  },
  {
   "cell_type": "markdown",
   "id": "ea3b115c",
   "metadata": {},
   "source": [
    "## List comprehension"
   ]
  },
  {
   "cell_type": "code",
   "execution_count": 23,
   "id": "79014007",
   "metadata": {},
   "outputs": [
    {
     "name": "stdout",
     "output_type": "stream",
     "text": [
      "evens_sqr => [4, 16, 36]\n",
      "odds_cube => [1, 27, 125]\n",
      "a_transformed => [1, 4, 27, 16, 125, 36]\n",
      "a_transformed_lambda => [1, 4, 27, 16, 125, 36]\n"
     ]
    }
   ],
   "source": [
    "a = [1,2,3,4,5,6]\n",
    "\n",
    "evens_sqr = [x**2 for x in a if x%2==0]\n",
    "odds_cube = [x**3 for x in a if x%2==1]\n",
    "a_transformed = [x**2 if x%2==0 else x**3 for x in a]\n",
    "\n",
    "fn_sqr_cube = lambda x: x**2 if x%2==0 else x**3\n",
    "a_transformed_lambda = [fn_sqr_cube(x) for x in a]\n",
    "#a_transformed_lambda = [(lambda x: x**2 if x%2==0 else x**3)(x) for x in a]\n",
    "\n",
    "print(f'evens_sqr => {evens_sqr}')\n",
    "print(f'odds_cube => {odds_cube}')\n",
    "print(f'a_transformed => {a_transformed}')\n",
    "print(f'a_transformed_lambda => {a_transformed_lambda}')"
   ]
  },
  {
   "cell_type": "markdown",
   "id": "3e97044e",
   "metadata": {},
   "source": [
    "## map(func, seq)"
   ]
  },
  {
   "cell_type": "code",
   "execution_count": 29,
   "id": "89094e2a",
   "metadata": {},
   "outputs": [
    {
     "name": "stdout",
     "output_type": "stream",
     "text": [
      "[2, 4, 6, 8, 10]\n",
      "[2, 4, 6, 8, 10]\n"
     ]
    }
   ],
   "source": [
    "a = [1,2,3,4,5]\n",
    "\n",
    "# using map function\n",
    "b = map(lambda x: x*2, a)\n",
    "print(list(b))\n",
    "\n",
    "# using list comprehension\n",
    "b = [x*2 for x in a]\n",
    "print(b)"
   ]
  },
  {
   "cell_type": "markdown",
   "id": "8b11a1aa",
   "metadata": {},
   "source": [
    "## filter(func, seq)"
   ]
  },
  {
   "cell_type": "code",
   "execution_count": 49,
   "id": "7ae0a5b6",
   "metadata": {},
   "outputs": [
    {
     "name": "stdout",
     "output_type": "stream",
     "text": [
      "[0, 1, 2, 3, 4, 5, 6, 7, 8, 9]\n",
      "evens => [0, 2, 4, 6, 8]\n",
      "evens_sqr (map + filter) => [0, 4, 16, 36, 64]\n",
      "evens_sqr (list comprehension) => [0, 4, 16, 36, 64]\n",
      "odds_cube (filter + comprehension) => [1, 27, 125, 343, 729]\n",
      "odds_cube (list comprehension) => [1, 27, 125, 343, 729]\n"
     ]
    }
   ],
   "source": [
    "a = list(range(10))\n",
    "print(a)\n",
    "\n",
    "evens = filter(lambda x: x%2==0, a)\n",
    "print(f'evens => {list(evens)}')\n",
    "\n",
    "evens_sqr = map(lambda n: n**2, list(filter(lambda x: x%2==0, a)))\n",
    "print(f'evens_sqr (map + filter) => {list(evens_sqr)}')\n",
    "\n",
    "evens_sqr = [x**2 for x in a if x%2==0]\n",
    "print(f'evens_sqr (list comprehension) => {evens_sqr}')\n",
    "\n",
    "odds_cube = filter(lambda x: x%2==1, [n**3 for n in a])\n",
    "#odds_cube = map(lambda n: n**3, list(filter(lambda x: x%2==1, a)))\n",
    "print(f'odds_cube (filter + comprehension) => {list(odds_cube)}')\n",
    "\n",
    "odds_cube = [x**3 for x in a if x%2==1]\n",
    "print(f'odds_cube (list comprehension) => {odds_cube}')\n"
   ]
  },
  {
   "cell_type": "code",
   "execution_count": 8,
   "id": "eaff950e",
   "metadata": {},
   "outputs": [
    {
     "name": "stdout",
     "output_type": "stream",
     "text": [
      "[{'name': 'Ajay', 'age': 35}, {'name': 'Priti', 'age': 32}]\n"
     ]
    }
   ],
   "source": [
    "# Real World Example 01\n",
    "persons = [{'name': 'Ajay', 'age':35}, {'name': 'Priti', 'age':32}, {'name': 'Anant', 'age':2}, {'name': 'Saanvi', 'age':5}]\n",
    "\n",
    "adults = filter(lambda person: person['age']>= 18, persons)\n",
    "print(list(adults))"
   ]
  },
  {
   "cell_type": "markdown",
   "id": "44503248",
   "metadata": {},
   "source": [
    "## reduce (func, seq)"
   ]
  },
  {
   "cell_type": "code",
   "execution_count": 14,
   "id": "c6392700",
   "metadata": {},
   "outputs": [
    {
     "name": "stdout",
     "output_type": "stream",
     "text": [
      "24\n"
     ]
    }
   ],
   "source": [
    "from functools import reduce\n",
    "a = [1, 2, 3, 4]\n",
    "\n",
    "product_a = reduce(lambda x,y: x*y, a)\n",
    "print(product_a)"
   ]
  },
  {
   "cell_type": "code",
   "execution_count": 14,
   "id": "c7641f2c",
   "metadata": {},
   "outputs": [
    {
     "name": "stdout",
     "output_type": "stream",
     "text": [
      "5\n"
     ]
    }
   ],
   "source": [
    "# Real World Example 02\n",
    "from functools import reduce\n",
    "nums = [1,2,3,4,5,3]\n",
    "\n",
    "max_of_nums = reduce(lambda x,y: x if x>=y else y, nums)\n",
    "\n",
    "print(max_of_nums)"
   ]
  },
  {
   "cell_type": "code",
   "execution_count": 18,
   "id": "954f9f50",
   "metadata": {},
   "outputs": [
    {
     "name": "stdout",
     "output_type": "stream",
     "text": [
      "Senior => {'name': 'Ajay', 'age': 35}\n",
      "Junior => {'name': 'Anant', 'age': 2}\n"
     ]
    }
   ],
   "source": [
    "# Real World Example 03\n",
    "persons = [{'name': 'Ajay', 'age':35}, {'name': 'Priti', 'age':32}, {'name': 'Anant', 'age':2}, {'name': 'Saanvi', 'age':5}]\n",
    "\n",
    "senior = reduce(lambda m,p: m if m['age']>=p['age'] else p, persons)\n",
    "print(f\"Senior => {senior}\")\n",
    "\n",
    "junior = reduce(lambda m,p: m if m['age']<=p['age'] else p, persons)\n",
    "print(f\"Junior => {junior}\")"
   ]
  },
  {
   "cell_type": "code",
   "execution_count": null,
   "id": "afb9255c-b715-4ffb-a45a-5490f199eef9",
   "metadata": {},
   "outputs": [],
   "source": []
  }
 ],
 "metadata": {
  "kernelspec": {
   "display_name": "Python 3 (ipykernel)",
   "language": "python",
   "name": "python3"
  },
  "language_info": {
   "codemirror_mode": {
    "name": "ipython",
    "version": 3
   },
   "file_extension": ".py",
   "mimetype": "text/x-python",
   "name": "python",
   "nbconvert_exporter": "python",
   "pygments_lexer": "ipython3",
   "version": "3.12.7"
  }
 },
 "nbformat": 4,
 "nbformat_minor": 5
}
