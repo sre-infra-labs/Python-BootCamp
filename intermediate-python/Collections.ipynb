{
 "cells": [
  {
   "cell_type": "markdown",
   "id": "bd2aa0f7",
   "metadata": {},
   "source": [
    "# Collections: Counter, namedtuple, OrderedDict, defaultdict, deque"
   ]
  },
  {
   "cell_type": "markdown",
   "id": "8058985b",
   "metadata": {},
   "source": [
    "## Counter"
   ]
  },
  {
   "cell_type": "code",
   "execution_count": 4,
   "id": "2a5dbfa9",
   "metadata": {},
   "outputs": [
    {
     "name": "stdout",
     "output_type": "stream",
     "text": [
      "Counter({1: 4, 2: 2, 3: 2, 4: 1, 5: 1})\n",
      "dict_keys([1, 2, 4, 3, 5])\n",
      "dict_values([4, 2, 1, 2, 1])\n",
      "[1, 1, 1, 1, 2, 2, 4, 3, 3, 5]\n",
      "dict_items([(1, 4), (2, 2), (4, 1), (3, 2), (5, 1)])\n"
     ]
    }
   ],
   "source": [
    "from collections import Counter\n",
    "\n",
    "a = [1,2,4,3,3,5,1,1,1,2]\n",
    "\n",
    "my_counter = Counter(a)\n",
    "\n",
    "print(my_counter)\n",
    "print(my_counter.keys())\n",
    "print(my_counter.values())\n",
    "print(list(my_counter.elements()))\n",
    "print(my_counter.items())\n"
   ]
  },
  {
   "cell_type": "markdown",
   "id": "283e44f2",
   "metadata": {},
   "source": [
    "## namedtuple"
   ]
  },
  {
   "cell_type": "code",
   "execution_count": 6,
   "id": "357ab0df",
   "metadata": {},
   "outputs": [
    {
     "name": "stdout",
     "output_type": "stream",
     "text": [
      "[Workstation] => Workstation,prod\n",
      "[Practice] => Practice,dev\n"
     ]
    }
   ],
   "source": [
    "from collections import namedtuple\n",
    "servers_result = list()\n",
    "\n",
    "# create list to store query result for all servers\n",
    "Server = namedtuple('Server','name, result')\n",
    "\n",
    "# store 1st server result\n",
    "srv_result_obj = Server('Workstation',(dict(sql_instance='Workstation', env='prod')))\n",
    "servers_result.append(srv_result_obj)\n",
    "\n",
    "servers_result.append(Server('Practice',(dict(sql_instance='Practice', env='dev'))))\n",
    "\n",
    "for srv in servers_result:\n",
    "    print(f\"[{srv.name}] => {srv.result['sql_instance']},{srv.result['env']}\")"
   ]
  },
  {
   "cell_type": "markdown",
   "id": "1fd0ddb2",
   "metadata": {},
   "source": [
    "## defaultdict"
   ]
  },
  {
   "cell_type": "code",
   "execution_count": 2,
   "id": "99f2017a",
   "metadata": {},
   "outputs": [
    {
     "name": "stdout",
     "output_type": "stream",
     "text": [
      "d => defaultdict(<class 'int'>, {'a': 1, 'b': 2})\n",
      "d['a'] => 1\n",
      "d['c'] => 0\n"
     ]
    }
   ],
   "source": [
    "from collections import defaultdict\n",
    "\n",
    "# default int\n",
    "d = defaultdict(int)\n",
    "d['a'] = 1\n",
    "d['b'] = 2\n",
    "\n",
    "print(f'd => {d}')\n",
    "print(f\"d['a'] => {d['a']}\")\n",
    "print(f\"d['c'] => {d['c']}\")"
   ]
  },
  {
   "cell_type": "code",
   "execution_count": 7,
   "id": "0e818936",
   "metadata": {},
   "outputs": [
    {
     "name": "stdout",
     "output_type": "stream",
     "text": [
      "d => defaultdict(<class 'float'>, {'a': 1, 'b': 2})\n",
      "d['a'] => 1\n",
      "d['c'] => 0.0\n"
     ]
    }
   ],
   "source": [
    "from collections import defaultdict\n",
    "\n",
    "# default float\n",
    "d = defaultdict(float)\n",
    "d['a'] = 1\n",
    "d['b'] = 2\n",
    "\n",
    "print(f'd => {d}')\n",
    "print(f\"d['a'] => {d['a']}\")\n",
    "print(f\"d['c'] => {d['c']}\")"
   ]
  },
  {
   "cell_type": "code",
   "execution_count": 34,
   "id": "5db8ccea",
   "metadata": {},
   "outputs": [
    {
     "name": "stdout",
     "output_type": "stream",
     "text": [
      "dict_keys(['Workstation', 'Practice', 'SqlMonitor'])\n",
      "dict_values([{'sql_instance': 'Workstation', 'env': 'prod'}, {'sql_instance': 'Practice', 'env': 'dev'}, None])\n",
      "Workstation => prod\n",
      "Practice => dev\n",
      "None\n"
     ]
    }
   ],
   "source": [
    "from collections import defaultdict\n",
    "\n",
    "srv = defaultdict(list)\n",
    "\n",
    "srv['Workstation'] = dict(sql_instance='Workstation',env='prod')\n",
    "srv['Practice'] = dict(sql_instance='Practice',env='dev')\n",
    "srv['SqlMonitor'] = None\n",
    "\n",
    "print(srv.keys())\n",
    "print(srv.values())\n",
    "\n",
    "for srv in srv.values():\n",
    "    if srv == None:\n",
    "        print('None')\n",
    "    else:\n",
    "        print(srv[sql_instance],'=>',srv[env])"
   ]
  },
  {
   "cell_type": "markdown",
   "id": "3a691373-ff54-49f7-bf26-96f3b79d368b",
   "metadata": {},
   "source": [
    "## deque"
   ]
  },
  {
   "cell_type": "code",
   "execution_count": 12,
   "id": "c11a243d-0b83-449a-82b3-6f112c547dd2",
   "metadata": {},
   "outputs": [
    {
     "name": "stdout",
     "output_type": "stream",
     "text": [
      "deque([3, 1, 2])\n",
      "deque([3, 1])\n",
      "deque([1])\n",
      "deque([8, 7, 1, 4, 5, 6])\n",
      "deque([6, 8, 7, 1, 4, 5])\n",
      "deque([8, 7, 1, 4, 5, 6])\n",
      "deque([5, 6, 8, 7, 1, 4])\n",
      "deque([])\n"
     ]
    }
   ],
   "source": [
    "from collections import deque\n",
    "\n",
    "d = deque()\n",
    "\n",
    "d.append(1)\n",
    "d.append(2)\n",
    "\n",
    "d.appendleft(3)\n",
    "print(d)\n",
    "\n",
    "d.pop()\n",
    "print(d)\n",
    "\n",
    "d.popleft()\n",
    "print(d)\n",
    "\n",
    "d.extend([4,5,6])\n",
    "d.extendleft([7,8])\n",
    "print(d)\n",
    "\n",
    "d.rotate()\n",
    "print(d)\n",
    "\n",
    "d.rotate(-1)\n",
    "print(d)\n",
    "\n",
    "d.rotate(2)\n",
    "print(d)\n",
    "\n",
    "d.clear()\n",
    "print(d)\n"
   ]
  },
  {
   "cell_type": "code",
   "execution_count": null,
   "id": "5def58b6-5b4c-4503-bf1b-64d0390f4791",
   "metadata": {},
   "outputs": [],
   "source": []
  }
 ],
 "metadata": {
  "kernelspec": {
   "display_name": "Python 3 (ipykernel)",
   "language": "python",
   "name": "python3"
  },
  "language_info": {
   "codemirror_mode": {
    "name": "ipython",
    "version": 3
   },
   "file_extension": ".py",
   "mimetype": "text/x-python",
   "name": "python",
   "nbconvert_exporter": "python",
   "pygments_lexer": "ipython3",
   "version": "3.12.7"
  }
 },
 "nbformat": 4,
 "nbformat_minor": 5
}
