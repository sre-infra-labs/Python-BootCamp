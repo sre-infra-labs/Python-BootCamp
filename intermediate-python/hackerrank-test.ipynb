{
 "cells": [
  {
   "cell_type": "markdown",
   "id": "56961bb0-8ad4-482b-93d4-92874fa946b7",
   "metadata": {},
   "source": [
    "# FizzBuzz"
   ]
  },
  {
   "cell_type": "code",
   "execution_count": 3,
   "id": "7a2ee66d-38d5-40d6-82e3-485b158e5ab5",
   "metadata": {},
   "outputs": [
    {
     "name": "stdout",
     "output_type": "stream",
     "text": [
      "1\n",
      "2\n",
      "Fizz\n",
      "4\n",
      "Buzz\n",
      "Fizz\n",
      "7\n",
      "8\n",
      "Fizz\n",
      "Buzz\n",
      "11\n",
      "Fizz\n",
      "13\n",
      "14\n",
      "FizzBuzz\n",
      "16\n",
      "17\n",
      "Fizz\n",
      "19\n",
      "Buzz\n"
     ]
    }
   ],
   "source": [
    "def fizzBuzz(n):\n",
    "    for i in range(1,n+1):\n",
    "        if i%3==0 and i%5==0:\n",
    "            print(f'FizzBuzz')\n",
    "        elif i%3==0:\n",
    "            print(f'Fizz')\n",
    "        elif i%5==0:\n",
    "            print(f'Buzz')\n",
    "        else:\n",
    "            print(f'{i}')\n",
    "\n",
    "fizzBuzz(20)"
   ]
  },
  {
   "cell_type": "code",
   "execution_count": null,
   "id": "6b1e9767-77cb-4664-a192-f2cccea1454d",
   "metadata": {},
   "outputs": [],
   "source": []
  }
 ],
 "metadata": {
  "kernelspec": {
   "display_name": "Python 3 (ipykernel)",
   "language": "python",
   "name": "python3"
  },
  "language_info": {
   "codemirror_mode": {
    "name": "ipython",
    "version": 3
   },
   "file_extension": ".py",
   "mimetype": "text/x-python",
   "name": "python",
   "nbconvert_exporter": "python",
   "pygments_lexer": "ipython3",
   "version": "3.12.7"
  }
 },
 "nbformat": 4,
 "nbformat_minor": 5
}
